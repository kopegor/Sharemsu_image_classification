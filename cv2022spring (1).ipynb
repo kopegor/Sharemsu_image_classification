{
 "cells": [
  {
   "cell_type": "code",
   "execution_count": 6,
   "metadata": {
    "id": "1zOjggaXf94y"
   },
   "outputs": [],
   "source": [
    "import numpy as np\n",
    "import pandas as pd\n",
    "import pickle\n",
    "from skimage import io, transform\n",
    "\n",
    "from tqdm import tqdm, tqdm_notebook\n",
    "from PIL import Image\n",
    "from pathlib import Path\n",
    "\n",
    "import torch\n",
    "from torch.optim import lr_scheduler\n",
    "from torchvision import transforms\n",
    "from multiprocessing.pool import ThreadPool\n",
    "from sklearn.preprocessing import LabelEncoder\n",
    "from torch.utils.data import Dataset, DataLoader\n",
    "import torch.nn as nn"
   ]
  },
  {
   "cell_type": "code",
   "execution_count": 7,
   "metadata": {
    "id": "sKtt4aBjaZFw"
   },
   "outputs": [],
   "source": [
    "from torchvision import models\n",
    "from torch.optim import lr_scheduler"
   ]
  },
  {
   "cell_type": "code",
   "execution_count": 8,
   "metadata": {
    "id": "btcS-GiejNLh"
   },
   "outputs": [],
   "source": [
    "from PIL import Image"
   ]
  },
  {
   "cell_type": "code",
   "execution_count": 9,
   "metadata": {
    "id": "oICfCNGxnhBZ"
   },
   "outputs": [],
   "source": [
    "import matplotlib.pyplot as plt"
   ]
  },
  {
   "cell_type": "code",
   "execution_count": 10,
   "metadata": {
    "id": "DtWoNHOsh-N4"
   },
   "outputs": [],
   "source": [
    "import random\n",
    "import os\n",
    "import albumentations as alb"
   ]
  },
  {
   "cell_type": "code",
   "execution_count": 11,
   "metadata": {
    "id": "e3wTV72Ahuuq"
   },
   "outputs": [],
   "source": [
    "import warnings\n",
    "warnings.filterwarnings(action='ignore')"
   ]
  },
  {
   "cell_type": "markdown",
   "metadata": {
    "id": "VbbqMdSktJpi"
   },
   "source": [
    "# Data processing"
   ]
  },
  {
   "cell_type": "code",
   "execution_count": 12,
   "metadata": {
    "colab": {
     "base_uri": "https://localhost:8080/"
    },
    "id": "Mwl0HXwNjABc",
    "outputId": "36f5749f-2162-4a10-9bfb-0ddeb85a7c74"
   },
   "outputs": [
    {
     "name": "stdout",
     "output_type": "stream",
     "text": [
      "Drive already mounted at /content/gdrive/; to attempt to forcibly remount, call drive.mount(\"/content/gdrive/\", force_remount=True).\n"
     ]
    }
   ],
   "source": [
    "from google.colab import drive\n",
    "drive.mount('/content/gdrive/')"
   ]
  },
  {
   "cell_type": "code",
   "execution_count": 13,
   "metadata": {
    "colab": {
     "base_uri": "https://localhost:8080/"
    },
    "id": "k7KDYzAPjSGr",
    "outputId": "19520d0d-9040-4b8e-945d-6e3e345aa2fa"
   },
   "outputs": [
    {
     "name": "stdout",
     "output_type": "stream",
     "text": [
      "replace sample_submission.csv? [y]es, [n]o, [A]ll, [N]one, [r]ename: A\n"
     ]
    }
   ],
   "source": [
    "!unzip -q /content/gdrive/My\\ Drive/cv2022spring.zip"
   ]
  },
  {
   "cell_type": "code",
   "execution_count": 14,
   "metadata": {
    "colab": {
     "base_uri": "https://localhost:8080/"
    },
    "id": "kw3niYCGi0UU",
    "outputId": "655c3ce0-4599-4d8d-e8c6-3c3ffb29d4c3"
   },
   "outputs": [
    {
     "data": {
      "text/plain": [
       "True"
      ]
     },
     "execution_count": 14,
     "metadata": {},
     "output_type": "execute_result"
    }
   ],
   "source": [
    "torch.cuda.is_available()"
   ]
  },
  {
   "cell_type": "code",
   "execution_count": 15,
   "metadata": {
    "id": "UYEqfOEi59YI"
   },
   "outputs": [],
   "source": [
    "DEVICE = torch.device('cuda')"
   ]
  },
  {
   "cell_type": "code",
   "execution_count": 16,
   "metadata": {
    "colab": {
     "base_uri": "https://localhost:8080/"
    },
    "id": "v6Tu5AGvjz0S",
    "outputId": "635827d2-f0f6-420d-8260-51ec7d4dae1f"
   },
   "outputs": [
    {
     "name": "stdout",
     "output_type": "stream",
     "text": [
      "Mon Apr 25 16:17:37 2022       \n",
      "+-----------------------------------------------------------------------------+\n",
      "| NVIDIA-SMI 460.32.03    Driver Version: 460.32.03    CUDA Version: 11.2     |\n",
      "|-------------------------------+----------------------+----------------------+\n",
      "| GPU  Name        Persistence-M| Bus-Id        Disp.A | Volatile Uncorr. ECC |\n",
      "| Fan  Temp  Perf  Pwr:Usage/Cap|         Memory-Usage | GPU-Util  Compute M. |\n",
      "|                               |                      |               MIG M. |\n",
      "|===============================+======================+======================|\n",
      "|   0  Tesla K80           Off  | 00000000:00:04.0 Off |                    0 |\n",
      "| N/A   41C    P8    27W / 149W |      3MiB / 11441MiB |      0%      Default |\n",
      "|                               |                      |                  N/A |\n",
      "+-------------------------------+----------------------+----------------------+\n",
      "                                                                               \n",
      "+-----------------------------------------------------------------------------+\n",
      "| Processes:                                                                  |\n",
      "|  GPU   GI   CI        PID   Type   Process name                  GPU Memory |\n",
      "|        ID   ID                                                   Usage      |\n",
      "|=============================================================================|\n",
      "|  No running processes found                                                 |\n",
      "+-----------------------------------------------------------------------------+\n"
     ]
    }
   ],
   "source": [
    "!nvidia-smi"
   ]
  },
  {
   "cell_type": "code",
   "execution_count": 17,
   "metadata": {
    "id": "a4PV0QPnidiD"
   },
   "outputs": [],
   "source": [
    "directory = os.fsencode('/content/train/train/train')\n",
    "train_names = {}\n",
    "\n",
    "for file in os.listdir(directory):\n",
    "  filename = os.fsdecode(file)\n",
    "  for img in os.listdir('/content/train/train/train/'+filename):\n",
    "    img_name = os.fsdecode(img)\n",
    "    train_names.update({'/content/train/train/train/'+filename+'/'+img_name: int(filename[6:])})"
   ]
  },
  {
   "cell_type": "code",
   "execution_count": null,
   "metadata": {
    "colab": {
     "base_uri": "https://localhost:8080/"
    },
    "collapsed": true,
    "id": "YUSchbIAidAd",
    "outputId": "d7f2f7fd-baf6-41ca-9612-b1fe59edf97b"
   },
   "outputs": [
    {
     "data": {
      "text/plain": [
       "{'/content/train/train/train/class_064/Image_029.png': 64,\n",
       " '/content/train/train/train/class_064/Image_073.png': 64,\n",
       " '/content/train/train/train/class_064/Image_001.png': 64,\n",
       " '/content/train/train/train/class_064/Image_062.png': 64,\n",
       " '/content/train/train/train/class_064/Image_090.png': 64,\n",
       " '/content/train/train/train/class_064/Image_044.png': 64,\n",
       " '/content/train/train/train/class_064/Image_113.png': 64,\n",
       " '/content/train/train/train/class_064/Image_083.png': 64,\n",
       " '/content/train/train/train/class_064/Image_013.png': 64,\n",
       " '/content/train/train/train/class_064/Image_011.png': 64,\n",
       " '/content/train/train/train/class_064/Image_041.png': 64,\n",
       " '/content/train/train/train/class_064/Image_096.png': 64,\n",
       " '/content/train/train/train/class_064/Image_045.png': 64,\n",
       " '/content/train/train/train/class_064/Image_018.png': 64,\n",
       " '/content/train/train/train/class_064/Image_026.png': 64,\n",
       " '/content/train/train/train/class_064/Image_015.png': 64,\n",
       " '/content/train/train/train/class_064/Image_102.png': 64,\n",
       " '/content/train/train/train/class_064/Image_063.png': 64,\n",
       " '/content/train/train/train/class_064/Image_031.png': 64,\n",
       " '/content/train/train/train/class_064/Image_105.png': 64,\n",
       " '/content/train/train/train/class_064/Image_012.png': 64,\n",
       " '/content/train/train/train/class_064/Image_124.png': 64,\n",
       " '/content/train/train/train/class_064/Image_109.png': 64,\n",
       " '/content/train/train/train/class_064/Image_036.png': 64,\n",
       " '/content/train/train/train/class_064/Image_020.png': 64,\n",
       " '/content/train/train/train/class_064/Image_007.png': 64,\n",
       " '/content/train/train/train/class_064/Image_068.png': 64,\n",
       " '/content/train/train/train/class_064/Image_098.png': 64,\n",
       " '/content/train/train/train/class_064/Image_065.png': 64,\n",
       " '/content/train/train/train/class_064/Image_053.png': 64,\n",
       " '/content/train/train/train/class_064/Image_022.png': 64,\n",
       " '/content/train/train/train/class_064/Image_072.png': 64,\n",
       " '/content/train/train/train/class_064/Image_028.png': 64,\n",
       " '/content/train/train/train/class_064/Image_107.png': 64,\n",
       " '/content/train/train/train/class_064/Image_097.png': 64,\n",
       " '/content/train/train/train/class_064/Image_111.png': 64,\n",
       " '/content/train/train/train/class_064/Image_058.png': 64,\n",
       " '/content/train/train/train/class_064/Image_017.png': 64,\n",
       " '/content/train/train/train/class_064/Image_014.png': 64,\n",
       " '/content/train/train/train/class_064/Image_042.png': 64,\n",
       " '/content/train/train/train/class_064/Image_056.png': 64,\n",
       " '/content/train/train/train/class_064/Image_060.png': 64,\n",
       " '/content/train/train/train/class_064/Image_032.png': 64,\n",
       " '/content/train/train/train/class_064/Image_110.png': 64,\n",
       " '/content/train/train/train/class_064/Image_034.png': 64,\n",
       " '/content/train/train/train/class_064/Image_104.png': 64,\n",
       " '/content/train/train/train/class_064/Image_122.png': 64,\n",
       " '/content/train/train/train/class_064/Image_103.png': 64,\n",
       " '/content/train/train/train/class_064/Image_064.png': 64,\n",
       " '/content/train/train/train/class_064/Image_004.png': 64,\n",
       " '/content/train/train/train/class_064/Image_043.png': 64,\n",
       " '/content/train/train/train/class_064/Image_087.png': 64,\n",
       " '/content/train/train/train/class_064/Image_005.png': 64,\n",
       " '/content/train/train/train/class_064/Image_038.png': 64,\n",
       " '/content/train/train/train/class_064/Image_120.png': 64,\n",
       " '/content/train/train/train/class_064/Image_010.png': 64,\n",
       " '/content/train/train/train/class_064/Image_075.png': 64,\n",
       " '/content/train/train/train/class_064/Image_016.png': 64,\n",
       " '/content/train/train/train/class_064/Image_055.png': 64,\n",
       " '/content/train/train/train/class_064/Image_080.png': 64,\n",
       " '/content/train/train/train/class_064/Image_023.png': 64,\n",
       " '/content/train/train/train/class_064/Image_106.png': 64,\n",
       " '/content/train/train/train/class_064/Image_101.png': 64,\n",
       " '/content/train/train/train/class_064/Image_070.png': 64,\n",
       " '/content/train/train/train/class_064/Image_112.png': 64,\n",
       " '/content/train/train/train/class_064/Image_093.png': 64,\n",
       " '/content/train/train/train/class_064/Image_049.png': 64,\n",
       " '/content/train/train/train/class_064/Image_052.png': 64,\n",
       " '/content/train/train/train/class_064/Image_047.png': 64,\n",
       " '/content/train/train/train/class_064/Image_008.png': 64,\n",
       " '/content/train/train/train/class_064/Image_066.png': 64,\n",
       " '/content/train/train/train/class_064/Image_094.png': 64,\n",
       " '/content/train/train/train/class_064/Image_118.png': 64,\n",
       " '/content/train/train/train/class_064/Image_116.png': 64,\n",
       " '/content/train/train/train/class_064/Image_086.png': 64,\n",
       " '/content/train/train/train/class_064/Image_088.png': 64,\n",
       " '/content/train/train/train/class_064/Image_040.png': 64,\n",
       " '/content/train/train/train/class_064/Image_054.png': 64,\n",
       " '/content/train/train/train/class_064/Image_071.png': 64,\n",
       " '/content/train/train/train/class_064/Image_117.png': 64,\n",
       " '/content/train/train/train/class_064/Image_059.png': 64,\n",
       " '/content/train/train/train/class_064/Image_009.png': 64,\n",
       " '/content/train/train/train/class_064/Image_123.png': 64,\n",
       " '/content/train/train/train/class_064/Image_114.png': 64,\n",
       " '/content/train/train/train/class_064/Image_048.png': 64,\n",
       " '/content/train/train/train/class_064/Image_089.png': 64,\n",
       " '/content/train/train/train/class_064/Image_099.png': 64,\n",
       " '/content/train/train/train/class_064/Image_000.png': 64,\n",
       " '/content/train/train/train/class_064/Image_003.png': 64,\n",
       " '/content/train/train/train/class_064/Image_035.png': 64,\n",
       " '/content/train/train/train/class_064/Image_091.png': 64,\n",
       " '/content/train/train/train/class_064/Image_092.png': 64,\n",
       " '/content/train/train/train/class_064/Image_051.png': 64,\n",
       " '/content/train/train/train/class_064/Image_085.png': 64,\n",
       " '/content/train/train/train/class_064/Image_061.png': 64,\n",
       " '/content/train/train/train/class_064/Image_030.png': 64,\n",
       " '/content/train/train/train/class_064/Image_037.png': 64,\n",
       " '/content/train/train/train/class_064/Image_067.png': 64,\n",
       " '/content/train/train/train/class_064/Image_006.png': 64,\n",
       " '/content/train/train/train/class_064/Image_119.png': 64,\n",
       " '/content/train/train/train/class_064/Image_084.png': 64,\n",
       " '/content/train/train/train/class_064/Image_076.png': 64,\n",
       " '/content/train/train/train/class_064/Image_078.png': 64,\n",
       " '/content/train/train/train/class_064/Image_046.png': 64,\n",
       " '/content/train/train/train/class_064/Image_002.png': 64,\n",
       " '/content/train/train/train/class_064/Image_095.png': 64,\n",
       " '/content/train/train/train/class_064/Image_019.png': 64,\n",
       " '/content/train/train/train/class_064/Image_077.png': 64,\n",
       " '/content/train/train/train/class_064/Image_025.png': 64,\n",
       " '/content/train/train/train/class_064/Image_057.png': 64,\n",
       " '/content/train/train/train/class_064/Image_081.png': 64,\n",
       " '/content/train/train/train/class_064/Image_121.png': 64,\n",
       " '/content/train/train/train/class_064/Image_039.png': 64,\n",
       " '/content/train/train/train/class_064/Image_100.png': 64,\n",
       " '/content/train/train/train/class_064/Image_115.png': 64,\n",
       " '/content/train/train/train/class_064/Image_082.png': 64,\n",
       " '/content/train/train/train/class_064/Image_033.png': 64,\n",
       " '/content/train/train/train/class_064/Image_024.png': 64,\n",
       " '/content/train/train/train/class_064/Image_074.png': 64,\n",
       " '/content/train/train/train/class_064/Image_027.png': 64,\n",
       " '/content/train/train/train/class_064/Image_108.png': 64,\n",
       " '/content/train/train/train/class_064/Image_021.png': 64,\n",
       " '/content/train/train/train/class_064/Image_050.png': 64,\n",
       " '/content/train/train/train/class_064/Image_069.png': 64,\n",
       " '/content/train/train/train/class_064/Image_079.png': 64,\n",
       " '/content/train/train/train/class_038/Image_029.png': 38,\n",
       " '/content/train/train/train/class_038/Image_073.png': 38,\n",
       " '/content/train/train/train/class_038/Image_001.png': 38,\n",
       " '/content/train/train/train/class_038/Image_062.png': 38,\n",
       " '/content/train/train/train/class_038/Image_090.png': 38,\n",
       " '/content/train/train/train/class_038/Image_044.png': 38,\n",
       " '/content/train/train/train/class_038/Image_113.png': 38,\n",
       " '/content/train/train/train/class_038/Image_083.png': 38,\n",
       " '/content/train/train/train/class_038/Image_013.png': 38,\n",
       " '/content/train/train/train/class_038/Image_011.png': 38,\n",
       " '/content/train/train/train/class_038/Image_041.png': 38,\n",
       " '/content/train/train/train/class_038/Image_096.png': 38,\n",
       " '/content/train/train/train/class_038/Image_045.png': 38,\n",
       " '/content/train/train/train/class_038/Image_127.png': 38,\n",
       " '/content/train/train/train/class_038/Image_018.png': 38,\n",
       " '/content/train/train/train/class_038/Image_026.png': 38,\n",
       " '/content/train/train/train/class_038/Image_015.png': 38,\n",
       " '/content/train/train/train/class_038/Image_102.png': 38,\n",
       " '/content/train/train/train/class_038/Image_063.png': 38,\n",
       " '/content/train/train/train/class_038/Image_031.png': 38,\n",
       " '/content/train/train/train/class_038/Image_105.png': 38,\n",
       " '/content/train/train/train/class_038/Image_012.png': 38,\n",
       " '/content/train/train/train/class_038/Image_124.png': 38,\n",
       " '/content/train/train/train/class_038/Image_109.png': 38,\n",
       " '/content/train/train/train/class_038/Image_128.png': 38,\n",
       " '/content/train/train/train/class_038/Image_036.png': 38,\n",
       " '/content/train/train/train/class_038/Image_020.png': 38,\n",
       " '/content/train/train/train/class_038/Image_007.png': 38,\n",
       " '/content/train/train/train/class_038/Image_068.png': 38,\n",
       " '/content/train/train/train/class_038/Image_098.png': 38,\n",
       " '/content/train/train/train/class_038/Image_065.png': 38,\n",
       " '/content/train/train/train/class_038/Image_053.png': 38,\n",
       " '/content/train/train/train/class_038/Image_022.png': 38,\n",
       " '/content/train/train/train/class_038/Image_072.png': 38,\n",
       " '/content/train/train/train/class_038/Image_028.png': 38,\n",
       " '/content/train/train/train/class_038/Image_107.png': 38,\n",
       " '/content/train/train/train/class_038/Image_097.png': 38,\n",
       " '/content/train/train/train/class_038/Image_111.png': 38,\n",
       " '/content/train/train/train/class_038/Image_058.png': 38,\n",
       " '/content/train/train/train/class_038/Image_017.png': 38,\n",
       " '/content/train/train/train/class_038/Image_014.png': 38,\n",
       " '/content/train/train/train/class_038/Image_126.png': 38,\n",
       " '/content/train/train/train/class_038/Image_042.png': 38,\n",
       " '/content/train/train/train/class_038/Image_056.png': 38,\n",
       " '/content/train/train/train/class_038/Image_060.png': 38,\n",
       " '/content/train/train/train/class_038/Image_130.png': 38,\n",
       " '/content/train/train/train/class_038/Image_032.png': 38,\n",
       " '/content/train/train/train/class_038/Image_110.png': 38,\n",
       " '/content/train/train/train/class_038/Image_034.png': 38,\n",
       " '/content/train/train/train/class_038/Image_104.png': 38,\n",
       " '/content/train/train/train/class_038/Image_122.png': 38,\n",
       " '/content/train/train/train/class_038/Image_103.png': 38,\n",
       " '/content/train/train/train/class_038/Image_064.png': 38,\n",
       " '/content/train/train/train/class_038/Image_004.png': 38,\n",
       " '/content/train/train/train/class_038/Image_043.png': 38,\n",
       " '/content/train/train/train/class_038/Image_087.png': 38,\n",
       " '/content/train/train/train/class_038/Image_005.png': 38,\n",
       " '/content/train/train/train/class_038/Image_038.png': 38,\n",
       " '/content/train/train/train/class_038/Image_120.png': 38,\n",
       " '/content/train/train/train/class_038/Image_010.png': 38,\n",
       " '/content/train/train/train/class_038/Image_075.png': 38,\n",
       " '/content/train/train/train/class_038/Image_016.png': 38,\n",
       " '/content/train/train/train/class_038/Image_055.png': 38,\n",
       " '/content/train/train/train/class_038/Image_080.png': 38,\n",
       " '/content/train/train/train/class_038/Image_023.png': 38,\n",
       " '/content/train/train/train/class_038/Image_106.png': 38,\n",
       " '/content/train/train/train/class_038/Image_101.png': 38,\n",
       " '/content/train/train/train/class_038/Image_070.png': 38,\n",
       " '/content/train/train/train/class_038/Image_112.png': 38,\n",
       " '/content/train/train/train/class_038/Image_093.png': 38,\n",
       " '/content/train/train/train/class_038/Image_049.png': 38,\n",
       " '/content/train/train/train/class_038/Image_052.png': 38,\n",
       " '/content/train/train/train/class_038/Image_047.png': 38,\n",
       " '/content/train/train/train/class_038/Image_008.png': 38,\n",
       " '/content/train/train/train/class_038/Image_066.png': 38,\n",
       " '/content/train/train/train/class_038/Image_094.png': 38,\n",
       " '/content/train/train/train/class_038/Image_118.png': 38,\n",
       " '/content/train/train/train/class_038/Image_116.png': 38,\n",
       " '/content/train/train/train/class_038/Image_086.png': 38,\n",
       " '/content/train/train/train/class_038/Image_088.png': 38,\n",
       " '/content/train/train/train/class_038/Image_040.png': 38,\n",
       " '/content/train/train/train/class_038/Image_129.png': 38,\n",
       " '/content/train/train/train/class_038/Image_054.png': 38,\n",
       " '/content/train/train/train/class_038/Image_071.png': 38,\n",
       " '/content/train/train/train/class_038/Image_117.png': 38,\n",
       " '/content/train/train/train/class_038/Image_059.png': 38,\n",
       " '/content/train/train/train/class_038/Image_009.png': 38,\n",
       " '/content/train/train/train/class_038/Image_123.png': 38,\n",
       " '/content/train/train/train/class_038/Image_114.png': 38,\n",
       " '/content/train/train/train/class_038/Image_048.png': 38,\n",
       " '/content/train/train/train/class_038/Image_089.png': 38,\n",
       " '/content/train/train/train/class_038/Image_099.png': 38,\n",
       " '/content/train/train/train/class_038/Image_000.png': 38,\n",
       " '/content/train/train/train/class_038/Image_003.png': 38,\n",
       " '/content/train/train/train/class_038/Image_035.png': 38,\n",
       " '/content/train/train/train/class_038/Image_091.png': 38,\n",
       " '/content/train/train/train/class_038/Image_092.png': 38,\n",
       " '/content/train/train/train/class_038/Image_051.png': 38,\n",
       " '/content/train/train/train/class_038/Image_085.png': 38,\n",
       " '/content/train/train/train/class_038/Image_061.png': 38,\n",
       " '/content/train/train/train/class_038/Image_030.png': 38,\n",
       " '/content/train/train/train/class_038/Image_037.png': 38,\n",
       " '/content/train/train/train/class_038/Image_067.png': 38,\n",
       " '/content/train/train/train/class_038/Image_006.png': 38,\n",
       " '/content/train/train/train/class_038/Image_119.png': 38,\n",
       " '/content/train/train/train/class_038/Image_084.png': 38,\n",
       " '/content/train/train/train/class_038/Image_076.png': 38,\n",
       " '/content/train/train/train/class_038/Image_078.png': 38,\n",
       " '/content/train/train/train/class_038/Image_046.png': 38,\n",
       " '/content/train/train/train/class_038/Image_002.png': 38,\n",
       " '/content/train/train/train/class_038/Image_095.png': 38,\n",
       " '/content/train/train/train/class_038/Image_019.png': 38,\n",
       " '/content/train/train/train/class_038/Image_077.png': 38,\n",
       " '/content/train/train/train/class_038/Image_025.png': 38,\n",
       " '/content/train/train/train/class_038/Image_057.png': 38,\n",
       " '/content/train/train/train/class_038/Image_081.png': 38,\n",
       " '/content/train/train/train/class_038/Image_121.png': 38,\n",
       " '/content/train/train/train/class_038/Image_039.png': 38,\n",
       " '/content/train/train/train/class_038/Image_100.png': 38,\n",
       " '/content/train/train/train/class_038/Image_115.png': 38,\n",
       " '/content/train/train/train/class_038/Image_082.png': 38,\n",
       " '/content/train/train/train/class_038/Image_033.png': 38,\n",
       " '/content/train/train/train/class_038/Image_024.png': 38,\n",
       " '/content/train/train/train/class_038/Image_074.png': 38,\n",
       " '/content/train/train/train/class_038/Image_027.png': 38,\n",
       " '/content/train/train/train/class_038/Image_108.png': 38,\n",
       " '/content/train/train/train/class_038/Image_021.png': 38,\n",
       " '/content/train/train/train/class_038/Image_050.png': 38,\n",
       " '/content/train/train/train/class_038/Image_069.png': 38,\n",
       " '/content/train/train/train/class_038/Image_125.png': 38,\n",
       " '/content/train/train/train/class_038/Image_079.png': 38,\n",
       " '/content/train/train/train/class_076/Image_029.png': 76,\n",
       " '/content/train/train/train/class_076/Image_073.png': 76,\n",
       " '/content/train/train/train/class_076/Image_001.png': 76,\n",
       " '/content/train/train/train/class_076/Image_062.png': 76,\n",
       " '/content/train/train/train/class_076/Image_090.png': 76,\n",
       " '/content/train/train/train/class_076/Image_044.png': 76,\n",
       " '/content/train/train/train/class_076/Image_113.png': 76,\n",
       " '/content/train/train/train/class_076/Image_083.png': 76,\n",
       " '/content/train/train/train/class_076/Image_013.png': 76,\n",
       " '/content/train/train/train/class_076/Image_011.png': 76,\n",
       " '/content/train/train/train/class_076/Image_041.png': 76,\n",
       " '/content/train/train/train/class_076/Image_096.png': 76,\n",
       " '/content/train/train/train/class_076/Image_045.png': 76,\n",
       " '/content/train/train/train/class_076/Image_018.png': 76,\n",
       " '/content/train/train/train/class_076/Image_026.png': 76,\n",
       " '/content/train/train/train/class_076/Image_015.png': 76,\n",
       " '/content/train/train/train/class_076/Image_102.png': 76,\n",
       " '/content/train/train/train/class_076/Image_063.png': 76,\n",
       " '/content/train/train/train/class_076/Image_031.png': 76,\n",
       " '/content/train/train/train/class_076/Image_105.png': 76,\n",
       " '/content/train/train/train/class_076/Image_012.png': 76,\n",
       " '/content/train/train/train/class_076/Image_109.png': 76,\n",
       " '/content/train/train/train/class_076/Image_036.png': 76,\n",
       " '/content/train/train/train/class_076/Image_020.png': 76,\n",
       " '/content/train/train/train/class_076/Image_007.png': 76,\n",
       " '/content/train/train/train/class_076/Image_068.png': 76,\n",
       " '/content/train/train/train/class_076/Image_098.png': 76,\n",
       " '/content/train/train/train/class_076/Image_065.png': 76,\n",
       " '/content/train/train/train/class_076/Image_053.png': 76,\n",
       " '/content/train/train/train/class_076/Image_022.png': 76,\n",
       " '/content/train/train/train/class_076/Image_072.png': 76,\n",
       " '/content/train/train/train/class_076/Image_028.png': 76,\n",
       " '/content/train/train/train/class_076/Image_107.png': 76,\n",
       " '/content/train/train/train/class_076/Image_097.png': 76,\n",
       " '/content/train/train/train/class_076/Image_111.png': 76,\n",
       " '/content/train/train/train/class_076/Image_058.png': 76,\n",
       " '/content/train/train/train/class_076/Image_017.png': 76,\n",
       " '/content/train/train/train/class_076/Image_014.png': 76,\n",
       " '/content/train/train/train/class_076/Image_042.png': 76,\n",
       " '/content/train/train/train/class_076/Image_056.png': 76,\n",
       " '/content/train/train/train/class_076/Image_060.png': 76,\n",
       " '/content/train/train/train/class_076/Image_032.png': 76,\n",
       " '/content/train/train/train/class_076/Image_110.png': 76,\n",
       " '/content/train/train/train/class_076/Image_034.png': 76,\n",
       " '/content/train/train/train/class_076/Image_104.png': 76,\n",
       " '/content/train/train/train/class_076/Image_103.png': 76,\n",
       " '/content/train/train/train/class_076/Image_064.png': 76,\n",
       " '/content/train/train/train/class_076/Image_004.png': 76,\n",
       " '/content/train/train/train/class_076/Image_043.png': 76,\n",
       " '/content/train/train/train/class_076/Image_087.png': 76,\n",
       " '/content/train/train/train/class_076/Image_005.png': 76,\n",
       " '/content/train/train/train/class_076/Image_038.png': 76,\n",
       " '/content/train/train/train/class_076/Image_010.png': 76,\n",
       " '/content/train/train/train/class_076/Image_075.png': 76,\n",
       " '/content/train/train/train/class_076/Image_016.png': 76,\n",
       " '/content/train/train/train/class_076/Image_055.png': 76,\n",
       " '/content/train/train/train/class_076/Image_080.png': 76,\n",
       " '/content/train/train/train/class_076/Image_023.png': 76,\n",
       " '/content/train/train/train/class_076/Image_106.png': 76,\n",
       " '/content/train/train/train/class_076/Image_101.png': 76,\n",
       " '/content/train/train/train/class_076/Image_070.png': 76,\n",
       " '/content/train/train/train/class_076/Image_112.png': 76,\n",
       " '/content/train/train/train/class_076/Image_093.png': 76,\n",
       " '/content/train/train/train/class_076/Image_049.png': 76,\n",
       " '/content/train/train/train/class_076/Image_052.png': 76,\n",
       " '/content/train/train/train/class_076/Image_047.png': 76,\n",
       " '/content/train/train/train/class_076/Image_008.png': 76,\n",
       " '/content/train/train/train/class_076/Image_066.png': 76,\n",
       " '/content/train/train/train/class_076/Image_094.png': 76,\n",
       " '/content/train/train/train/class_076/Image_118.png': 76,\n",
       " '/content/train/train/train/class_076/Image_116.png': 76,\n",
       " '/content/train/train/train/class_076/Image_086.png': 76,\n",
       " '/content/train/train/train/class_076/Image_088.png': 76,\n",
       " '/content/train/train/train/class_076/Image_040.png': 76,\n",
       " '/content/train/train/train/class_076/Image_054.png': 76,\n",
       " '/content/train/train/train/class_076/Image_071.png': 76,\n",
       " '/content/train/train/train/class_076/Image_117.png': 76,\n",
       " '/content/train/train/train/class_076/Image_059.png': 76,\n",
       " '/content/train/train/train/class_076/Image_009.png': 76,\n",
       " '/content/train/train/train/class_076/Image_114.png': 76,\n",
       " '/content/train/train/train/class_076/Image_048.png': 76,\n",
       " '/content/train/train/train/class_076/Image_089.png': 76,\n",
       " '/content/train/train/train/class_076/Image_099.png': 76,\n",
       " '/content/train/train/train/class_076/Image_000.png': 76,\n",
       " '/content/train/train/train/class_076/Image_003.png': 76,\n",
       " '/content/train/train/train/class_076/Image_035.png': 76,\n",
       " '/content/train/train/train/class_076/Image_091.png': 76,\n",
       " '/content/train/train/train/class_076/Image_092.png': 76,\n",
       " '/content/train/train/train/class_076/Image_051.png': 76,\n",
       " '/content/train/train/train/class_076/Image_085.png': 76,\n",
       " '/content/train/train/train/class_076/Image_061.png': 76,\n",
       " '/content/train/train/train/class_076/Image_030.png': 76,\n",
       " '/content/train/train/train/class_076/Image_037.png': 76,\n",
       " '/content/train/train/train/class_076/Image_067.png': 76,\n",
       " '/content/train/train/train/class_076/Image_006.png': 76,\n",
       " '/content/train/train/train/class_076/Image_119.png': 76,\n",
       " '/content/train/train/train/class_076/Image_084.png': 76,\n",
       " '/content/train/train/train/class_076/Image_076.png': 76,\n",
       " '/content/train/train/train/class_076/Image_078.png': 76,\n",
       " '/content/train/train/train/class_076/Image_046.png': 76,\n",
       " '/content/train/train/train/class_076/Image_002.png': 76,\n",
       " '/content/train/train/train/class_076/Image_095.png': 76,\n",
       " '/content/train/train/train/class_076/Image_019.png': 76,\n",
       " '/content/train/train/train/class_076/Image_077.png': 76,\n",
       " '/content/train/train/train/class_076/Image_025.png': 76,\n",
       " '/content/train/train/train/class_076/Image_057.png': 76,\n",
       " '/content/train/train/train/class_076/Image_081.png': 76,\n",
       " '/content/train/train/train/class_076/Image_039.png': 76,\n",
       " '/content/train/train/train/class_076/Image_100.png': 76,\n",
       " '/content/train/train/train/class_076/Image_115.png': 76,\n",
       " '/content/train/train/train/class_076/Image_082.png': 76,\n",
       " '/content/train/train/train/class_076/Image_033.png': 76,\n",
       " '/content/train/train/train/class_076/Image_024.png': 76,\n",
       " '/content/train/train/train/class_076/Image_074.png': 76,\n",
       " '/content/train/train/train/class_076/Image_027.png': 76,\n",
       " '/content/train/train/train/class_076/Image_108.png': 76,\n",
       " '/content/train/train/train/class_076/Image_021.png': 76,\n",
       " '/content/train/train/train/class_076/Image_050.png': 76,\n",
       " '/content/train/train/train/class_076/Image_069.png': 76,\n",
       " '/content/train/train/train/class_076/Image_079.png': 76,\n",
       " '/content/train/train/train/class_045/Image_029.png': 45,\n",
       " '/content/train/train/train/class_045/Image_073.png': 45,\n",
       " '/content/train/train/train/class_045/Image_001.png': 45,\n",
       " '/content/train/train/train/class_045/Image_062.png': 45,\n",
       " '/content/train/train/train/class_045/Image_090.png': 45,\n",
       " '/content/train/train/train/class_045/Image_044.png': 45,\n",
       " '/content/train/train/train/class_045/Image_113.png': 45,\n",
       " '/content/train/train/train/class_045/Image_083.png': 45,\n",
       " '/content/train/train/train/class_045/Image_013.png': 45,\n",
       " '/content/train/train/train/class_045/Image_011.png': 45,\n",
       " '/content/train/train/train/class_045/Image_041.png': 45,\n",
       " '/content/train/train/train/class_045/Image_096.png': 45,\n",
       " '/content/train/train/train/class_045/Image_045.png': 45,\n",
       " '/content/train/train/train/class_045/Image_127.png': 45,\n",
       " '/content/train/train/train/class_045/Image_018.png': 45,\n",
       " '/content/train/train/train/class_045/Image_026.png': 45,\n",
       " '/content/train/train/train/class_045/Image_015.png': 45,\n",
       " '/content/train/train/train/class_045/Image_102.png': 45,\n",
       " '/content/train/train/train/class_045/Image_063.png': 45,\n",
       " '/content/train/train/train/class_045/Image_031.png': 45,\n",
       " '/content/train/train/train/class_045/Image_105.png': 45,\n",
       " '/content/train/train/train/class_045/Image_012.png': 45,\n",
       " '/content/train/train/train/class_045/Image_124.png': 45,\n",
       " '/content/train/train/train/class_045/Image_109.png': 45,\n",
       " '/content/train/train/train/class_045/Image_128.png': 45,\n",
       " '/content/train/train/train/class_045/Image_036.png': 45,\n",
       " '/content/train/train/train/class_045/Image_020.png': 45,\n",
       " '/content/train/train/train/class_045/Image_007.png': 45,\n",
       " '/content/train/train/train/class_045/Image_068.png': 45,\n",
       " '/content/train/train/train/class_045/Image_098.png': 45,\n",
       " '/content/train/train/train/class_045/Image_065.png': 45,\n",
       " '/content/train/train/train/class_045/Image_053.png': 45,\n",
       " '/content/train/train/train/class_045/Image_022.png': 45,\n",
       " '/content/train/train/train/class_045/Image_072.png': 45,\n",
       " '/content/train/train/train/class_045/Image_028.png': 45,\n",
       " '/content/train/train/train/class_045/Image_107.png': 45,\n",
       " '/content/train/train/train/class_045/Image_097.png': 45,\n",
       " '/content/train/train/train/class_045/Image_111.png': 45,\n",
       " '/content/train/train/train/class_045/Image_058.png': 45,\n",
       " '/content/train/train/train/class_045/Image_017.png': 45,\n",
       " '/content/train/train/train/class_045/Image_014.png': 45,\n",
       " '/content/train/train/train/class_045/Image_126.png': 45,\n",
       " '/content/train/train/train/class_045/Image_042.png': 45,\n",
       " '/content/train/train/train/class_045/Image_056.png': 45,\n",
       " '/content/train/train/train/class_045/Image_060.png': 45,\n",
       " '/content/train/train/train/class_045/Image_130.png': 45,\n",
       " '/content/train/train/train/class_045/Image_032.png': 45,\n",
       " '/content/train/train/train/class_045/Image_110.png': 45,\n",
       " '/content/train/train/train/class_045/Image_034.png': 45,\n",
       " '/content/train/train/train/class_045/Image_104.png': 45,\n",
       " '/content/train/train/train/class_045/Image_122.png': 45,\n",
       " '/content/train/train/train/class_045/Image_103.png': 45,\n",
       " '/content/train/train/train/class_045/Image_064.png': 45,\n",
       " '/content/train/train/train/class_045/Image_004.png': 45,\n",
       " '/content/train/train/train/class_045/Image_043.png': 45,\n",
       " '/content/train/train/train/class_045/Image_087.png': 45,\n",
       " '/content/train/train/train/class_045/Image_005.png': 45,\n",
       " '/content/train/train/train/class_045/Image_038.png': 45,\n",
       " '/content/train/train/train/class_045/Image_120.png': 45,\n",
       " '/content/train/train/train/class_045/Image_010.png': 45,\n",
       " '/content/train/train/train/class_045/Image_075.png': 45,\n",
       " '/content/train/train/train/class_045/Image_016.png': 45,\n",
       " '/content/train/train/train/class_045/Image_055.png': 45,\n",
       " '/content/train/train/train/class_045/Image_080.png': 45,\n",
       " '/content/train/train/train/class_045/Image_023.png': 45,\n",
       " '/content/train/train/train/class_045/Image_106.png': 45,\n",
       " '/content/train/train/train/class_045/Image_101.png': 45,\n",
       " '/content/train/train/train/class_045/Image_070.png': 45,\n",
       " '/content/train/train/train/class_045/Image_112.png': 45,\n",
       " '/content/train/train/train/class_045/Image_093.png': 45,\n",
       " '/content/train/train/train/class_045/Image_049.png': 45,\n",
       " '/content/train/train/train/class_045/Image_052.png': 45,\n",
       " '/content/train/train/train/class_045/Image_047.png': 45,\n",
       " '/content/train/train/train/class_045/Image_008.png': 45,\n",
       " '/content/train/train/train/class_045/Image_066.png': 45,\n",
       " '/content/train/train/train/class_045/Image_094.png': 45,\n",
       " '/content/train/train/train/class_045/Image_118.png': 45,\n",
       " '/content/train/train/train/class_045/Image_116.png': 45,\n",
       " '/content/train/train/train/class_045/Image_086.png': 45,\n",
       " '/content/train/train/train/class_045/Image_088.png': 45,\n",
       " '/content/train/train/train/class_045/Image_040.png': 45,\n",
       " '/content/train/train/train/class_045/Image_129.png': 45,\n",
       " '/content/train/train/train/class_045/Image_054.png': 45,\n",
       " '/content/train/train/train/class_045/Image_071.png': 45,\n",
       " '/content/train/train/train/class_045/Image_117.png': 45,\n",
       " '/content/train/train/train/class_045/Image_059.png': 45,\n",
       " '/content/train/train/train/class_045/Image_009.png': 45,\n",
       " '/content/train/train/train/class_045/Image_123.png': 45,\n",
       " '/content/train/train/train/class_045/Image_114.png': 45,\n",
       " '/content/train/train/train/class_045/Image_048.png': 45,\n",
       " '/content/train/train/train/class_045/Image_089.png': 45,\n",
       " '/content/train/train/train/class_045/Image_099.png': 45,\n",
       " '/content/train/train/train/class_045/Image_000.png': 45,\n",
       " '/content/train/train/train/class_045/Image_003.png': 45,\n",
       " '/content/train/train/train/class_045/Image_035.png': 45,\n",
       " '/content/train/train/train/class_045/Image_091.png': 45,\n",
       " '/content/train/train/train/class_045/Image_092.png': 45,\n",
       " '/content/train/train/train/class_045/Image_051.png': 45,\n",
       " '/content/train/train/train/class_045/Image_085.png': 45,\n",
       " '/content/train/train/train/class_045/Image_061.png': 45,\n",
       " '/content/train/train/train/class_045/Image_030.png': 45,\n",
       " '/content/train/train/train/class_045/Image_037.png': 45,\n",
       " '/content/train/train/train/class_045/Image_067.png': 45,\n",
       " '/content/train/train/train/class_045/Image_006.png': 45,\n",
       " '/content/train/train/train/class_045/Image_119.png': 45,\n",
       " '/content/train/train/train/class_045/Image_084.png': 45,\n",
       " '/content/train/train/train/class_045/Image_076.png': 45,\n",
       " '/content/train/train/train/class_045/Image_078.png': 45,\n",
       " '/content/train/train/train/class_045/Image_046.png': 45,\n",
       " '/content/train/train/train/class_045/Image_002.png': 45,\n",
       " '/content/train/train/train/class_045/Image_095.png': 45,\n",
       " '/content/train/train/train/class_045/Image_019.png': 45,\n",
       " '/content/train/train/train/class_045/Image_077.png': 45,\n",
       " '/content/train/train/train/class_045/Image_025.png': 45,\n",
       " '/content/train/train/train/class_045/Image_057.png': 45,\n",
       " '/content/train/train/train/class_045/Image_081.png': 45,\n",
       " '/content/train/train/train/class_045/Image_121.png': 45,\n",
       " '/content/train/train/train/class_045/Image_039.png': 45,\n",
       " '/content/train/train/train/class_045/Image_100.png': 45,\n",
       " '/content/train/train/train/class_045/Image_115.png': 45,\n",
       " '/content/train/train/train/class_045/Image_082.png': 45,\n",
       " '/content/train/train/train/class_045/Image_033.png': 45,\n",
       " '/content/train/train/train/class_045/Image_024.png': 45,\n",
       " '/content/train/train/train/class_045/Image_074.png': 45,\n",
       " '/content/train/train/train/class_045/Image_027.png': 45,\n",
       " '/content/train/train/train/class_045/Image_108.png': 45,\n",
       " '/content/train/train/train/class_045/Image_021.png': 45,\n",
       " '/content/train/train/train/class_045/Image_050.png': 45,\n",
       " '/content/train/train/train/class_045/Image_069.png': 45,\n",
       " '/content/train/train/train/class_045/Image_125.png': 45,\n",
       " '/content/train/train/train/class_045/Image_079.png': 45,\n",
       " '/content/train/train/train/class_032/Image_029.png': 32,\n",
       " '/content/train/train/train/class_032/Image_073.png': 32,\n",
       " '/content/train/train/train/class_032/Image_001.png': 32,\n",
       " '/content/train/train/train/class_032/Image_062.png': 32,\n",
       " '/content/train/train/train/class_032/Image_090.png': 32,\n",
       " '/content/train/train/train/class_032/Image_044.png': 32,\n",
       " '/content/train/train/train/class_032/Image_083.png': 32,\n",
       " '/content/train/train/train/class_032/Image_013.png': 32,\n",
       " '/content/train/train/train/class_032/Image_011.png': 32,\n",
       " '/content/train/train/train/class_032/Image_041.png': 32,\n",
       " '/content/train/train/train/class_032/Image_096.png': 32,\n",
       " '/content/train/train/train/class_032/Image_045.png': 32,\n",
       " '/content/train/train/train/class_032/Image_018.png': 32,\n",
       " '/content/train/train/train/class_032/Image_026.png': 32,\n",
       " '/content/train/train/train/class_032/Image_015.png': 32,\n",
       " '/content/train/train/train/class_032/Image_102.png': 32,\n",
       " '/content/train/train/train/class_032/Image_063.png': 32,\n",
       " '/content/train/train/train/class_032/Image_031.png': 32,\n",
       " '/content/train/train/train/class_032/Image_105.png': 32,\n",
       " '/content/train/train/train/class_032/Image_012.png': 32,\n",
       " '/content/train/train/train/class_032/Image_109.png': 32,\n",
       " '/content/train/train/train/class_032/Image_036.png': 32,\n",
       " '/content/train/train/train/class_032/Image_020.png': 32,\n",
       " '/content/train/train/train/class_032/Image_007.png': 32,\n",
       " '/content/train/train/train/class_032/Image_068.png': 32,\n",
       " '/content/train/train/train/class_032/Image_098.png': 32,\n",
       " '/content/train/train/train/class_032/Image_065.png': 32,\n",
       " '/content/train/train/train/class_032/Image_053.png': 32,\n",
       " '/content/train/train/train/class_032/Image_022.png': 32,\n",
       " '/content/train/train/train/class_032/Image_072.png': 32,\n",
       " '/content/train/train/train/class_032/Image_028.png': 32,\n",
       " '/content/train/train/train/class_032/Image_107.png': 32,\n",
       " '/content/train/train/train/class_032/Image_097.png': 32,\n",
       " '/content/train/train/train/class_032/Image_058.png': 32,\n",
       " '/content/train/train/train/class_032/Image_017.png': 32,\n",
       " '/content/train/train/train/class_032/Image_014.png': 32,\n",
       " '/content/train/train/train/class_032/Image_042.png': 32,\n",
       " '/content/train/train/train/class_032/Image_056.png': 32,\n",
       " '/content/train/train/train/class_032/Image_060.png': 32,\n",
       " '/content/train/train/train/class_032/Image_032.png': 32,\n",
       " '/content/train/train/train/class_032/Image_110.png': 32,\n",
       " '/content/train/train/train/class_032/Image_034.png': 32,\n",
       " '/content/train/train/train/class_032/Image_104.png': 32,\n",
       " '/content/train/train/train/class_032/Image_103.png': 32,\n",
       " '/content/train/train/train/class_032/Image_064.png': 32,\n",
       " '/content/train/train/train/class_032/Image_004.png': 32,\n",
       " '/content/train/train/train/class_032/Image_043.png': 32,\n",
       " '/content/train/train/train/class_032/Image_087.png': 32,\n",
       " '/content/train/train/train/class_032/Image_005.png': 32,\n",
       " '/content/train/train/train/class_032/Image_038.png': 32,\n",
       " '/content/train/train/train/class_032/Image_010.png': 32,\n",
       " '/content/train/train/train/class_032/Image_075.png': 32,\n",
       " '/content/train/train/train/class_032/Image_016.png': 32,\n",
       " '/content/train/train/train/class_032/Image_055.png': 32,\n",
       " '/content/train/train/train/class_032/Image_080.png': 32,\n",
       " '/content/train/train/train/class_032/Image_023.png': 32,\n",
       " '/content/train/train/train/class_032/Image_106.png': 32,\n",
       " '/content/train/train/train/class_032/Image_101.png': 32,\n",
       " '/content/train/train/train/class_032/Image_070.png': 32,\n",
       " '/content/train/train/train/class_032/Image_093.png': 32,\n",
       " '/content/train/train/train/class_032/Image_049.png': 32,\n",
       " '/content/train/train/train/class_032/Image_052.png': 32,\n",
       " '/content/train/train/train/class_032/Image_047.png': 32,\n",
       " '/content/train/train/train/class_032/Image_008.png': 32,\n",
       " '/content/train/train/train/class_032/Image_066.png': 32,\n",
       " '/content/train/train/train/class_032/Image_094.png': 32,\n",
       " '/content/train/train/train/class_032/Image_086.png': 32,\n",
       " '/content/train/train/train/class_032/Image_088.png': 32,\n",
       " '/content/train/train/train/class_032/Image_040.png': 32,\n",
       " '/content/train/train/train/class_032/Image_054.png': 32,\n",
       " '/content/train/train/train/class_032/Image_071.png': 32,\n",
       " '/content/train/train/train/class_032/Image_059.png': 32,\n",
       " '/content/train/train/train/class_032/Image_009.png': 32,\n",
       " '/content/train/train/train/class_032/Image_048.png': 32,\n",
       " '/content/train/train/train/class_032/Image_089.png': 32,\n",
       " '/content/train/train/train/class_032/Image_099.png': 32,\n",
       " '/content/train/train/train/class_032/Image_000.png': 32,\n",
       " '/content/train/train/train/class_032/Image_003.png': 32,\n",
       " '/content/train/train/train/class_032/Image_035.png': 32,\n",
       " '/content/train/train/train/class_032/Image_091.png': 32,\n",
       " '/content/train/train/train/class_032/Image_092.png': 32,\n",
       " '/content/train/train/train/class_032/Image_051.png': 32,\n",
       " '/content/train/train/train/class_032/Image_085.png': 32,\n",
       " '/content/train/train/train/class_032/Image_061.png': 32,\n",
       " '/content/train/train/train/class_032/Image_030.png': 32,\n",
       " '/content/train/train/train/class_032/Image_037.png': 32,\n",
       " '/content/train/train/train/class_032/Image_067.png': 32,\n",
       " '/content/train/train/train/class_032/Image_006.png': 32,\n",
       " '/content/train/train/train/class_032/Image_084.png': 32,\n",
       " '/content/train/train/train/class_032/Image_076.png': 32,\n",
       " '/content/train/train/train/class_032/Image_078.png': 32,\n",
       " '/content/train/train/train/class_032/Image_046.png': 32,\n",
       " '/content/train/train/train/class_032/Image_002.png': 32,\n",
       " '/content/train/train/train/class_032/Image_095.png': 32,\n",
       " '/content/train/train/train/class_032/Image_019.png': 32,\n",
       " '/content/train/train/train/class_032/Image_077.png': 32,\n",
       " '/content/train/train/train/class_032/Image_025.png': 32,\n",
       " '/content/train/train/train/class_032/Image_057.png': 32,\n",
       " '/content/train/train/train/class_032/Image_081.png': 32,\n",
       " '/content/train/train/train/class_032/Image_039.png': 32,\n",
       " '/content/train/train/train/class_032/Image_100.png': 32,\n",
       " '/content/train/train/train/class_032/Image_082.png': 32,\n",
       " '/content/train/train/train/class_032/Image_033.png': 32,\n",
       " '/content/train/train/train/class_032/Image_024.png': 32,\n",
       " '/content/train/train/train/class_032/Image_074.png': 32,\n",
       " '/content/train/train/train/class_032/Image_027.png': 32,\n",
       " '/content/train/train/train/class_032/Image_108.png': 32,\n",
       " '/content/train/train/train/class_032/Image_021.png': 32,\n",
       " '/content/train/train/train/class_032/Image_050.png': 32,\n",
       " '/content/train/train/train/class_032/Image_069.png': 32,\n",
       " '/content/train/train/train/class_032/Image_079.png': 32,\n",
       " '/content/train/train/train/class_105/Image_029.png': 105,\n",
       " '/content/train/train/train/class_105/Image_073.png': 105,\n",
       " '/content/train/train/train/class_105/Image_001.png': 105,\n",
       " '/content/train/train/train/class_105/Image_062.png': 105,\n",
       " '/content/train/train/train/class_105/Image_090.png': 105,\n",
       " '/content/train/train/train/class_105/Image_044.png': 105,\n",
       " '/content/train/train/train/class_105/Image_113.png': 105,\n",
       " '/content/train/train/train/class_105/Image_083.png': 105,\n",
       " '/content/train/train/train/class_105/Image_013.png': 105,\n",
       " '/content/train/train/train/class_105/Image_011.png': 105,\n",
       " '/content/train/train/train/class_105/Image_041.png': 105,\n",
       " '/content/train/train/train/class_105/Image_096.png': 105,\n",
       " '/content/train/train/train/class_105/Image_045.png': 105,\n",
       " '/content/train/train/train/class_105/Image_018.png': 105,\n",
       " '/content/train/train/train/class_105/Image_026.png': 105,\n",
       " '/content/train/train/train/class_105/Image_015.png': 105,\n",
       " '/content/train/train/train/class_105/Image_102.png': 105,\n",
       " '/content/train/train/train/class_105/Image_063.png': 105,\n",
       " '/content/train/train/train/class_105/Image_031.png': 105,\n",
       " '/content/train/train/train/class_105/Image_105.png': 105,\n",
       " '/content/train/train/train/class_105/Image_012.png': 105,\n",
       " '/content/train/train/train/class_105/Image_109.png': 105,\n",
       " '/content/train/train/train/class_105/Image_036.png': 105,\n",
       " '/content/train/train/train/class_105/Image_020.png': 105,\n",
       " '/content/train/train/train/class_105/Image_007.png': 105,\n",
       " '/content/train/train/train/class_105/Image_068.png': 105,\n",
       " '/content/train/train/train/class_105/Image_098.png': 105,\n",
       " '/content/train/train/train/class_105/Image_065.png': 105,\n",
       " '/content/train/train/train/class_105/Image_053.png': 105,\n",
       " '/content/train/train/train/class_105/Image_022.png': 105,\n",
       " '/content/train/train/train/class_105/Image_072.png': 105,\n",
       " '/content/train/train/train/class_105/Image_028.png': 105,\n",
       " '/content/train/train/train/class_105/Image_107.png': 105,\n",
       " '/content/train/train/train/class_105/Image_097.png': 105,\n",
       " '/content/train/train/train/class_105/Image_111.png': 105,\n",
       " '/content/train/train/train/class_105/Image_058.png': 105,\n",
       " '/content/train/train/train/class_105/Image_017.png': 105,\n",
       " '/content/train/train/train/class_105/Image_014.png': 105,\n",
       " '/content/train/train/train/class_105/Image_042.png': 105,\n",
       " '/content/train/train/train/class_105/Image_056.png': 105,\n",
       " '/content/train/train/train/class_105/Image_060.png': 105,\n",
       " '/content/train/train/train/class_105/Image_032.png': 105,\n",
       " '/content/train/train/train/class_105/Image_110.png': 105,\n",
       " '/content/train/train/train/class_105/Image_034.png': 105,\n",
       " '/content/train/train/train/class_105/Image_104.png': 105,\n",
       " '/content/train/train/train/class_105/Image_103.png': 105,\n",
       " '/content/train/train/train/class_105/Image_064.png': 105,\n",
       " '/content/train/train/train/class_105/Image_004.png': 105,\n",
       " '/content/train/train/train/class_105/Image_043.png': 105,\n",
       " '/content/train/train/train/class_105/Image_087.png': 105,\n",
       " '/content/train/train/train/class_105/Image_005.png': 105,\n",
       " '/content/train/train/train/class_105/Image_038.png': 105,\n",
       " '/content/train/train/train/class_105/Image_010.png': 105,\n",
       " '/content/train/train/train/class_105/Image_075.png': 105,\n",
       " '/content/train/train/train/class_105/Image_016.png': 105,\n",
       " '/content/train/train/train/class_105/Image_055.png': 105,\n",
       " '/content/train/train/train/class_105/Image_080.png': 105,\n",
       " '/content/train/train/train/class_105/Image_023.png': 105,\n",
       " '/content/train/train/train/class_105/Image_106.png': 105,\n",
       " '/content/train/train/train/class_105/Image_101.png': 105,\n",
       " '/content/train/train/train/class_105/Image_070.png': 105,\n",
       " '/content/train/train/train/class_105/Image_112.png': 105,\n",
       " '/content/train/train/train/class_105/Image_093.png': 105,\n",
       " '/content/train/train/train/class_105/Image_049.png': 105,\n",
       " '/content/train/train/train/class_105/Image_052.png': 105,\n",
       " '/content/train/train/train/class_105/Image_047.png': 105,\n",
       " '/content/train/train/train/class_105/Image_008.png': 105,\n",
       " '/content/train/train/train/class_105/Image_066.png': 105,\n",
       " '/content/train/train/train/class_105/Image_094.png': 105,\n",
       " '/content/train/train/train/class_105/Image_086.png': 105,\n",
       " '/content/train/train/train/class_105/Image_088.png': 105,\n",
       " '/content/train/train/train/class_105/Image_040.png': 105,\n",
       " '/content/train/train/train/class_105/Image_054.png': 105,\n",
       " '/content/train/train/train/class_105/Image_071.png': 105,\n",
       " '/content/train/train/train/class_105/Image_059.png': 105,\n",
       " '/content/train/train/train/class_105/Image_009.png': 105,\n",
       " '/content/train/train/train/class_105/Image_114.png': 105,\n",
       " '/content/train/train/train/class_105/Image_048.png': 105,\n",
       " '/content/train/train/train/class_105/Image_089.png': 105,\n",
       " '/content/train/train/train/class_105/Image_099.png': 105,\n",
       " '/content/train/train/train/class_105/Image_000.png': 105,\n",
       " '/content/train/train/train/class_105/Image_003.png': 105,\n",
       " '/content/train/train/train/class_105/Image_035.png': 105,\n",
       " '/content/train/train/train/class_105/Image_091.png': 105,\n",
       " '/content/train/train/train/class_105/Image_092.png': 105,\n",
       " '/content/train/train/train/class_105/Image_051.png': 105,\n",
       " '/content/train/train/train/class_105/Image_085.png': 105,\n",
       " '/content/train/train/train/class_105/Image_061.png': 105,\n",
       " '/content/train/train/train/class_105/Image_030.png': 105,\n",
       " '/content/train/train/train/class_105/Image_037.png': 105,\n",
       " '/content/train/train/train/class_105/Image_067.png': 105,\n",
       " '/content/train/train/train/class_105/Image_006.png': 105,\n",
       " '/content/train/train/train/class_105/Image_084.png': 105,\n",
       " '/content/train/train/train/class_105/Image_076.png': 105,\n",
       " '/content/train/train/train/class_105/Image_078.png': 105,\n",
       " '/content/train/train/train/class_105/Image_046.png': 105,\n",
       " '/content/train/train/train/class_105/Image_002.png': 105,\n",
       " '/content/train/train/train/class_105/Image_095.png': 105,\n",
       " '/content/train/train/train/class_105/Image_019.png': 105,\n",
       " '/content/train/train/train/class_105/Image_077.png': 105,\n",
       " '/content/train/train/train/class_105/Image_025.png': 105,\n",
       " '/content/train/train/train/class_105/Image_057.png': 105,\n",
       " '/content/train/train/train/class_105/Image_081.png': 105,\n",
       " '/content/train/train/train/class_105/Image_039.png': 105,\n",
       " '/content/train/train/train/class_105/Image_100.png': 105,\n",
       " '/content/train/train/train/class_105/Image_082.png': 105,\n",
       " '/content/train/train/train/class_105/Image_033.png': 105,\n",
       " '/content/train/train/train/class_105/Image_024.png': 105,\n",
       " '/content/train/train/train/class_105/Image_074.png': 105,\n",
       " '/content/train/train/train/class_105/Image_027.png': 105,\n",
       " '/content/train/train/train/class_105/Image_108.png': 105,\n",
       " '/content/train/train/train/class_105/Image_021.png': 105,\n",
       " '/content/train/train/train/class_105/Image_050.png': 105,\n",
       " '/content/train/train/train/class_105/Image_069.png': 105,\n",
       " '/content/train/train/train/class_105/Image_079.png': 105,\n",
       " '/content/train/train/train/class_051/Image_029.png': 51,\n",
       " '/content/train/train/train/class_051/Image_073.png': 51,\n",
       " '/content/train/train/train/class_051/Image_001.png': 51,\n",
       " '/content/train/train/train/class_051/Image_062.png': 51,\n",
       " '/content/train/train/train/class_051/Image_090.png': 51,\n",
       " '/content/train/train/train/class_051/Image_044.png': 51,\n",
       " '/content/train/train/train/class_051/Image_113.png': 51,\n",
       " '/content/train/train/train/class_051/Image_083.png': 51,\n",
       " '/content/train/train/train/class_051/Image_013.png': 51,\n",
       " '/content/train/train/train/class_051/Image_011.png': 51,\n",
       " '/content/train/train/train/class_051/Image_041.png': 51,\n",
       " '/content/train/train/train/class_051/Image_096.png': 51,\n",
       " '/content/train/train/train/class_051/Image_045.png': 51,\n",
       " '/content/train/train/train/class_051/Image_018.png': 51,\n",
       " '/content/train/train/train/class_051/Image_026.png': 51,\n",
       " '/content/train/train/train/class_051/Image_015.png': 51,\n",
       " '/content/train/train/train/class_051/Image_102.png': 51,\n",
       " '/content/train/train/train/class_051/Image_063.png': 51,\n",
       " '/content/train/train/train/class_051/Image_031.png': 51,\n",
       " '/content/train/train/train/class_051/Image_105.png': 51,\n",
       " '/content/train/train/train/class_051/Image_012.png': 51,\n",
       " '/content/train/train/train/class_051/Image_124.png': 51,\n",
       " '/content/train/train/train/class_051/Image_109.png': 51,\n",
       " '/content/train/train/train/class_051/Image_036.png': 51,\n",
       " '/content/train/train/train/class_051/Image_020.png': 51,\n",
       " '/content/train/train/train/class_051/Image_007.png': 51,\n",
       " '/content/train/train/train/class_051/Image_068.png': 51,\n",
       " '/content/train/train/train/class_051/Image_098.png': 51,\n",
       " '/content/train/train/train/class_051/Image_065.png': 51,\n",
       " '/content/train/train/train/class_051/Image_053.png': 51,\n",
       " '/content/train/train/train/class_051/Image_022.png': 51,\n",
       " '/content/train/train/train/class_051/Image_072.png': 51,\n",
       " '/content/train/train/train/class_051/Image_028.png': 51,\n",
       " '/content/train/train/train/class_051/Image_107.png': 51,\n",
       " '/content/train/train/train/class_051/Image_097.png': 51,\n",
       " '/content/train/train/train/class_051/Image_111.png': 51,\n",
       " '/content/train/train/train/class_051/Image_058.png': 51,\n",
       " '/content/train/train/train/class_051/Image_017.png': 51,\n",
       " '/content/train/train/train/class_051/Image_014.png': 51,\n",
       " '/content/train/train/train/class_051/Image_126.png': 51,\n",
       " '/content/train/train/train/class_051/Image_042.png': 51,\n",
       " '/content/train/train/train/class_051/Image_056.png': 51,\n",
       " '/content/train/train/train/class_051/Image_060.png': 51,\n",
       " '/content/train/train/train/class_051/Image_032.png': 51,\n",
       " '/content/train/train/train/class_051/Image_110.png': 51,\n",
       " '/content/train/train/train/class_051/Image_034.png': 51,\n",
       " '/content/train/train/train/class_051/Image_104.png': 51,\n",
       " '/content/train/train/train/class_051/Image_122.png': 51,\n",
       " '/content/train/train/train/class_051/Image_103.png': 51,\n",
       " '/content/train/train/train/class_051/Image_064.png': 51,\n",
       " '/content/train/train/train/class_051/Image_004.png': 51,\n",
       " '/content/train/train/train/class_051/Image_043.png': 51,\n",
       " '/content/train/train/train/class_051/Image_087.png': 51,\n",
       " '/content/train/train/train/class_051/Image_005.png': 51,\n",
       " '/content/train/train/train/class_051/Image_038.png': 51,\n",
       " '/content/train/train/train/class_051/Image_120.png': 51,\n",
       " '/content/train/train/train/class_051/Image_010.png': 51,\n",
       " '/content/train/train/train/class_051/Image_075.png': 51,\n",
       " '/content/train/train/train/class_051/Image_016.png': 51,\n",
       " '/content/train/train/train/class_051/Image_055.png': 51,\n",
       " '/content/train/train/train/class_051/Image_080.png': 51,\n",
       " '/content/train/train/train/class_051/Image_023.png': 51,\n",
       " '/content/train/train/train/class_051/Image_106.png': 51,\n",
       " '/content/train/train/train/class_051/Image_101.png': 51,\n",
       " '/content/train/train/train/class_051/Image_070.png': 51,\n",
       " '/content/train/train/train/class_051/Image_112.png': 51,\n",
       " '/content/train/train/train/class_051/Image_093.png': 51,\n",
       " '/content/train/train/train/class_051/Image_049.png': 51,\n",
       " '/content/train/train/train/class_051/Image_052.png': 51,\n",
       " '/content/train/train/train/class_051/Image_047.png': 51,\n",
       " '/content/train/train/train/class_051/Image_008.png': 51,\n",
       " '/content/train/train/train/class_051/Image_066.png': 51,\n",
       " '/content/train/train/train/class_051/Image_094.png': 51,\n",
       " '/content/train/train/train/class_051/Image_118.png': 51,\n",
       " '/content/train/train/train/class_051/Image_116.png': 51,\n",
       " '/content/train/train/train/class_051/Image_086.png': 51,\n",
       " '/content/train/train/train/class_051/Image_088.png': 51,\n",
       " '/content/train/train/train/class_051/Image_040.png': 51,\n",
       " '/content/train/train/train/class_051/Image_054.png': 51,\n",
       " '/content/train/train/train/class_051/Image_071.png': 51,\n",
       " '/content/train/train/train/class_051/Image_117.png': 51,\n",
       " '/content/train/train/train/class_051/Image_059.png': 51,\n",
       " '/content/train/train/train/class_051/Image_009.png': 51,\n",
       " '/content/train/train/train/class_051/Image_123.png': 51,\n",
       " '/content/train/train/train/class_051/Image_114.png': 51,\n",
       " '/content/train/train/train/class_051/Image_048.png': 51,\n",
       " '/content/train/train/train/class_051/Image_089.png': 51,\n",
       " '/content/train/train/train/class_051/Image_099.png': 51,\n",
       " '/content/train/train/train/class_051/Image_000.png': 51,\n",
       " '/content/train/train/train/class_051/Image_003.png': 51,\n",
       " '/content/train/train/train/class_051/Image_035.png': 51,\n",
       " '/content/train/train/train/class_051/Image_091.png': 51,\n",
       " '/content/train/train/train/class_051/Image_092.png': 51,\n",
       " '/content/train/train/train/class_051/Image_051.png': 51,\n",
       " '/content/train/train/train/class_051/Image_085.png': 51,\n",
       " '/content/train/train/train/class_051/Image_061.png': 51,\n",
       " '/content/train/train/train/class_051/Image_030.png': 51,\n",
       " '/content/train/train/train/class_051/Image_037.png': 51,\n",
       " '/content/train/train/train/class_051/Image_067.png': 51,\n",
       " '/content/train/train/train/class_051/Image_006.png': 51,\n",
       " '/content/train/train/train/class_051/Image_119.png': 51,\n",
       " '/content/train/train/train/class_051/Image_084.png': 51,\n",
       " '/content/train/train/train/class_051/Image_076.png': 51,\n",
       " '/content/train/train/train/class_051/Image_078.png': 51,\n",
       " '/content/train/train/train/class_051/Image_046.png': 51,\n",
       " '/content/train/train/train/class_051/Image_002.png': 51,\n",
       " '/content/train/train/train/class_051/Image_095.png': 51,\n",
       " '/content/train/train/train/class_051/Image_019.png': 51,\n",
       " '/content/train/train/train/class_051/Image_077.png': 51,\n",
       " '/content/train/train/train/class_051/Image_025.png': 51,\n",
       " '/content/train/train/train/class_051/Image_057.png': 51,\n",
       " '/content/train/train/train/class_051/Image_081.png': 51,\n",
       " '/content/train/train/train/class_051/Image_121.png': 51,\n",
       " '/content/train/train/train/class_051/Image_039.png': 51,\n",
       " '/content/train/train/train/class_051/Image_100.png': 51,\n",
       " '/content/train/train/train/class_051/Image_115.png': 51,\n",
       " '/content/train/train/train/class_051/Image_082.png': 51,\n",
       " '/content/train/train/train/class_051/Image_033.png': 51,\n",
       " '/content/train/train/train/class_051/Image_024.png': 51,\n",
       " '/content/train/train/train/class_051/Image_074.png': 51,\n",
       " '/content/train/train/train/class_051/Image_027.png': 51,\n",
       " '/content/train/train/train/class_051/Image_108.png': 51,\n",
       " '/content/train/train/train/class_051/Image_021.png': 51,\n",
       " '/content/train/train/train/class_051/Image_050.png': 51,\n",
       " '/content/train/train/train/class_051/Image_069.png': 51,\n",
       " '/content/train/train/train/class_051/Image_125.png': 51,\n",
       " '/content/train/train/train/class_051/Image_079.png': 51,\n",
       " '/content/train/train/train/class_014/Image_029.png': 14,\n",
       " '/content/train/train/train/class_014/Image_073.png': 14,\n",
       " '/content/train/train/train/class_014/Image_001.png': 14,\n",
       " '/content/train/train/train/class_014/Image_062.png': 14,\n",
       " '/content/train/train/train/class_014/Image_090.png': 14,\n",
       " '/content/train/train/train/class_014/Image_044.png': 14,\n",
       " '/content/train/train/train/class_014/Image_113.png': 14,\n",
       " '/content/train/train/train/class_014/Image_083.png': 14,\n",
       " '/content/train/train/train/class_014/Image_013.png': 14,\n",
       " '/content/train/train/train/class_014/Image_011.png': 14,\n",
       " '/content/train/train/train/class_014/Image_041.png': 14,\n",
       " '/content/train/train/train/class_014/Image_096.png': 14,\n",
       " '/content/train/train/train/class_014/Image_045.png': 14,\n",
       " '/content/train/train/train/class_014/Image_127.png': 14,\n",
       " '/content/train/train/train/class_014/Image_018.png': 14,\n",
       " '/content/train/train/train/class_014/Image_026.png': 14,\n",
       " '/content/train/train/train/class_014/Image_015.png': 14,\n",
       " '/content/train/train/train/class_014/Image_102.png': 14,\n",
       " '/content/train/train/train/class_014/Image_063.png': 14,\n",
       " '/content/train/train/train/class_014/Image_031.png': 14,\n",
       " '/content/train/train/train/class_014/Image_105.png': 14,\n",
       " '/content/train/train/train/class_014/Image_012.png': 14,\n",
       " '/content/train/train/train/class_014/Image_124.png': 14,\n",
       " '/content/train/train/train/class_014/Image_109.png': 14,\n",
       " '/content/train/train/train/class_014/Image_128.png': 14,\n",
       " '/content/train/train/train/class_014/Image_036.png': 14,\n",
       " '/content/train/train/train/class_014/Image_020.png': 14,\n",
       " '/content/train/train/train/class_014/Image_007.png': 14,\n",
       " '/content/train/train/train/class_014/Image_068.png': 14,\n",
       " '/content/train/train/train/class_014/Image_098.png': 14,\n",
       " '/content/train/train/train/class_014/Image_131.png': 14,\n",
       " '/content/train/train/train/class_014/Image_065.png': 14,\n",
       " '/content/train/train/train/class_014/Image_053.png': 14,\n",
       " '/content/train/train/train/class_014/Image_022.png': 14,\n",
       " '/content/train/train/train/class_014/Image_072.png': 14,\n",
       " '/content/train/train/train/class_014/Image_028.png': 14,\n",
       " '/content/train/train/train/class_014/Image_107.png': 14,\n",
       " '/content/train/train/train/class_014/Image_097.png': 14,\n",
       " '/content/train/train/train/class_014/Image_111.png': 14,\n",
       " '/content/train/train/train/class_014/Image_058.png': 14,\n",
       " '/content/train/train/train/class_014/Image_017.png': 14,\n",
       " '/content/train/train/train/class_014/Image_014.png': 14,\n",
       " '/content/train/train/train/class_014/Image_126.png': 14,\n",
       " '/content/train/train/train/class_014/Image_042.png': 14,\n",
       " '/content/train/train/train/class_014/Image_056.png': 14,\n",
       " '/content/train/train/train/class_014/Image_060.png': 14,\n",
       " '/content/train/train/train/class_014/Image_130.png': 14,\n",
       " '/content/train/train/train/class_014/Image_032.png': 14,\n",
       " '/content/train/train/train/class_014/Image_110.png': 14,\n",
       " '/content/train/train/train/class_014/Image_034.png': 14,\n",
       " '/content/train/train/train/class_014/Image_104.png': 14,\n",
       " '/content/train/train/train/class_014/Image_122.png': 14,\n",
       " '/content/train/train/train/class_014/Image_103.png': 14,\n",
       " '/content/train/train/train/class_014/Image_064.png': 14,\n",
       " '/content/train/train/train/class_014/Image_004.png': 14,\n",
       " '/content/train/train/train/class_014/Image_043.png': 14,\n",
       " '/content/train/train/train/class_014/Image_087.png': 14,\n",
       " '/content/train/train/train/class_014/Image_005.png': 14,\n",
       " '/content/train/train/train/class_014/Image_038.png': 14,\n",
       " '/content/train/train/train/class_014/Image_120.png': 14,\n",
       " '/content/train/train/train/class_014/Image_010.png': 14,\n",
       " '/content/train/train/train/class_014/Image_075.png': 14,\n",
       " '/content/train/train/train/class_014/Image_016.png': 14,\n",
       " '/content/train/train/train/class_014/Image_055.png': 14,\n",
       " '/content/train/train/train/class_014/Image_080.png': 14,\n",
       " '/content/train/train/train/class_014/Image_023.png': 14,\n",
       " '/content/train/train/train/class_014/Image_106.png': 14,\n",
       " '/content/train/train/train/class_014/Image_101.png': 14,\n",
       " '/content/train/train/train/class_014/Image_070.png': 14,\n",
       " '/content/train/train/train/class_014/Image_112.png': 14,\n",
       " '/content/train/train/train/class_014/Image_093.png': 14,\n",
       " '/content/train/train/train/class_014/Image_049.png': 14,\n",
       " '/content/train/train/train/class_014/Image_052.png': 14,\n",
       " '/content/train/train/train/class_014/Image_047.png': 14,\n",
       " '/content/train/train/train/class_014/Image_008.png': 14,\n",
       " '/content/train/train/train/class_014/Image_066.png': 14,\n",
       " '/content/train/train/train/class_014/Image_094.png': 14,\n",
       " '/content/train/train/train/class_014/Image_118.png': 14,\n",
       " '/content/train/train/train/class_014/Image_116.png': 14,\n",
       " '/content/train/train/train/class_014/Image_133.png': 14,\n",
       " '/content/train/train/train/class_014/Image_086.png': 14,\n",
       " '/content/train/train/train/class_014/Image_088.png': 14,\n",
       " '/content/train/train/train/class_014/Image_040.png': 14,\n",
       " '/content/train/train/train/class_014/Image_129.png': 14,\n",
       " '/content/train/train/train/class_014/Image_054.png': 14,\n",
       " '/content/train/train/train/class_014/Image_071.png': 14,\n",
       " '/content/train/train/train/class_014/Image_117.png': 14,\n",
       " '/content/train/train/train/class_014/Image_059.png': 14,\n",
       " '/content/train/train/train/class_014/Image_009.png': 14,\n",
       " '/content/train/train/train/class_014/Image_123.png': 14,\n",
       " '/content/train/train/train/class_014/Image_114.png': 14,\n",
       " '/content/train/train/train/class_014/Image_048.png': 14,\n",
       " '/content/train/train/train/class_014/Image_089.png': 14,\n",
       " '/content/train/train/train/class_014/Image_099.png': 14,\n",
       " '/content/train/train/train/class_014/Image_000.png': 14,\n",
       " '/content/train/train/train/class_014/Image_003.png': 14,\n",
       " '/content/train/train/train/class_014/Image_035.png': 14,\n",
       " '/content/train/train/train/class_014/Image_091.png': 14,\n",
       " '/content/train/train/train/class_014/Image_092.png': 14,\n",
       " '/content/train/train/train/class_014/Image_051.png': 14,\n",
       " '/content/train/train/train/class_014/Image_085.png': 14,\n",
       " '/content/train/train/train/class_014/Image_061.png': 14,\n",
       " '/content/train/train/train/class_014/Image_030.png': 14,\n",
       " '/content/train/train/train/class_014/Image_037.png': 14,\n",
       " '/content/train/train/train/class_014/Image_067.png': 14,\n",
       " '/content/train/train/train/class_014/Image_006.png': 14,\n",
       " '/content/train/train/train/class_014/Image_119.png': 14,\n",
       " '/content/train/train/train/class_014/Image_084.png': 14,\n",
       " '/content/train/train/train/class_014/Image_076.png': 14,\n",
       " '/content/train/train/train/class_014/Image_078.png': 14,\n",
       " '/content/train/train/train/class_014/Image_046.png': 14,\n",
       " '/content/train/train/train/class_014/Image_002.png': 14,\n",
       " '/content/train/train/train/class_014/Image_095.png': 14,\n",
       " '/content/train/train/train/class_014/Image_019.png': 14,\n",
       " '/content/train/train/train/class_014/Image_077.png': 14,\n",
       " '/content/train/train/train/class_014/Image_025.png': 14,\n",
       " '/content/train/train/train/class_014/Image_057.png': 14,\n",
       " '/content/train/train/train/class_014/Image_081.png': 14,\n",
       " '/content/train/train/train/class_014/Image_121.png': 14,\n",
       " '/content/train/train/train/class_014/Image_132.png': 14,\n",
       " '/content/train/train/train/class_014/Image_039.png': 14,\n",
       " '/content/train/train/train/class_014/Image_100.png': 14,\n",
       " '/content/train/train/train/class_014/Image_115.png': 14,\n",
       " '/content/train/train/train/class_014/Image_082.png': 14,\n",
       " '/content/train/train/train/class_014/Image_033.png': 14,\n",
       " '/content/train/train/train/class_014/Image_024.png': 14,\n",
       " '/content/train/train/train/class_014/Image_074.png': 14,\n",
       " '/content/train/train/train/class_014/Image_027.png': 14,\n",
       " '/content/train/train/train/class_014/Image_108.png': 14,\n",
       " '/content/train/train/train/class_014/Image_021.png': 14,\n",
       " '/content/train/train/train/class_014/Image_050.png': 14,\n",
       " '/content/train/train/train/class_014/Image_069.png': 14,\n",
       " '/content/train/train/train/class_014/Image_125.png': 14,\n",
       " '/content/train/train/train/class_014/Image_079.png': 14,\n",
       " '/content/train/train/train/class_000/Image_029.png': 0,\n",
       " '/content/train/train/train/class_000/Image_073.png': 0,\n",
       " '/content/train/train/train/class_000/Image_001.png': 0,\n",
       " '/content/train/train/train/class_000/Image_062.png': 0,\n",
       " '/content/train/train/train/class_000/Image_090.png': 0,\n",
       " '/content/train/train/train/class_000/Image_044.png': 0,\n",
       " ...}"
      ]
     },
     "execution_count": 12,
     "metadata": {},
     "output_type": "execute_result"
    }
   ],
   "source": [
    "train_names"
   ]
  },
  {
   "cell_type": "code",
   "execution_count": null,
   "metadata": {
    "colab": {
     "base_uri": "https://localhost:8080/"
    },
    "id": "t4skA6qnic5T",
    "outputId": "93c1cf3f-86a4-40c4-830c-c89464534477"
   },
   "outputs": [
    {
     "data": {
      "text/plain": [
       "16239"
      ]
     },
     "execution_count": 13,
     "metadata": {},
     "output_type": "execute_result"
    }
   ],
   "source": [
    "len(train_names)"
   ]
  },
  {
   "cell_type": "code",
   "execution_count": 18,
   "metadata": {
    "id": "aE91xfdAnCve"
   },
   "outputs": [],
   "source": [
    "test_names={}\n",
    "directory1 = os.fsencode('/content/test/test/test')\n",
    "\n",
    "for file in os.listdir(directory1):\n",
    "  img_name = os.fsdecode(file)\n",
    "  #for img in os.listdir('/content/test/test/test/'+filename):\n",
    "  #img_name = os.fsdecode(img)\n",
    "  test_names.update({'/content/test/test/test/'+img_name: 0})"
   ]
  },
  {
   "cell_type": "code",
   "execution_count": null,
   "metadata": {
    "colab": {
     "base_uri": "https://localhost:8080/"
    },
    "collapsed": true,
    "id": "12uLqkY_nCqT",
    "outputId": "ba7360d2-81d8-419e-f6d2-e3c6eafb46cc"
   },
   "outputs": [
    {
     "data": {
      "text/plain": [
       "{'/content/test/test/test/img_2165.png': 0,\n",
       " '/content/test/test/test/img_0055.png': 0,\n",
       " '/content/test/test/test/img_1836.png': 0,\n",
       " '/content/test/test/test/img_0895.png': 0,\n",
       " '/content/test/test/test/img_2348.png': 0,\n",
       " '/content/test/test/test/img_0327.png': 0,\n",
       " '/content/test/test/test/img_2350.png': 0,\n",
       " '/content/test/test/test/img_2289.png': 0,\n",
       " '/content/test/test/test/img_2173.png': 0,\n",
       " '/content/test/test/test/img_1600.png': 0,\n",
       " '/content/test/test/test/img_1247.png': 0,\n",
       " '/content/test/test/test/img_0210.png': 0,\n",
       " '/content/test/test/test/img_0688.png': 0,\n",
       " '/content/test/test/test/img_1338.png': 0,\n",
       " '/content/test/test/test/img_0764.png': 0,\n",
       " '/content/test/test/test/img_0313.png': 0,\n",
       " '/content/test/test/test/img_0549.png': 0,\n",
       " '/content/test/test/test/img_1529.png': 0,\n",
       " '/content/test/test/test/img_1094.png': 0,\n",
       " '/content/test/test/test/img_1556.png': 0,\n",
       " '/content/test/test/test/img_0426.png': 0,\n",
       " '/content/test/test/test/img_2337.png': 0,\n",
       " '/content/test/test/test/img_1573.png': 0,\n",
       " '/content/test/test/test/img_0319.png': 0,\n",
       " '/content/test/test/test/img_2423.png': 0,\n",
       " '/content/test/test/test/img_1183.png': 0,\n",
       " '/content/test/test/test/img_0336.png': 0,\n",
       " '/content/test/test/test/img_2205.png': 0,\n",
       " '/content/test/test/test/img_1712.png': 0,\n",
       " '/content/test/test/test/img_0590.png': 0,\n",
       " '/content/test/test/test/img_0962.png': 0,\n",
       " '/content/test/test/test/img_1720.png': 0,\n",
       " '/content/test/test/test/img_1843.png': 0,\n",
       " '/content/test/test/test/img_1492.png': 0,\n",
       " '/content/test/test/test/img_1984.png': 0,\n",
       " '/content/test/test/test/img_0854.png': 0,\n",
       " '/content/test/test/test/img_0897.png': 0,\n",
       " '/content/test/test/test/img_1510.png': 0,\n",
       " '/content/test/test/test/img_1962.png': 0,\n",
       " '/content/test/test/test/img_0277.png': 0,\n",
       " '/content/test/test/test/img_0936.png': 0,\n",
       " '/content/test/test/test/img_0759.png': 0,\n",
       " '/content/test/test/test/img_1038.png': 0,\n",
       " '/content/test/test/test/img_1807.png': 0,\n",
       " '/content/test/test/test/img_0038.png': 0,\n",
       " '/content/test/test/test/img_0540.png': 0,\n",
       " '/content/test/test/test/img_1898.png': 0,\n",
       " '/content/test/test/test/img_1412.png': 0,\n",
       " '/content/test/test/test/img_1334.png': 0,\n",
       " '/content/test/test/test/img_2016.png': 0,\n",
       " '/content/test/test/test/img_0926.png': 0,\n",
       " '/content/test/test/test/img_1513.png': 0,\n",
       " '/content/test/test/test/img_1973.png': 0,\n",
       " '/content/test/test/test/img_0654.png': 0,\n",
       " '/content/test/test/test/img_2318.png': 0,\n",
       " '/content/test/test/test/img_1359.png': 0,\n",
       " '/content/test/test/test/img_2253.png': 0,\n",
       " '/content/test/test/test/img_0091.png': 0,\n",
       " '/content/test/test/test/img_0408.png': 0,\n",
       " '/content/test/test/test/img_0655.png': 0,\n",
       " '/content/test/test/test/img_2407.png': 0,\n",
       " '/content/test/test/test/img_1751.png': 0,\n",
       " '/content/test/test/test/img_0199.png': 0,\n",
       " '/content/test/test/test/img_1192.png': 0,\n",
       " '/content/test/test/test/img_0783.png': 0,\n",
       " '/content/test/test/test/img_1309.png': 0,\n",
       " '/content/test/test/test/img_1734.png': 0,\n",
       " '/content/test/test/test/img_1564.png': 0,\n",
       " '/content/test/test/test/img_1254.png': 0,\n",
       " '/content/test/test/test/img_1757.png': 0,\n",
       " '/content/test/test/test/img_1731.png': 0,\n",
       " '/content/test/test/test/img_1460.png': 0,\n",
       " '/content/test/test/test/img_0010.png': 0,\n",
       " '/content/test/test/test/img_0328.png': 0,\n",
       " '/content/test/test/test/img_2217.png': 0,\n",
       " '/content/test/test/test/img_1123.png': 0,\n",
       " '/content/test/test/test/img_0846.png': 0,\n",
       " '/content/test/test/test/img_0723.png': 0,\n",
       " '/content/test/test/test/img_1936.png': 0,\n",
       " '/content/test/test/test/img_1885.png': 0,\n",
       " '/content/test/test/test/img_0954.png': 0,\n",
       " '/content/test/test/test/img_1020.png': 0,\n",
       " '/content/test/test/test/img_1668.png': 0,\n",
       " '/content/test/test/test/img_0623.png': 0,\n",
       " '/content/test/test/test/img_2093.png': 0,\n",
       " '/content/test/test/test/img_1415.png': 0,\n",
       " '/content/test/test/test/img_1631.png': 0,\n",
       " '/content/test/test/test/img_0841.png': 0,\n",
       " '/content/test/test/test/img_2371.png': 0,\n",
       " '/content/test/test/test/img_1785.png': 0,\n",
       " '/content/test/test/test/img_1213.png': 0,\n",
       " '/content/test/test/test/img_2320.png': 0,\n",
       " '/content/test/test/test/img_1859.png': 0,\n",
       " '/content/test/test/test/img_1823.png': 0,\n",
       " '/content/test/test/test/img_0049.png': 0,\n",
       " '/content/test/test/test/img_0479.png': 0,\n",
       " '/content/test/test/test/img_1770.png': 0,\n",
       " '/content/test/test/test/img_0801.png': 0,\n",
       " '/content/test/test/test/img_1560.png': 0,\n",
       " '/content/test/test/test/img_1172.png': 0,\n",
       " '/content/test/test/test/img_0702.png': 0,\n",
       " '/content/test/test/test/img_1883.png': 0,\n",
       " '/content/test/test/test/img_0443.png': 0,\n",
       " '/content/test/test/test/img_1117.png': 0,\n",
       " '/content/test/test/test/img_2478.png': 0,\n",
       " '/content/test/test/test/img_1559.png': 0,\n",
       " '/content/test/test/test/img_1007.png': 0,\n",
       " '/content/test/test/test/img_2295.png': 0,\n",
       " '/content/test/test/test/img_0749.png': 0,\n",
       " '/content/test/test/test/img_1306.png': 0,\n",
       " '/content/test/test/test/img_0940.png': 0,\n",
       " '/content/test/test/test/img_0260.png': 0,\n",
       " '/content/test/test/test/img_1206.png': 0,\n",
       " '/content/test/test/test/img_1034.png': 0,\n",
       " '/content/test/test/test/img_0728.png': 0,\n",
       " '/content/test/test/test/img_0809.png': 0,\n",
       " '/content/test/test/test/img_1679.png': 0,\n",
       " '/content/test/test/test/img_0425.png': 0,\n",
       " '/content/test/test/test/img_2459.png': 0,\n",
       " '/content/test/test/test/img_1259.png': 0,\n",
       " '/content/test/test/test/img_2142.png': 0,\n",
       " '/content/test/test/test/img_0884.png': 0,\n",
       " '/content/test/test/test/img_1739.png': 0,\n",
       " '/content/test/test/test/img_0181.png': 0,\n",
       " '/content/test/test/test/img_0446.png': 0,\n",
       " '/content/test/test/test/img_2188.png': 0,\n",
       " '/content/test/test/test/img_0078.png': 0,\n",
       " '/content/test/test/test/img_1053.png': 0,\n",
       " '/content/test/test/test/img_0367.png': 0,\n",
       " '/content/test/test/test/img_2046.png': 0,\n",
       " '/content/test/test/test/img_1699.png': 0,\n",
       " '/content/test/test/test/img_1100.png': 0,\n",
       " '/content/test/test/test/img_1799.png': 0,\n",
       " '/content/test/test/test/img_1279.png': 0,\n",
       " '/content/test/test/test/img_0586.png': 0,\n",
       " '/content/test/test/test/img_1952.png': 0,\n",
       " '/content/test/test/test/img_1417.png': 0,\n",
       " '/content/test/test/test/img_1329.png': 0,\n",
       " '/content/test/test/test/img_1925.png': 0,\n",
       " '/content/test/test/test/img_1604.png': 0,\n",
       " '/content/test/test/test/img_1589.png': 0,\n",
       " '/content/test/test/test/img_0205.png': 0,\n",
       " '/content/test/test/test/img_1088.png': 0,\n",
       " '/content/test/test/test/img_1044.png': 0,\n",
       " '/content/test/test/test/img_0516.png': 0,\n",
       " '/content/test/test/test/img_1536.png': 0,\n",
       " '/content/test/test/test/img_0478.png': 0,\n",
       " '/content/test/test/test/img_0823.png': 0,\n",
       " '/content/test/test/test/img_0154.png': 0,\n",
       " '/content/test/test/test/img_0810.png': 0,\n",
       " '/content/test/test/test/img_0212.png': 0,\n",
       " '/content/test/test/test/img_0528.png': 0,\n",
       " '/content/test/test/test/img_1358.png': 0,\n",
       " '/content/test/test/test/img_0991.png': 0,\n",
       " '/content/test/test/test/img_2055.png': 0,\n",
       " '/content/test/test/test/img_0518.png': 0,\n",
       " '/content/test/test/test/img_1167.png': 0,\n",
       " '/content/test/test/test/img_0429.png': 0,\n",
       " '/content/test/test/test/img_2207.png': 0,\n",
       " '/content/test/test/test/img_0626.png': 0,\n",
       " '/content/test/test/test/img_2431.png': 0,\n",
       " '/content/test/test/test/img_0750.png': 0,\n",
       " '/content/test/test/test/img_2004.png': 0,\n",
       " '/content/test/test/test/img_1060.png': 0,\n",
       " '/content/test/test/test/img_0018.png': 0,\n",
       " '/content/test/test/test/img_0182.png': 0,\n",
       " '/content/test/test/test/img_2326.png': 0,\n",
       " '/content/test/test/test/img_1328.png': 0,\n",
       " '/content/test/test/test/img_0986.png': 0,\n",
       " '/content/test/test/test/img_2175.png': 0,\n",
       " '/content/test/test/test/img_1954.png': 0,\n",
       " '/content/test/test/test/img_0712.png': 0,\n",
       " '/content/test/test/test/img_1695.png': 0,\n",
       " '/content/test/test/test/img_1501.png': 0,\n",
       " '/content/test/test/test/img_0432.png': 0,\n",
       " '/content/test/test/test/img_2047.png': 0,\n",
       " '/content/test/test/test/img_2167.png': 0,\n",
       " '/content/test/test/test/img_0463.png': 0,\n",
       " '/content/test/test/test/img_0127.png': 0,\n",
       " '/content/test/test/test/img_2345.png': 0,\n",
       " '/content/test/test/test/img_0005.png': 0,\n",
       " '/content/test/test/test/img_0040.png': 0,\n",
       " '/content/test/test/test/img_1520.png': 0,\n",
       " '/content/test/test/test/img_1429.png': 0,\n",
       " '/content/test/test/test/img_0974.png': 0,\n",
       " '/content/test/test/test/img_2395.png': 0,\n",
       " '/content/test/test/test/img_0101.png': 0,\n",
       " '/content/test/test/test/img_1749.png': 0,\n",
       " '/content/test/test/test/img_2182.png': 0,\n",
       " '/content/test/test/test/img_0638.png': 0,\n",
       " '/content/test/test/test/img_0061.png': 0,\n",
       " '/content/test/test/test/img_2335.png': 0,\n",
       " '/content/test/test/test/img_1230.png': 0,\n",
       " '/content/test/test/test/img_0775.png': 0,\n",
       " '/content/test/test/test/img_2498.png': 0,\n",
       " '/content/test/test/test/img_0447.png': 0,\n",
       " '/content/test/test/test/img_0027.png': 0,\n",
       " '/content/test/test/test/img_0763.png': 0,\n",
       " '/content/test/test/test/img_1841.png': 0,\n",
       " '/content/test/test/test/img_1449.png': 0,\n",
       " '/content/test/test/test/img_1089.png': 0,\n",
       " '/content/test/test/test/img_1301.png': 0,\n",
       " '/content/test/test/test/img_1802.png': 0,\n",
       " '/content/test/test/test/img_0563.png': 0,\n",
       " '/content/test/test/test/img_2414.png': 0,\n",
       " '/content/test/test/test/img_0903.png': 0,\n",
       " '/content/test/test/test/img_1979.png': 0,\n",
       " '/content/test/test/test/img_1383.png': 0,\n",
       " '/content/test/test/test/img_1003.png': 0,\n",
       " '/content/test/test/test/img_2030.png': 0,\n",
       " '/content/test/test/test/img_2233.png': 0,\n",
       " '/content/test/test/test/img_2066.png': 0,\n",
       " '/content/test/test/test/img_1437.png': 0,\n",
       " '/content/test/test/test/img_0691.png': 0,\n",
       " '/content/test/test/test/img_2060.png': 0,\n",
       " '/content/test/test/test/img_0902.png': 0,\n",
       " '/content/test/test/test/img_0122.png': 0,\n",
       " '/content/test/test/test/img_0105.png': 0,\n",
       " '/content/test/test/test/img_2137.png': 0,\n",
       " '/content/test/test/test/img_0468.png': 0,\n",
       " '/content/test/test/test/img_0499.png': 0,\n",
       " '/content/test/test/test/img_1166.png': 0,\n",
       " '/content/test/test/test/img_1777.png': 0,\n",
       " '/content/test/test/test/img_2228.png': 0,\n",
       " '/content/test/test/test/img_1572.png': 0,\n",
       " '/content/test/test/test/img_1864.png': 0,\n",
       " '/content/test/test/test/img_1983.png': 0,\n",
       " '/content/test/test/test/img_0495.png': 0,\n",
       " '/content/test/test/test/img_1497.png': 0,\n",
       " '/content/test/test/test/img_1714.png': 0,\n",
       " '/content/test/test/test/img_1558.png': 0,\n",
       " '/content/test/test/test/img_0378.png': 0,\n",
       " '/content/test/test/test/img_1644.png': 0,\n",
       " '/content/test/test/test/img_1663.png': 0,\n",
       " '/content/test/test/test/img_0242.png': 0,\n",
       " '/content/test/test/test/img_0166.png': 0,\n",
       " '/content/test/test/test/img_1074.png': 0,\n",
       " '/content/test/test/test/img_2086.png': 0,\n",
       " '/content/test/test/test/img_0947.png': 0,\n",
       " '/content/test/test/test/img_0312.png': 0,\n",
       " '/content/test/test/test/img_2106.png': 0,\n",
       " '/content/test/test/test/img_1827.png': 0,\n",
       " '/content/test/test/test/img_1067.png': 0,\n",
       " '/content/test/test/test/img_0245.png': 0,\n",
       " '/content/test/test/test/img_0353.png': 0,\n",
       " '/content/test/test/test/img_0658.png': 0,\n",
       " '/content/test/test/test/img_1913.png': 0,\n",
       " '/content/test/test/test/img_0216.png': 0,\n",
       " '/content/test/test/test/img_2124.png': 0,\n",
       " '/content/test/test/test/img_1596.png': 0,\n",
       " '/content/test/test/test/img_2368.png': 0,\n",
       " '/content/test/test/test/img_2091.png': 0,\n",
       " '/content/test/test/test/img_1029.png': 0,\n",
       " '/content/test/test/test/img_0742.png': 0,\n",
       " '/content/test/test/test/img_2327.png': 0,\n",
       " '/content/test/test/test/img_0376.png': 0,\n",
       " '/content/test/test/test/img_1016.png': 0,\n",
       " '/content/test/test/test/img_0526.png': 0,\n",
       " '/content/test/test/test/img_0197.png': 0,\n",
       " '/content/test/test/test/img_0731.png': 0,\n",
       " '/content/test/test/test/img_1109.png': 0,\n",
       " '/content/test/test/test/img_0217.png': 0,\n",
       " '/content/test/test/test/img_2410.png': 0,\n",
       " '/content/test/test/test/img_1320.png': 0,\n",
       " '/content/test/test/test/img_0440.png': 0,\n",
       " '/content/test/test/test/img_0441.png': 0,\n",
       " '/content/test/test/test/img_1569.png': 0,\n",
       " '/content/test/test/test/img_1386.png': 0,\n",
       " '/content/test/test/test/img_0015.png': 0,\n",
       " '/content/test/test/test/img_1579.png': 0,\n",
       " '/content/test/test/test/img_1450.png': 0,\n",
       " '/content/test/test/test/img_2471.png': 0,\n",
       " '/content/test/test/test/img_2378.png': 0,\n",
       " '/content/test/test/test/img_0633.png': 0,\n",
       " '/content/test/test/test/img_0339.png': 0,\n",
       " '/content/test/test/test/img_0489.png': 0,\n",
       " '/content/test/test/test/img_0266.png': 0,\n",
       " '/content/test/test/test/img_1262.png': 0,\n",
       " '/content/test/test/test/img_2153.png': 0,\n",
       " '/content/test/test/test/img_1098.png': 0,\n",
       " '/content/test/test/test/img_2042.png': 0,\n",
       " '/content/test/test/test/img_2193.png': 0,\n",
       " '/content/test/test/test/img_0044.png': 0,\n",
       " '/content/test/test/test/img_0968.png': 0,\n",
       " '/content/test/test/test/img_0718.png': 0,\n",
       " '/content/test/test/test/img_2376.png': 0,\n",
       " '/content/test/test/test/img_1372.png': 0,\n",
       " '/content/test/test/test/img_1080.png': 0,\n",
       " '/content/test/test/test/img_1601.png': 0,\n",
       " '/content/test/test/test/img_1077.png': 0,\n",
       " '/content/test/test/test/img_0084.png': 0,\n",
       " '/content/test/test/test/img_2469.png': 0,\n",
       " '/content/test/test/test/img_0705.png': 0,\n",
       " '/content/test/test/test/img_2482.png': 0,\n",
       " '/content/test/test/test/img_1253.png': 0,\n",
       " '/content/test/test/test/img_0781.png': 0,\n",
       " '/content/test/test/test/img_2360.png': 0,\n",
       " '/content/test/test/test/img_0978.png': 0,\n",
       " '/content/test/test/test/img_1106.png': 0,\n",
       " '/content/test/test/test/img_2303.png': 0,\n",
       " '/content/test/test/test/img_1446.png': 0,\n",
       " '/content/test/test/test/img_0270.png': 0,\n",
       " '/content/test/test/test/img_2297.png': 0,\n",
       " '/content/test/test/test/img_0258.png': 0,\n",
       " '/content/test/test/test/img_0079.png': 0,\n",
       " '/content/test/test/test/img_0184.png': 0,\n",
       " '/content/test/test/test/img_0758.png': 0,\n",
       " '/content/test/test/test/img_1676.png': 0,\n",
       " '/content/test/test/test/img_0617.png': 0,\n",
       " '/content/test/test/test/img_2216.png': 0,\n",
       " '/content/test/test/test/img_0824.png': 0,\n",
       " '/content/test/test/test/img_1710.png': 0,\n",
       " '/content/test/test/test/img_0768.png': 0,\n",
       " '/content/test/test/test/img_2239.png': 0,\n",
       " '/content/test/test/test/img_0053.png': 0,\n",
       " '/content/test/test/test/img_0505.png': 0,\n",
       " '/content/test/test/test/img_0269.png': 0,\n",
       " '/content/test/test/test/img_1795.png': 0,\n",
       " '/content/test/test/test/img_1576.png': 0,\n",
       " '/content/test/test/test/img_1867.png': 0,\n",
       " '/content/test/test/test/img_0760.png': 0,\n",
       " '/content/test/test/test/img_0002.png': 0,\n",
       " '/content/test/test/test/img_0168.png': 0,\n",
       " '/content/test/test/test/img_0916.png': 0,\n",
       " '/content/test/test/test/img_2109.png': 0,\n",
       " '/content/test/test/test/img_1598.png': 0,\n",
       " '/content/test/test/test/img_1928.png': 0,\n",
       " '/content/test/test/test/img_0006.png': 0,\n",
       " '/content/test/test/test/img_0690.png': 0,\n",
       " '/content/test/test/test/img_2333.png': 0,\n",
       " '/content/test/test/test/img_2439.png': 0,\n",
       " '/content/test/test/test/img_0675.png': 0,\n",
       " '/content/test/test/test/img_1683.png': 0,\n",
       " '/content/test/test/test/img_0083.png': 0,\n",
       " '/content/test/test/test/img_1702.png': 0,\n",
       " '/content/test/test/test/img_1315.png': 0,\n",
       " '/content/test/test/test/img_2029.png': 0,\n",
       " '/content/test/test/test/img_1233.png': 0,\n",
       " '/content/test/test/test/img_1504.png': 0,\n",
       " '/content/test/test/test/img_0004.png': 0,\n",
       " '/content/test/test/test/img_2087.png': 0,\n",
       " '/content/test/test/test/img_1980.png': 0,\n",
       " '/content/test/test/test/img_0165.png': 0,\n",
       " '/content/test/test/test/img_2082.png': 0,\n",
       " '/content/test/test/test/img_1788.png': 0,\n",
       " '/content/test/test/test/img_2398.png': 0,\n",
       " '/content/test/test/test/img_0301.png': 0,\n",
       " '/content/test/test/test/img_0521.png': 0,\n",
       " '/content/test/test/test/img_0931.png': 0,\n",
       " '/content/test/test/test/img_2390.png': 0,\n",
       " '/content/test/test/test/img_0912.png': 0,\n",
       " '/content/test/test/test/img_1761.png': 0,\n",
       " '/content/test/test/test/img_0244.png': 0,\n",
       " '/content/test/test/test/img_0186.png': 0,\n",
       " '/content/test/test/test/img_0627.png': 0,\n",
       " '/content/test/test/test/img_0278.png': 0,\n",
       " '/content/test/test/test/img_2103.png': 0,\n",
       " '/content/test/test/test/img_1535.png': 0,\n",
       " '/content/test/test/test/img_2261.png': 0,\n",
       " '/content/test/test/test/img_2243.png': 0,\n",
       " '/content/test/test/test/img_1325.png': 0,\n",
       " '/content/test/test/test/img_0822.png': 0,\n",
       " '/content/test/test/test/img_1267.png': 0,\n",
       " '/content/test/test/test/img_2075.png': 0,\n",
       " '/content/test/test/test/img_2266.png': 0,\n",
       " '/content/test/test/test/img_2475.png': 0,\n",
       " '/content/test/test/test/img_1232.png': 0,\n",
       " '/content/test/test/test/img_1214.png': 0,\n",
       " '/content/test/test/test/img_0371.png': 0,\n",
       " '/content/test/test/test/img_0818.png': 0,\n",
       " '/content/test/test/test/img_1380.png': 0,\n",
       " '/content/test/test/test/img_1756.png': 0,\n",
       " '/content/test/test/test/img_0828.png': 0,\n",
       " '/content/test/test/test/img_1340.png': 0,\n",
       " '/content/test/test/test/img_0632.png': 0,\n",
       " '/content/test/test/test/img_0026.png': 0,\n",
       " '/content/test/test/test/img_1073.png': 0,\n",
       " '/content/test/test/test/img_1946.png': 0,\n",
       " '/content/test/test/test/img_2203.png': 0,\n",
       " '/content/test/test/test/img_0535.png': 0,\n",
       " '/content/test/test/test/img_1465.png': 0,\n",
       " '/content/test/test/test/img_1657.png': 0,\n",
       " '/content/test/test/test/img_0969.png': 0,\n",
       " '/content/test/test/test/img_2166.png': 0,\n",
       " '/content/test/test/test/img_2000.png': 0,\n",
       " '/content/test/test/test/img_0875.png': 0,\n",
       " '/content/test/test/test/img_1821.png': 0,\n",
       " '/content/test/test/test/img_1960.png': 0,\n",
       " '/content/test/test/test/img_0424.png': 0,\n",
       " '/content/test/test/test/img_0375.png': 0,\n",
       " '/content/test/test/test/img_0444.png': 0,\n",
       " '/content/test/test/test/img_0790.png': 0,\n",
       " '/content/test/test/test/img_1239.png': 0,\n",
       " '/content/test/test/test/img_0529.png': 0,\n",
       " '/content/test/test/test/img_0946.png': 0,\n",
       " '/content/test/test/test/img_1865.png': 0,\n",
       " '/content/test/test/test/img_2215.png': 0,\n",
       " '/content/test/test/test/img_1092.png': 0,\n",
       " '/content/test/test/test/img_1499.png': 0,\n",
       " '/content/test/test/test/img_1175.png': 0,\n",
       " '/content/test/test/test/img_2470.png': 0,\n",
       " '/content/test/test/test/img_2254.png': 0,\n",
       " '/content/test/test/test/img_0765.png': 0,\n",
       " '/content/test/test/test/img_2462.png': 0,\n",
       " '/content/test/test/test/img_1326.png': 0,\n",
       " '/content/test/test/test/img_1932.png': 0,\n",
       " '/content/test/test/test/img_0233.png': 0,\n",
       " '/content/test/test/test/img_2391.png': 0,\n",
       " '/content/test/test/test/img_0939.png': 0,\n",
       " '/content/test/test/test/img_1200.png': 0,\n",
       " '/content/test/test/test/img_1108.png': 0,\n",
       " '/content/test/test/test/img_0834.png': 0,\n",
       " '/content/test/test/test/img_0733.png': 0,\n",
       " '/content/test/test/test/img_1778.png': 0,\n",
       " '/content/test/test/test/img_1409.png': 0,\n",
       " '/content/test/test/test/img_1071.png': 0,\n",
       " '/content/test/test/test/img_1723.png': 0,\n",
       " '/content/test/test/test/img_0249.png': 0,\n",
       " '/content/test/test/test/img_1374.png': 0,\n",
       " '/content/test/test/test/img_0267.png': 0,\n",
       " '/content/test/test/test/img_0373.png': 0,\n",
       " '/content/test/test/test/img_1839.png': 0,\n",
       " '/content/test/test/test/img_2291.png': 0,\n",
       " '/content/test/test/test/img_1180.png': 0,\n",
       " '/content/test/test/test/img_1146.png': 0,\n",
       " '/content/test/test/test/img_2479.png': 0,\n",
       " '/content/test/test/test/img_1650.png': 0,\n",
       " '/content/test/test/test/img_0734.png': 0,\n",
       " '/content/test/test/test/img_1774.png': 0,\n",
       " '/content/test/test/test/img_0909.png': 0,\n",
       " '/content/test/test/test/img_0615.png': 0,\n",
       " '/content/test/test/test/img_0311.png': 0,\n",
       " '/content/test/test/test/img_1151.png': 0,\n",
       " '/content/test/test/test/img_1791.png': 0,\n",
       " '/content/test/test/test/img_0077.png': 0,\n",
       " '/content/test/test/test/img_1617.png': 0,\n",
       " '/content/test/test/test/img_0519.png': 0,\n",
       " '/content/test/test/test/img_0735.png': 0,\n",
       " '/content/test/test/test/img_2104.png': 0,\n",
       " '/content/test/test/test/img_0573.png': 0,\n",
       " '/content/test/test/test/img_1939.png': 0,\n",
       " '/content/test/test/test/img_1490.png': 0,\n",
       " '/content/test/test/test/img_0063.png': 0,\n",
       " '/content/test/test/test/img_0770.png': 0,\n",
       " '/content/test/test/test/img_2481.png': 0,\n",
       " '/content/test/test/test/img_0913.png': 0,\n",
       " '/content/test/test/test/img_1938.png': 0,\n",
       " '/content/test/test/test/img_1317.png': 0,\n",
       " '/content/test/test/test/img_0784.png': 0,\n",
       " '/content/test/test/test/img_0022.png': 0,\n",
       " '/content/test/test/test/img_1037.png': 0,\n",
       " '/content/test/test/test/img_0866.png': 0,\n",
       " '/content/test/test/test/img_0030.png': 0,\n",
       " '/content/test/test/test/img_1798.png': 0,\n",
       " '/content/test/test/test/img_1217.png': 0,\n",
       " '/content/test/test/test/img_1357.png': 0,\n",
       " '/content/test/test/test/img_1759.png': 0,\n",
       " '/content/test/test/test/img_0115.png': 0,\n",
       " '/content/test/test/test/img_0900.png': 0,\n",
       " '/content/test/test/test/img_2252.png': 0,\n",
       " '/content/test/test/test/img_2001.png': 0,\n",
       " '/content/test/test/test/img_0190.png': 0,\n",
       " '/content/test/test/test/img_0360.png': 0,\n",
       " '/content/test/test/test/img_1989.png': 0,\n",
       " '/content/test/test/test/img_2237.png': 0,\n",
       " '/content/test/test/test/img_1549.png': 0,\n",
       " '/content/test/test/test/img_1517.png': 0,\n",
       " '/content/test/test/test/img_2271.png': 0,\n",
       " '/content/test/test/test/img_1508.png': 0,\n",
       " '/content/test/test/test/img_0538.png': 0,\n",
       " '/content/test/test/test/img_2477.png': 0,\n",
       " '/content/test/test/test/img_2156.png': 0,\n",
       " '/content/test/test/test/img_2018.png': 0,\n",
       " '/content/test/test/test/img_1605.png': 0,\n",
       " '/content/test/test/test/img_2065.png': 0,\n",
       " '/content/test/test/test/img_0434.png': 0,\n",
       " '/content/test/test/test/img_0417.png': 0,\n",
       " '/content/test/test/test/img_1039.png': 0,\n",
       " '/content/test/test/test/img_0043.png': 0,\n",
       " '/content/test/test/test/img_2354.png': 0,\n",
       " '/content/test/test/test/img_1805.png': 0,\n",
       " '/content/test/test/test/img_1434.png': 0,\n",
       " '/content/test/test/test/img_1684.png': 0,\n",
       " '/content/test/test/test/img_2437.png': 0,\n",
       " '/content/test/test/test/img_0348.png': 0,\n",
       " '/content/test/test/test/img_2494.png': 0,\n",
       " '/content/test/test/test/img_0158.png': 0,\n",
       " '/content/test/test/test/img_2249.png': 0,\n",
       " '/content/test/test/test/img_0698.png': 0,\n",
       " '/content/test/test/test/img_1091.png': 0,\n",
       " '/content/test/test/test/img_0922.png': 0,\n",
       " '/content/test/test/test/img_2344.png': 0,\n",
       " '/content/test/test/test/img_1724.png': 0,\n",
       " '/content/test/test/test/img_1538.png': 0,\n",
       " '/content/test/test/test/img_2204.png': 0,\n",
       " '/content/test/test/test/img_0780.png': 0,\n",
       " '/content/test/test/test/img_0046.png': 0,\n",
       " '/content/test/test/test/img_1049.png': 0,\n",
       " '/content/test/test/test/img_0050.png': 0,\n",
       " '/content/test/test/test/img_0502.png': 0,\n",
       " '/content/test/test/test/img_1924.png': 0,\n",
       " '/content/test/test/test/img_1891.png': 0,\n",
       " '/content/test/test/test/img_1402.png': 0,\n",
       " '/content/test/test/test/img_2389.png': 0,\n",
       " '/content/test/test/test/img_0761.png': 0,\n",
       " '/content/test/test/test/img_1266.png': 0,\n",
       " '/content/test/test/test/img_1737.png': 0,\n",
       " '/content/test/test/test/img_0420.png': 0,\n",
       " '/content/test/test/test/img_0789.png': 0,\n",
       " '/content/test/test/test/img_1271.png': 0,\n",
       " '/content/test/test/test/img_0262.png': 0,\n",
       " '/content/test/test/test/img_2240.png': 0,\n",
       " '/content/test/test/test/img_0701.png': 0,\n",
       " '/content/test/test/test/img_1445.png': 0,\n",
       " '/content/test/test/test/img_0206.png': 0,\n",
       " '/content/test/test/test/img_0932.png': 0,\n",
       " '/content/test/test/test/img_2220.png': 0,\n",
       " '/content/test/test/test/img_0739.png': 0,\n",
       " '/content/test/test/test/img_1808.png': 0,\n",
       " '/content/test/test/test/img_0074.png': 0,\n",
       " '/content/test/test/test/img_0151.png': 0,\n",
       " '/content/test/test/test/img_2379.png': 0,\n",
       " '/content/test/test/test/img_2313.png': 0,\n",
       " '/content/test/test/test/img_0850.png': 0,\n",
       " '/content/test/test/test/img_0341.png': 0,\n",
       " '/content/test/test/test/img_1234.png': 0,\n",
       " '/content/test/test/test/img_1362.png': 0,\n",
       " '/content/test/test/test/img_1537.png': 0,\n",
       " '/content/test/test/test/img_2308.png': 0,\n",
       " '/content/test/test/test/img_0582.png': 0,\n",
       " '/content/test/test/test/img_0646.png': 0,\n",
       " '/content/test/test/test/img_1550.png': 0,\n",
       " '/content/test/test/test/img_0161.png': 0,\n",
       " '/content/test/test/test/img_1831.png': 0,\n",
       " '/content/test/test/test/img_0008.png': 0,\n",
       " '/content/test/test/test/img_0012.png': 0,\n",
       " '/content/test/test/test/img_1208.png': 0,\n",
       " '/content/test/test/test/img_2413.png': 0,\n",
       " '/content/test/test/test/img_1828.png': 0,\n",
       " '/content/test/test/test/img_0272.png': 0,\n",
       " '/content/test/test/test/img_1985.png': 0,\n",
       " '/content/test/test/test/img_0557.png': 0,\n",
       " '/content/test/test/test/img_1050.png': 0,\n",
       " '/content/test/test/test/img_0106.png': 0,\n",
       " '/content/test/test/test/img_0883.png': 0,\n",
       " '/content/test/test/test/img_1105.png': 0,\n",
       " '/content/test/test/test/img_1581.png': 0,\n",
       " '/content/test/test/test/img_1893.png': 0,\n",
       " '/content/test/test/test/img_0604.png': 0,\n",
       " '/content/test/test/test/img_1333.png': 0,\n",
       " '/content/test/test/test/img_1015.png': 0,\n",
       " '/content/test/test/test/img_1815.png': 0,\n",
       " '/content/test/test/test/img_1552.png': 0,\n",
       " '/content/test/test/test/img_0310.png': 0,\n",
       " '/content/test/test/test/img_2409.png': 0,\n",
       " '/content/test/test/test/img_1075.png': 0,\n",
       " '/content/test/test/test/img_0042.png': 0,\n",
       " '/content/test/test/test/img_0560.png': 0,\n",
       " '/content/test/test/test/img_0365.png': 0,\n",
       " '/content/test/test/test/img_0157.png': 0,\n",
       " '/content/test/test/test/img_2486.png': 0,\n",
       " '/content/test/test/test/img_1889.png': 0,\n",
       " '/content/test/test/test/img_1486.png': 0,\n",
       " '/content/test/test/test/img_0594.png': 0,\n",
       " '/content/test/test/test/img_0214.png': 0,\n",
       " '/content/test/test/test/img_1915.png': 0,\n",
       " '/content/test/test/test/img_1396.png': 0,\n",
       " '/content/test/test/test/img_0430.png': 0,\n",
       " '/content/test/test/test/img_1463.png': 0,\n",
       " '/content/test/test/test/img_1090.png': 0,\n",
       " '/content/test/test/test/img_0114.png': 0,\n",
       " '/content/test/test/test/img_0667.png': 0,\n",
       " '/content/test/test/test/img_2411.png': 0,\n",
       " '/content/test/test/test/img_2126.png': 0,\n",
       " '/content/test/test/test/img_0145.png': 0,\n",
       " '/content/test/test/test/img_1226.png': 0,\n",
       " '/content/test/test/test/img_1919.png': 0,\n",
       " '/content/test/test/test/img_1205.png': 0,\n",
       " '/content/test/test/test/img_0985.png': 0,\n",
       " '/content/test/test/test/img_1125.png': 0,\n",
       " '/content/test/test/test/img_0459.png': 0,\n",
       " '/content/test/test/test/img_1692.png': 0,\n",
       " '/content/test/test/test/img_2127.png': 0,\n",
       " '/content/test/test/test/img_1204.png': 0,\n",
       " '/content/test/test/test/img_1115.png': 0,\n",
       " '/content/test/test/test/img_1428.png': 0,\n",
       " '/content/test/test/test/img_2338.png': 0,\n",
       " '/content/test/test/test/img_1281.png': 0,\n",
       " '/content/test/test/test/img_0672.png': 0,\n",
       " '/content/test/test/test/img_0826.png': 0,\n",
       " '/content/test/test/test/img_1139.png': 0,\n",
       " '/content/test/test/test/img_2277.png': 0,\n",
       " '/content/test/test/test/img_2361.png': 0,\n",
       " '/content/test/test/test/img_0530.png': 0,\n",
       " '/content/test/test/test/img_1845.png': 0,\n",
       " '/content/test/test/test/img_0490.png': 0,\n",
       " '/content/test/test/test/img_0307.png': 0,\n",
       " '/content/test/test/test/img_1452.png': 0,\n",
       " '/content/test/test/test/img_1926.png': 0,\n",
       " '/content/test/test/test/img_2341.png': 0,\n",
       " '/content/test/test/test/img_0803.png': 0,\n",
       " '/content/test/test/test/img_1969.png': 0,\n",
       " '/content/test/test/test/img_0342.png': 0,\n",
       " '/content/test/test/test/img_0552.png': 0,\n",
       " '/content/test/test/test/img_2097.png': 0,\n",
       " '/content/test/test/test/img_0011.png': 0,\n",
       " '/content/test/test/test/img_2472.png': 0,\n",
       " '/content/test/test/test/img_2405.png': 0,\n",
       " '/content/test/test/test/img_1031.png': 0,\n",
       " '/content/test/test/test/img_0060.png': 0,\n",
       " '/content/test/test/test/img_1570.png': 0,\n",
       " '/content/test/test/test/img_1781.png': 0,\n",
       " '/content/test/test/test/img_1546.png': 0,\n",
       " '/content/test/test/test/img_1876.png': 0,\n",
       " '/content/test/test/test/img_2270.png': 0,\n",
       " '/content/test/test/test/img_0584.png': 0,\n",
       " '/content/test/test/test/img_2468.png': 0,\n",
       " '/content/test/test/test/img_2112.png': 0,\n",
       " '/content/test/test/test/img_2365.png': 0,\n",
       " '/content/test/test/test/img_0807.png': 0,\n",
       " '/content/test/test/test/img_2259.png': 0,\n",
       " '/content/test/test/test/img_0372.png': 0,\n",
       " '/content/test/test/test/img_2225.png': 0,\n",
       " '/content/test/test/test/img_1121.png': 0,\n",
       " '/content/test/test/test/img_0171.png': 0,\n",
       " '/content/test/test/test/img_0334.png': 0,\n",
       " '/content/test/test/test/img_1691.png': 0,\n",
       " '/content/test/test/test/img_1158.png': 0,\n",
       " '/content/test/test/test/img_1147.png': 0,\n",
       " '/content/test/test/test/img_1700.png': 0,\n",
       " '/content/test/test/test/img_1931.png': 0,\n",
       " '/content/test/test/test/img_0634.png': 0,\n",
       " '/content/test/test/test/img_0284.png': 0,\n",
       " '/content/test/test/test/img_1423.png': 0,\n",
       " '/content/test/test/test/img_1323.png': 0,\n",
       " '/content/test/test/test/img_1514.png': 0,\n",
       " '/content/test/test/test/img_0951.png': 0,\n",
       " '/content/test/test/test/img_0072.png': 0,\n",
       " '/content/test/test/test/img_2102.png': 0,\n",
       " '/content/test/test/test/img_0840.png': 0,\n",
       " '/content/test/test/test/img_2081.png': 0,\n",
       " '/content/test/test/test/img_2241.png': 0,\n",
       " '/content/test/test/test/img_1018.png': 0,\n",
       " '/content/test/test/test/img_0362.png': 0,\n",
       " '/content/test/test/test/img_1744.png': 0,\n",
       " '/content/test/test/test/img_2110.png': 0,\n",
       " '/content/test/test/test/img_2068.png': 0,\n",
       " '/content/test/test/test/img_0662.png': 0,\n",
       " '/content/test/test/test/img_0506.png': 0,\n",
       " '/content/test/test/test/img_2321.png': 0,\n",
       " '/content/test/test/test/img_0726.png': 0,\n",
       " '/content/test/test/test/img_2352.png': 0,\n",
       " '/content/test/test/test/img_0880.png': 0,\n",
       " '/content/test/test/test/img_2116.png': 0,\n",
       " '/content/test/test/test/img_0703.png': 0,\n",
       " '/content/test/test/test/img_1718.png': 0,\n",
       " '/content/test/test/test/img_0088.png': 0,\n",
       " '/content/test/test/test/img_1849.png': 0,\n",
       " '/content/test/test/test/img_1818.png': 0,\n",
       " '/content/test/test/test/img_1725.png': 0,\n",
       " '/content/test/test/test/img_2149.png': 0,\n",
       " '/content/test/test/test/img_0882.png': 0,\n",
       " '/content/test/test/test/img_2099.png': 0,\n",
       " '/content/test/test/test/img_1929.png': 0,\n",
       " '/content/test/test/test/img_0473.png': 0,\n",
       " '/content/test/test/test/img_1704.png': 0,\n",
       " '/content/test/test/test/img_1754.png': 0,\n",
       " '/content/test/test/test/img_1385.png': 0,\n",
       " '/content/test/test/test/img_2363.png': 0,\n",
       " '/content/test/test/test/img_1322.png': 0,\n",
       " '/content/test/test/test/img_1655.png': 0,\n",
       " '/content/test/test/test/img_0003.png': 0,\n",
       " '/content/test/test/test/img_1696.png': 0,\n",
       " '/content/test/test/test/img_0944.png': 0,\n",
       " '/content/test/test/test/img_1310.png': 0,\n",
       " '/content/test/test/test/img_1043.png': 0,\n",
       " '/content/test/test/test/img_0678.png': 0,\n",
       " '/content/test/test/test/img_0704.png': 0,\n",
       " '/content/test/test/test/img_0085.png': 0,\n",
       " '/content/test/test/test/img_0247.png': 0,\n",
       " '/content/test/test/test/img_0386.png': 0,\n",
       " '/content/test/test/test/img_1794.png': 0,\n",
       " '/content/test/test/test/img_1303.png': 0,\n",
       " '/content/test/test/test/img_2370.png': 0,\n",
       " '/content/test/test/test/img_2083.png': 0,\n",
       " '/content/test/test/test/img_1408.png': 0,\n",
       " '/content/test/test/test/img_1027.png': 0,\n",
       " '/content/test/test/test/img_0578.png': 0,\n",
       " '/content/test/test/test/img_1251.png': 0,\n",
       " '/content/test/test/test/img_0368.png': 0,\n",
       " '/content/test/test/test/img_0500.png': 0,\n",
       " '/content/test/test/test/img_2052.png': 0,\n",
       " '/content/test/test/test/img_0847.png': 0,\n",
       " '/content/test/test/test/img_1943.png': 0,\n",
       " '/content/test/test/test/img_1229.png': 0,\n",
       " '/content/test/test/test/img_2436.png': 0,\n",
       " '/content/test/test/test/img_2263.png': 0,\n",
       " '/content/test/test/test/img_1651.png': 0,\n",
       " '/content/test/test/test/img_0231.png': 0,\n",
       " '/content/test/test/test/img_0092.png': 0,\n",
       " '/content/test/test/test/img_0871.png': 0,\n",
       " '/content/test/test/test/img_2288.png': 0,\n",
       " '/content/test/test/test/img_1118.png': 0,\n",
       " '/content/test/test/test/img_0639.png': 0,\n",
       " '/content/test/test/test/img_1290.png': 0,\n",
       " '/content/test/test/test/img_0450.png': 0,\n",
       " '/content/test/test/test/img_2251.png': 0,\n",
       " '/content/test/test/test/img_0831.png': 0,\n",
       " '/content/test/test/test/img_2488.png': 0,\n",
       " '/content/test/test/test/img_0407.png': 0,\n",
       " '/content/test/test/test/img_1199.png': 0,\n",
       " '/content/test/test/test/img_1470.png': 0,\n",
       " '/content/test/test/test/img_1442.png': 0,\n",
       " '/content/test/test/test/img_1892.png': 0,\n",
       " '/content/test/test/test/img_0548.png': 0,\n",
       " '/content/test/test/test/img_1806.png': 0,\n",
       " '/content/test/test/test/img_0746.png': 0,\n",
       " '/content/test/test/test/img_0996.png': 0,\n",
       " '/content/test/test/test/img_0297.png': 0,\n",
       " '/content/test/test/test/img_2015.png': 0,\n",
       " '/content/test/test/test/img_0045.png': 0,\n",
       " '/content/test/test/test/img_1687.png': 0,\n",
       " '/content/test/test/test/img_0625.png': 0,\n",
       " '/content/test/test/test/img_1533.png': 0,\n",
       " '/content/test/test/test/img_1896.png': 0,\n",
       " '/content/test/test/test/img_0096.png': 0,\n",
       " '/content/test/test/test/img_2367.png': 0,\n",
       " '/content/test/test/test/img_1141.png': 0,\n",
       " '/content/test/test/test/img_1361.png': 0,\n",
       " '/content/test/test/test/img_1527.png': 0,\n",
       " '/content/test/test/test/img_0711.png': 0,\n",
       " '/content/test/test/test/img_0890.png': 0,\n",
       " '/content/test/test/test/img_0138.png': 0,\n",
       " '/content/test/test/test/img_0993.png': 0,\n",
       " '/content/test/test/test/img_0533.png': 0,\n",
       " '/content/test/test/test/img_2113.png': 0,\n",
       " '/content/test/test/test/img_2180.png': 0,\n",
       " '/content/test/test/test/img_0719.png': 0,\n",
       " '/content/test/test/test/img_1487.png': 0,\n",
       " '/content/test/test/test/img_0942.png': 0,\n",
       " '/content/test/test/test/img_1399.png': 0,\n",
       " '/content/test/test/test/img_2183.png': 0,\n",
       " '/content/test/test/test/img_2117.png': 0,\n",
       " '/content/test/test/test/img_1555.png': 0,\n",
       " '/content/test/test/test/img_1544.png': 0,\n",
       " '/content/test/test/test/img_1982.png': 0,\n",
       " '/content/test/test/test/img_1181.png': 0,\n",
       " '/content/test/test/test/img_1418.png': 0,\n",
       " '/content/test/test/test/img_0836.png': 0,\n",
       " '/content/test/test/test/img_2369.png': 0,\n",
       " '/content/test/test/test/img_2074.png': 0,\n",
       " '/content/test/test/test/img_0858.png': 0,\n",
       " '/content/test/test/test/img_0160.png': 0,\n",
       " '/content/test/test/test/img_0403.png': 0,\n",
       " '/content/test/test/test/img_0891.png': 0,\n",
       " '/content/test/test/test/img_1285.png': 0,\n",
       " '/content/test/test/test/img_0713.png': 0,\n",
       " '/content/test/test/test/img_2023.png': 0,\n",
       " '/content/test/test/test/img_1005.png': 0,\n",
       " '/content/test/test/test/img_1410.png': 0,\n",
       " '/content/test/test/test/img_2094.png': 0,\n",
       " '/content/test/test/test/img_2067.png': 0,\n",
       " '/content/test/test/test/img_2072.png': 0,\n",
       " '/content/test/test/test/img_0856.png': 0,\n",
       " '/content/test/test/test/img_0226.png': 0,\n",
       " '/content/test/test/test/img_0095.png': 0,\n",
       " '/content/test/test/test/img_1971.png': 0,\n",
       " '/content/test/test/test/img_0133.png': 0,\n",
       " '/content/test/test/test/img_2057.png': 0,\n",
       " '/content/test/test/test/img_0422.png': 0,\n",
       " '/content/test/test/test/img_0975.png': 0,\n",
       " '/content/test/test/test/img_0153.png': 0,\n",
       " '/content/test/test/test/img_1009.png': 0,\n",
       " '/content/test/test/test/img_0754.png': 0,\n",
       " '/content/test/test/test/img_0778.png': 0,\n",
       " '/content/test/test/test/img_0981.png': 0,\n",
       " '/content/test/test/test/img_2382.png': 0,\n",
       " '/content/test/test/test/img_0757.png': 0,\n",
       " '/content/test/test/test/img_0961.png': 0,\n",
       " '/content/test/test/test/img_0141.png': 0,\n",
       " '/content/test/test/test/img_1649.png': 0,\n",
       " '/content/test/test/test/img_2238.png': 0,\n",
       " '/content/test/test/test/img_1062.png': 0,\n",
       " '/content/test/test/test/img_2458.png': 0,\n",
       " '/content/test/test/test/img_1588.png': 0,\n",
       " '/content/test/test/test/img_1583.png': 0,\n",
       " '/content/test/test/test/img_1621.png': 0,\n",
       " '/content/test/test/test/img_1457.png': 0,\n",
       " '/content/test/test/test/img_1378.png': 0,\n",
       " '/content/test/test/test/img_1752.png': 0,\n",
       " '/content/test/test/test/img_2282.png': 0,\n",
       " '/content/test/test/test/img_1489.png': 0,\n",
       " '/content/test/test/test/img_0556.png': 0,\n",
       " '/content/test/test/test/img_2387.png': 0,\n",
       " '/content/test/test/test/img_0729.png': 0,\n",
       " '/content/test/test/test/img_0943.png': 0,\n",
       " '/content/test/test/test/img_1370.png': 0,\n",
       " '/content/test/test/test/img_1395.png': 0,\n",
       " '/content/test/test/test/img_0324.png': 0,\n",
       " '/content/test/test/test/img_2028.png': 0,\n",
       " '/content/test/test/test/img_0522.png': 0,\n",
       " '/content/test/test/test/img_0173.png': 0,\n",
       " '/content/test/test/test/img_0762.png': 0,\n",
       " '/content/test/test/test/img_1593.png': 0,\n",
       " '/content/test/test/test/img_1482.png': 0,\n",
       " '/content/test/test/test/img_0935.png': 0,\n",
       " '/content/test/test/test/img_2147.png': 0,\n",
       " '/content/test/test/test/img_1276.png': 0,\n",
       " '/content/test/test/test/img_0306.png': 0,\n",
       " '/content/test/test/test/img_0137.png': 0,\n",
       " '/content/test/test/test/img_2461.png': 0,\n",
       " '/content/test/test/test/img_1835.png': 0,\n",
       " '/content/test/test/test/img_2014.png': 0,\n",
       " '/content/test/test/test/img_0997.png': 0,\n",
       " '/content/test/test/test/img_2396.png': 0,\n",
       " '/content/test/test/test/img_0788.png': 0,\n",
       " '/content/test/test/test/img_0460.png': 0,\n",
       " '/content/test/test/test/img_1834.png': 0,\n",
       " '/content/test/test/test/img_1131.png': 0,\n",
       " '/content/test/test/test/img_2114.png': 0,\n",
       " '/content/test/test/test/img_2399.png': 0,\n",
       " '/content/test/test/test/img_0973.png': 0,\n",
       " '/content/test/test/test/img_2063.png': 0,\n",
       " '/content/test/test/test/img_1394.png': 0,\n",
       " '/content/test/test/test/img_0577.png': 0,\n",
       " '/content/test/test/test/img_1190.png': 0,\n",
       " '/content/test/test/test/img_1400.png': 0,\n",
       " '/content/test/test/test/img_0542.png': 0,\n",
       " '/content/test/test/test/img_0035.png': 0,\n",
       " '/content/test/test/test/img_1474.png': 0,\n",
       " '/content/test/test/test/img_0673.png': 0,\n",
       " '/content/test/test/test/img_2272.png': 0,\n",
       " '/content/test/test/test/img_0815.png': 0,\n",
       " '/content/test/test/test/img_0616.png': 0,\n",
       " '/content/test/test/test/img_1881.png': 0,\n",
       " '/content/test/test/test/img_0663.png': 0,\n",
       " '/content/test/test/test/img_0480.png': 0,\n",
       " '/content/test/test/test/img_0222.png': 0,\n",
       " '/content/test/test/test/img_0383.png': 0,\n",
       " '/content/test/test/test/img_2466.png': 0,\n",
       " '/content/test/test/test/img_1871.png': 0,\n",
       " '/content/test/test/test/img_0904.png': 0,\n",
       " '/content/test/test/test/img_2342.png': 0,\n",
       " '/content/test/test/test/img_0779.png': 0,\n",
       " '/content/test/test/test/img_1740.png': 0,\n",
       " '/content/test/test/test/img_0204.png': 0,\n",
       " '/content/test/test/test/img_0561.png': 0,\n",
       " '/content/test/test/test/img_1270.png': 0,\n",
       " '/content/test/test/test/img_0782.png': 0,\n",
       " '/content/test/test/test/img_2151.png': 0,\n",
       " '/content/test/test/test/img_2095.png': 0,\n",
       " '/content/test/test/test/img_2474.png': 0,\n",
       " '/content/test/test/test/img_1148.png': 0,\n",
       " '/content/test/test/test/img_1447.png': 0,\n",
       " '/content/test/test/test/img_2178.png': 0,\n",
       " '/content/test/test/test/img_1011.png': 0,\n",
       " '/content/test/test/test/img_2058.png': 0,\n",
       " '/content/test/test/test/img_1189.png': 0,\n",
       " '/content/test/test/test/img_0955.png': 0,\n",
       " '/content/test/test/test/img_0228.png': 0,\n",
       " '/content/test/test/test/img_0054.png': 0,\n",
       " '/content/test/test/test/img_0876.png': 0,\n",
       " '/content/test/test/test/img_1675.png': 0,\n",
       " '/content/test/test/test/img_2351.png': 0,\n",
       " '/content/test/test/test/img_1994.png': 0,\n",
       " '/content/test/test/test/img_2294.png': 0,\n",
       " '/content/test/test/test/img_2211.png': 0,\n",
       " '/content/test/test/test/img_0398.png': 0,\n",
       " '/content/test/test/test/img_1840.png': 0,\n",
       " '/content/test/test/test/img_1992.png': 0,\n",
       " '/content/test/test/test/img_2324.png': 0,\n",
       " '/content/test/test/test/img_0125.png': 0,\n",
       " '/content/test/test/test/img_1331.png': 0,\n",
       " '/content/test/test/test/img_2299.png': 0,\n",
       " '/content/test/test/test/img_0515.png': 0,\n",
       " '/content/test/test/test/img_1220.png': 0,\n",
       " '/content/test/test/test/img_1093.png': 0,\n",
       " '/content/test/test/test/img_1726.png': 0,\n",
       " '/content/test/test/test/img_1542.png': 0,\n",
       " '/content/test/test/test/img_1114.png': 0,\n",
       " '/content/test/test/test/img_2158.png': 0,\n",
       " '/content/test/test/test/img_2496.png': 0,\n",
       " '/content/test/test/test/img_2442.png': 0,\n",
       " '/content/test/test/test/img_2454.png': 0,\n",
       " '/content/test/test/test/img_2451.png': 0,\n",
       " '/content/test/test/test/img_2198.png': 0,\n",
       " '/content/test/test/test/img_1030.png': 0,\n",
       " '/content/test/test/test/img_0300.png': 0,\n",
       " '/content/test/test/test/img_0457.png': 0,\n",
       " '/content/test/test/test/img_0874.png': 0,\n",
       " '/content/test/test/test/img_2260.png': 0,\n",
       " '/content/test/test/test/img_2276.png': 0,\n",
       " '/content/test/test/test/img_0436.png': 0,\n",
       " '/content/test/test/test/img_1349.png': 0,\n",
       " '/content/test/test/test/img_1912.png': 0,\n",
       " '/content/test/test/test/img_1921.png': 0,\n",
       " '/content/test/test/test/img_0802.png': 0,\n",
       " '/content/test/test/test/img_0544.png': 0,\n",
       " '/content/test/test/test/img_0253.png': 0,\n",
       " '/content/test/test/test/img_2356.png': 0,\n",
       " '/content/test/test/test/img_1812.png': 0,\n",
       " '/content/test/test/test/img_1516.png': 0,\n",
       " '/content/test/test/test/img_1025.png': 0,\n",
       " '/content/test/test/test/img_1054.png': 0,\n",
       " '/content/test/test/test/img_0462.png': 0,\n",
       " '/content/test/test/test/img_1245.png': 0,\n",
       " '/content/test/test/test/img_1145.png': 0,\n",
       " '/content/test/test/test/img_1618.png': 0,\n",
       " '/content/test/test/test/img_1619.png': 0,\n",
       " '/content/test/test/test/img_2278.png': 0,\n",
       " '/content/test/test/test/img_1941.png': 0,\n",
       " '/content/test/test/test/img_2141.png': 0,\n",
       " '/content/test/test/test/img_1860.png': 0,\n",
       " '/content/test/test/test/img_0261.png': 0,\n",
       " '/content/test/test/test/img_1002.png': 0,\n",
       " '/content/test/test/test/img_1638.png': 0,\n",
       " '/content/test/test/test/img_0116.png': 0,\n",
       " '/content/test/test/test/img_2230.png': 0,\n",
       " '/content/test/test/test/img_0089.png': 0,\n",
       " '/content/test/test/test/img_0385.png': 0,\n",
       " '/content/test/test/test/img_2306.png': 0,\n",
       " '/content/test/test/test/img_0034.png': 0,\n",
       " '/content/test/test/test/img_1464.png': 0,\n",
       " '/content/test/test/test/img_1541.png': 0,\n",
       " '/content/test/test/test/img_0123.png': 0,\n",
       " '/content/test/test/test/img_1024.png': 0,\n",
       " '/content/test/test/test/img_0052.png': 0,\n",
       " '/content/test/test/test/img_2392.png': 0,\n",
       " '/content/test/test/test/img_1653.png': 0,\n",
       " '/content/test/test/test/img_2424.png': 0,\n",
       " '/content/test/test/test/img_1258.png': 0,\n",
       " '/content/test/test/test/img_2334.png': 0,\n",
       " '/content/test/test/test/img_1972.png': 0,\n",
       " '/content/test/test/test/img_0128.png': 0,\n",
       " '/content/test/test/test/img_0395.png': 0,\n",
       " '/content/test/test/test/img_1907.png': 0,\n",
       " '/content/test/test/test/img_2300.png': 0,\n",
       " '/content/test/test/test/img_0387.png': 0,\n",
       " '/content/test/test/test/img_1263.png': 0,\n",
       " '/content/test/test/test/img_1430.png': 0,\n",
       " '/content/test/test/test/img_1935.png': 0,\n",
       " '/content/test/test/test/img_2212.png': 0,\n",
       " '/content/test/test/test/img_1855.png': 0,\n",
       " '/content/test/test/test/img_2319.png': 0,\n",
       " '/content/test/test/test/img_1250.png': 0,\n",
       " '/content/test/test/test/img_1965.png': 0,\n",
       " '/content/test/test/test/img_0274.png': 0,\n",
       " '/content/test/test/test/img_0676.png': 0,\n",
       " '/content/test/test/test/img_2307.png': 0,\n",
       " '/content/test/test/test/img_1188.png': 0,\n",
       " '/content/test/test/test/img_0558.png': 0,\n",
       " '/content/test/test/test/img_2218.png': 0,\n",
       " '/content/test/test/test/img_0285.png': 0,\n",
       " '/content/test/test/test/img_1068.png': 0,\n",
       " '/content/test/test/test/img_1132.png': 0,\n",
       " '/content/test/test/test/img_1240.png': 0,\n",
       " '/content/test/test/test/img_1997.png': 0,\n",
       " '/content/test/test/test/img_0741.png': 0,\n",
       " '/content/test/test/test/img_0148.png': 0,\n",
       " '/content/test/test/test/img_0080.png': 0,\n",
       " '/content/test/test/test/img_1967.png': 0,\n",
       " '/content/test/test/test/img_0146.png': 0,\n",
       " '/content/test/test/test/img_2059.png': 0,\n",
       " '/content/test/test/test/img_2441.png': 0,\n",
       " '/content/test/test/test/img_1728.png': 0,\n",
       " '/content/test/test/test/img_1345.png': 0,\n",
       " '/content/test/test/test/img_0354.png': 0,\n",
       " '/content/test/test/test/img_1693.png': 0,\n",
       " '/content/test/test/test/img_1816.png': 0,\n",
       " '/content/test/test/test/img_2123.png': 0,\n",
       " '/content/test/test/test/img_1376.png': 0,\n",
       " '/content/test/test/test/img_0915.png': 0,\n",
       " '/content/test/test/test/img_0389.png': 0,\n",
       " '/content/test/test/test/img_0338.png': 0,\n",
       " '/content/test/test/test/img_1017.png': 0,\n",
       " '/content/test/test/test/img_1069.png': 0,\n",
       " '/content/test/test/test/img_1522.png': 0,\n",
       " '/content/test/test/test/img_0391.png': 0,\n",
       " '/content/test/test/test/img_2246.png': 0,\n",
       " '/content/test/test/test/img_2226.png': 0,\n",
       " '/content/test/test/test/img_1970.png': 0,\n",
       " '/content/test/test/test/img_1858.png': 0,\n",
       " '/content/test/test/test/img_0567.png': 0,\n",
       " '/content/test/test/test/img_0058.png': 0,\n",
       " '/content/test/test/test/img_1324.png': 0,\n",
       " '/content/test/test/test/img_1346.png': 0,\n",
       " '/content/test/test/test/img_0461.png': 0,\n",
       " '/content/test/test/test/img_0852.png': 0,\n",
       " '/content/test/test/test/img_0687.png': 0,\n",
       " '/content/test/test/test/img_0431.png': 0,\n",
       " '/content/test/test/test/img_0250.png': 0,\n",
       " '/content/test/test/test/img_0753.png': 0,\n",
       " '/content/test/test/test/img_0837.png': 0,\n",
       " '/content/test/test/test/img_0599.png': 0,\n",
       " '/content/test/test/test/img_1988.png': 0,\n",
       " '/content/test/test/test/img_0624.png': 0,\n",
       " '/content/test/test/test/img_1685.png': 0,\n",
       " '/content/test/test/test/img_0886.png': 0,\n",
       " '/content/test/test/test/img_1690.png': 0,\n",
       " '/content/test/test/test/img_2280.png': 0,\n",
       " ...}"
      ]
     },
     "execution_count": 15,
     "metadata": {},
     "output_type": "execute_result"
    }
   ],
   "source": [
    "test_names"
   ]
  },
  {
   "cell_type": "code",
   "execution_count": null,
   "metadata": {
    "colab": {
     "base_uri": "https://localhost:8080/"
    },
    "id": "XikgHe3Eg5I2",
    "outputId": "3b9a30c8-1a63-454d-ab75-fa2c6636bb40"
   },
   "outputs": [
    {
     "data": {
      "text/plain": [
       "2500"
      ]
     },
     "execution_count": 16,
     "metadata": {},
     "output_type": "execute_result"
    }
   ],
   "source": [
    "len(test_names)"
   ]
  },
  {
   "cell_type": "code",
   "execution_count": null,
   "metadata": {
    "id": "GovUtPVqne0N"
   },
   "outputs": [],
   "source": []
  },
  {
   "cell_type": "code",
   "execution_count": 19,
   "metadata": {
    "id": "FtmxOOtohAMG"
   },
   "outputs": [],
   "source": [
    "RESCALE_SIZE = 224"
   ]
  },
  {
   "cell_type": "code",
   "execution_count": 20,
   "metadata": {
    "id": "ovCbxf8dhUpo"
   },
   "outputs": [],
   "source": [
    "class CVDataSet(Dataset):\n",
    "  def __init__(self, files, mode='train'):\n",
    "    self.mode = mode\n",
    "    #self.trfsm = trsfm\n",
    "\n",
    "    self.files = files\n",
    "\n",
    "    if self.mode != 'test':\n",
    "      self.labels = [int(path.parent.name[6:]) for path in self.files]\n",
    "\n",
    "    #self.labels = list(files.values()) \n",
    "    self.len = len(self.files)\n",
    "\n",
    "  def __len__(self):\n",
    "    return len(self.files)\n",
    "\n",
    "  def load_sample(self, file):\n",
    "    image = Image.open(file)\n",
    "    image.load()\n",
    "    return image\n",
    "\n",
    "  def __getitem__(self, index):\n",
    "    # для преобразования изображений в тензоры PyTorch и нормализации входа\n",
    "    if self.mode == 'train': \n",
    "      transform = transforms.Compose([\n",
    "          transforms.Resize(size=(RESCALE_SIZE, RESCALE_SIZE)),\n",
    "          transforms.RandomHorizontalFlip(),\n",
    "          transforms.ColorJitter(hue=.1, saturation=.1),\n",
    "          transforms.ToTensor(),\n",
    "          transforms.Normalize([0.485, 0.456, 0.406], [0.229, 0.224, 0.225]) \n",
    "      ])\n",
    "    else:\n",
    "      transform = transforms.Compose([\n",
    "          transforms.Resize(size=(RESCALE_SIZE, RESCALE_SIZE)),\n",
    "          transforms.ToTensor(),\n",
    "          transforms.Normalize([0.485, 0.456, 0.406], [0.229, 0.224, 0.225]) \n",
    "      ])\n",
    "\n",
    "    x = self.load_sample(self.files[index])\n",
    "    x = transform(x)\n",
    "\n",
    "    #print(self.mode)\n",
    "    if self.mode == 'train':\n",
    "      return x, self.labels[index]\n",
    "\n",
    "    if self.mode == 'val':\n",
    "      return x, self.labels[index]\n",
    "\n",
    "    if self.mode == 'test':\n",
    "      return x\n"
   ]
  },
  {
   "cell_type": "code",
   "execution_count": 21,
   "metadata": {
    "id": "scbDUzR5hUhL"
   },
   "outputs": [],
   "source": [
    "def imshow(inp, title=None, plt_ax=plt, default=False):\n",
    "    \"\"\"Imshow для тензоров\"\"\"\n",
    "    inp = inp.numpy().transpose((1, 2, 0))\n",
    "    mean = np.array([0.485, 0.456, 0.406])\n",
    "    std = np.array([0.229, 0.224, 0.225])\n",
    "    inp = std * inp + mean\n",
    "    inp = np.clip(inp, 0, 1)\n",
    "    plt_ax.imshow(inp)\n",
    "    if title is not None:\n",
    "        plt_ax.set_title(title)\n",
    "    plt_ax.grid(False)"
   ]
  },
  {
   "cell_type": "code",
   "execution_count": 22,
   "metadata": {
    "id": "s8_n3z2EhUZE"
   },
   "outputs": [],
   "source": [
    "TRAIN_DIR = Path('/content/train/train/train')\n",
    "TEST_DIR = Path('/content/test/test/test')\n",
    "\n",
    "train_val_files = list(TRAIN_DIR.rglob('*.png'))\n",
    "test_files = list(TEST_DIR.rglob('*.png'))"
   ]
  },
  {
   "cell_type": "code",
   "execution_count": 23,
   "metadata": {
    "id": "RQj0yTcApDWD"
   },
   "outputs": [],
   "source": [
    "from sklearn.model_selection import train_test_split\n",
    "\n",
    "train_val_labels = [int(path.parent.name[6:]) for path in train_val_files]\n",
    "train_files, val_files = train_test_split(train_val_files, test_size=0.25, \\\n",
    "                                          stratify=train_val_labels)"
   ]
  },
  {
   "cell_type": "code",
   "execution_count": 24,
   "metadata": {
    "id": "Hy5A8LmFpDM3"
   },
   "outputs": [],
   "source": [
    "val_dataset = CVDataSet(val_files, mode='val')\n",
    "    \n",
    "train_dataset = CVDataSet(train_files, mode='train')"
   ]
  },
  {
   "cell_type": "code",
   "execution_count": 25,
   "metadata": {
    "colab": {
     "base_uri": "https://localhost:8080/"
    },
    "id": "sWtFjMAbpDI_",
    "outputId": "00c8171b-528b-4604-e250-ba7173a2e981"
   },
   "outputs": [
    {
     "name": "stdout",
     "output_type": "stream",
     "text": [
      "2\n",
      "4\n",
      "5\n",
      "6\n",
      "7\n",
      "12\n",
      "15\n",
      "16\n",
      "17\n",
      "19\n",
      "21\n",
      "22\n",
      "24\n",
      "25\n",
      "28\n",
      "32\n",
      "33\n",
      "34\n",
      "36\n",
      "37\n",
      "38\n",
      "39\n",
      "40\n",
      "41\n",
      "43\n",
      "44\n",
      "45\n",
      "47\n",
      "48\n",
      "51\n",
      "52\n",
      "53\n",
      "55\n",
      "59\n",
      "60\n",
      "61\n",
      "63\n",
      "64\n",
      "68\n",
      "69\n",
      "72\n",
      "73\n",
      "76\n",
      "77\n",
      "78\n",
      "79\n",
      "81\n",
      "85\n",
      "87\n",
      "90\n",
      "91\n",
      "93\n",
      "98\n",
      "100\n",
      "101\n",
      "103\n",
      "104\n",
      "105\n",
      "107\n",
      "110\n",
      "111\n",
      "112\n",
      "115\n",
      "116\n",
      "117\n",
      "118\n",
      "119\n",
      "120\n",
      "121\n",
      "122\n",
      "123\n",
      "0\t100\n",
      "1\t123\n",
      "2\t100\n",
      "3\t100\n",
      "4\t100\n",
      "5\t100\n",
      "6\t100\n",
      "7\t100\n",
      "8\t100\n",
      "9\t115\n",
      "10\t101\n",
      "11\t103\n",
      "12\t100\n",
      "13\t109\n",
      "14\t100\n",
      "15\t100\n",
      "16\t100\n",
      "17\t100\n",
      "18\t111\n",
      "19\t100\n",
      "20\t118\n",
      "21\t100\n",
      "22\t100\n",
      "23\t110\n",
      "24\t100\n",
      "25\t100\n",
      "26\t105\n",
      "27\t101\n",
      "28\t100\n",
      "29\t101\n",
      "30\t106\n",
      "31\t100\n",
      "32\t100\n",
      "33\t100\n",
      "34\t100\n",
      "35\t107\n",
      "36\t100\n",
      "37\t100\n",
      "38\t100\n",
      "39\t100\n",
      "40\t100\n",
      "41\t100\n",
      "42\t106\n",
      "43\t100\n",
      "44\t100\n",
      "45\t100\n",
      "46\t104\n",
      "47\t100\n",
      "48\t100\n",
      "49\t104\n",
      "50\t102\n",
      "51\t100\n",
      "52\t100\n",
      "53\t100\n",
      "54\t101\n",
      "55\t100\n",
      "56\t107\n",
      "57\t115\n",
      "58\t121\n",
      "59\t100\n",
      "60\t100\n",
      "61\t100\n",
      "62\t100\n",
      "63\t100\n",
      "64\t100\n",
      "65\t104\n",
      "66\t101\n",
      "67\t117\n",
      "68\t100\n",
      "69\t100\n",
      "70\t106\n",
      "71\t110\n",
      "72\t100\n",
      "73\t100\n",
      "74\t100\n",
      "75\t103\n",
      "76\t100\n",
      "77\t100\n",
      "78\t100\n",
      "79\t100\n",
      "80\t103\n",
      "81\t100\n",
      "82\t100\n",
      "83\t108\n",
      "84\t100\n",
      "85\t100\n",
      "86\t100\n",
      "87\t100\n",
      "88\t100\n",
      "89\t103\n",
      "90\t100\n",
      "91\t100\n",
      "92\t105\n",
      "93\t100\n",
      "94\t109\n",
      "95\t115\n",
      "96\t111\n",
      "97\t115\n",
      "98\t100\n",
      "99\t100\n",
      "100\t100\n",
      "101\t100\n",
      "102\t106\n",
      "103\t100\n",
      "104\t100\n",
      "105\t100\n",
      "106\t109\n",
      "107\t100\n",
      "108\t105\n",
      "109\t102\n",
      "110\t100\n",
      "111\t100\n",
      "112\t100\n",
      "113\t102\n",
      "114\t105\n",
      "115\t100\n",
      "116\t100\n",
      "117\t100\n",
      "118\t100\n",
      "119\t100\n",
      "120\t100\n",
      "121\t100\n",
      "122\t100\n",
      "123\t100\n",
      "124\t101\n"
     ]
    }
   ],
   "source": [
    "def create_dct_path_labels(train_files, train_labels):\n",
    "    dct = {}\n",
    "    for label_i in np.unique(train_labels).tolist():\n",
    "        dct[label_i] = []\n",
    "\n",
    "    for path_i, label_i in zip(train_files, train_labels):\n",
    "        dct[label_i].append(path_i)\n",
    "\n",
    "    return dct\n",
    "\n",
    "# Создадим словарь в котором ключами будут кдассы, а значениями списки с путями к картинкам.\n",
    "dct_path_train = create_dct_path_labels(train_files, train_dataset.labels)\n",
    "\n",
    "# Дополним картинки классов у которых менее 100 картинок, до 100 картинок в классе\n",
    "for clas in dct_path_train:\n",
    "    if len(dct_path_train[clas]) < 100:\n",
    "        print(clas)\n",
    "        dct_path_train[clas] = dct_path_train[clas] * (100 // len(dct_path_train[clas]))\n",
    "        dct_path_train[clas].extend(dct_path_train[clas][:100 - len(dct_path_train[clas])])\n",
    "\n",
    "# Проверим что получилось \n",
    "for clas in dct_path_train:\n",
    "    print(f\"{clas}\\t{len(dct_path_train[clas])}\")\n",
    "\n",
    "new_train_files = []\n",
    "for clas in dct_path_train:\n",
    "    new_train_files.extend(dct_path_train[clas])\n",
    "\n",
    "val_dataset = CVDataSet(val_files, mode='val')\n",
    "new_train_dataset = CVDataSet(new_train_files, mode='train')"
   ]
  },
  {
   "cell_type": "code",
   "execution_count": 26,
   "metadata": {
    "colab": {
     "base_uri": "https://localhost:8080/",
     "height": 269
    },
    "id": "0iKGqFWF0ESf",
    "outputId": "e1cf4dc5-4684-42ff-e2cc-88fa5bd4a0f2"
   },
   "outputs": [
    {
     "data": {
      "image/png": "[encoded data removed]",
      "text/plain": [
       "<Figure size 432x288 with 1 Axes>"
      ]
     },
     "metadata": {
      "needs_background": "light"
     },
     "output_type": "display_data"
    }
   ],
   "source": [
    "imshow(new_train_dataset[0][0])"
   ]
  },
  {
   "cell_type": "code",
   "execution_count": null,
   "metadata": {
    "id": "NX0PA7yd4nL8"
   },
   "outputs": [],
   "source": []
  },
  {
   "cell_type": "code",
   "execution_count": 27,
   "metadata": {
    "id": "6Dk1CSCK4aUR"
   },
   "outputs": [],
   "source": [
    "def fit_epoch(model, train_loader, criterion, optimizer):\n",
    "  running_loss = 0.0\n",
    "  running_corrects = 0\n",
    "  processed_data = 0\n",
    "\n",
    "  for inputs, labels in train_loader:\n",
    "    inputs = inputs.to(DEVICE)\n",
    "    labels = labels.to(DEVICE)\n",
    "    optimizer.zero_grad()\n",
    "\n",
    "    outputs = model(inputs)\n",
    "    loss = criterion(outputs, labels)\n",
    "    loss.backward()\n",
    "    optimizer.step()\n",
    "    preds = torch.argmax(outputs, 1)\n",
    "    running_loss += loss.item() * inputs.size(0)\n",
    "    running_corrects += torch.sum(preds == labels.data)\n",
    "    processed_data += inputs.size(0)\n",
    "            \n",
    "  train_loss = running_loss / processed_data\n",
    "  train_acc = running_corrects.cpu().numpy() / processed_data\n",
    "  return train_loss, train_acc"
   ]
  },
  {
   "cell_type": "code",
   "execution_count": 28,
   "metadata": {
    "id": "-JbR4DKL4aQJ"
   },
   "outputs": [],
   "source": [
    "def eval_epoch(model, val_loader, criterion):\n",
    "  model.eval()\n",
    "  running_loss = 0.0\n",
    "  running_corrects = 0\n",
    "  processed_size = 0\n",
    "\n",
    "  for inputs, labels in val_loader:\n",
    "    inputs = inputs.to(DEVICE)\n",
    "    labels = labels.to(DEVICE)\n",
    "\n",
    "    with torch.set_grad_enabled(False):\n",
    "        outputs = model(inputs)\n",
    "        loss = criterion(outputs, labels)\n",
    "        preds = torch.argmax(outputs, 1)\n",
    "\n",
    "    running_loss += loss.item() * inputs.size(0)\n",
    "    running_corrects += torch.sum(preds == labels.data)\n",
    "    processed_size += inputs.size(0)\n",
    "\n",
    "  val_loss = running_loss / processed_size\n",
    "  val_acc = running_corrects.double() / processed_size\n",
    "  return val_loss, val_acc"
   ]
  },
  {
   "cell_type": "code",
   "execution_count": 29,
   "metadata": {
    "id": "xIOKYJkRvRNJ"
   },
   "outputs": [],
   "source": [
    "def train(train_dataset, val_dataset, model, epochs, batch_size, scheduler):\n",
    "  train_loader = DataLoader(train_dataset, batch_size=batch_size, shuffle=True)\n",
    "  val_loader = DataLoader(val_dataset, batch_size=batch_size, shuffle=False)\n",
    "\n",
    "  history = []\n",
    "  log_template = \"\\nEpoch {ep:03d} train_loss: {t_loss:0.4f} \\\n",
    "  val_loss {v_loss:0.4f} train_acc {t_acc:0.4f} val_acc {v_acc:0.4f}\"\n",
    "\n",
    "  with tqdm(desc=\"epoch\", total=epochs) as pbar_outer:\n",
    "    opt = torch.optim.Adam(model.parameters(), lr = 1e-3)\n",
    "    scheduler = torch.optim.lr_scheduler.StepLR(opt, 3, 0.5)\n",
    "    criterion = nn.CrossEntropyLoss()\n",
    "\n",
    "    for epoch in range(epochs):\n",
    "      train_loss, train_acc = fit_epoch(model, train_loader, criterion, opt)\n",
    "      print(\"loss\", train_loss)\n",
    "\n",
    "      val_loss, val_acc = eval_epoch(model, val_loader, criterion)\n",
    "      history.append((train_loss, train_acc, val_loss, val_acc))\n",
    "      scheduler.step()\n",
    "      pbar_outer.update(1)\n",
    "      tqdm.write(log_template.format(ep=epoch+1, t_loss=train_loss,\\\n",
    "                                      v_loss=val_loss, t_acc=train_acc, v_acc=val_acc))\n",
    "\n",
    "  return history"
   ]
  },
  {
   "cell_type": "code",
   "execution_count": 30,
   "metadata": {
    "id": "2Uvn9kUe6sRc"
   },
   "outputs": [],
   "source": [
    "def predict(model, test_loader):\n",
    "  with torch.no_grad():\n",
    "    logits = []\n",
    "\n",
    "    for inputs in test_loader:\n",
    "      inputs = inputs.to(DEVICE)\n",
    "      model.eval()\n",
    "      outputs = model(inputs).cpu()\n",
    "      logits.append(outputs)\n",
    "\n",
    "  probs = nn.functional.softmax(torch.cat(logits), dim=-1).numpy()\n",
    "  return probs"
   ]
  },
  {
   "cell_type": "code",
   "execution_count": 31,
   "metadata": {
    "id": "3eLJrKqM62WQ"
   },
   "outputs": [],
   "source": [
    "n_classes = len(np.unique(train_val_labels))"
   ]
  },
  {
   "cell_type": "code",
   "execution_count": 32,
   "metadata": {
    "colab": {
     "base_uri": "https://localhost:8080/"
    },
    "id": "clKf1XB-rxo1",
    "outputId": "abada5fe-a2f5-4286-db53-c783e6338f03"
   },
   "outputs": [
    {
     "data": {
      "text/plain": [
       "125"
      ]
     },
     "execution_count": 32,
     "metadata": {},
     "output_type": "execute_result"
    }
   ],
   "source": [
    "n_classes"
   ]
  },
  {
   "cell_type": "code",
   "execution_count": null,
   "metadata": {
    "id": "7uunYioEtCEa"
   },
   "outputs": [],
   "source": []
  },
  {
   "cell_type": "markdown",
   "metadata": {
    "id": "MyaCHYyqtEH5"
   },
   "source": [
    "# Model 1"
   ]
  },
  {
   "cell_type": "code",
   "execution_count": null,
   "metadata": {
    "id": "R2q5kDpn4aYO"
   },
   "outputs": [],
   "source": [
    "\n",
    "class SimpleCnn(nn.Module):\n",
    "  \n",
    "  def __init__(self, n_classes):\n",
    "    super(SimpleCnn, self).__init__()\n",
    "    self.conv1 = nn.Sequential(\n",
    "        nn.Conv2d(in_channels=3, out_channels=8, kernel_size=3),\n",
    "        nn.ReLU(),\n",
    "        nn.MaxPool2d(kernel_size=2)\n",
    "    )\n",
    "    self.conv2 = nn.Sequential(\n",
    "        nn.Conv2d(in_channels=8, out_channels=16, kernel_size=3),\n",
    "        nn.ReLU(),\n",
    "        nn.MaxPool2d(kernel_size=2)\n",
    "    )\n",
    "    self.conv3 = nn.Sequential(\n",
    "        nn.Conv2d(in_channels=16, out_channels=32, kernel_size=3),\n",
    "        nn.ReLU(),\n",
    "        nn.MaxPool2d(kernel_size=2)\n",
    "    )\n",
    "    self.conv4 = nn.Sequential(\n",
    "        nn.Conv2d(in_channels=32, out_channels=64, kernel_size=3),\n",
    "        nn.ReLU(),\n",
    "        nn.MaxPool2d(kernel_size=2)\n",
    "    )\n",
    "    self.conv5 = nn.Sequential(\n",
    "        nn.Conv2d(in_channels=64, out_channels=96, kernel_size=3),\n",
    "        nn.ReLU(),\n",
    "        nn.MaxPool2d(kernel_size=2)\n",
    "    )\n",
    "\n",
    "    self.out = nn.Linear(96 * 5 * 5, n_classes)\n",
    "\n",
    "\n",
    "  def forward(self, x):\n",
    "    x = self.conv1(x)\n",
    "    x = self.conv2(x)\n",
    "    x = self.conv3(x)\n",
    "    x = self.conv4(x)\n",
    "    x = self.conv5(x)\n",
    "\n",
    "    x = x.view(x.size(0), -1)\n",
    "    logits = self.out(x)\n",
    "    return logits"
   ]
  },
  {
   "cell_type": "code",
   "execution_count": null,
   "metadata": {
    "id": "q_Qe30CkB9Bi"
   },
   "outputs": [],
   "source": [
    "model = SimpleCnn(n_classes).to(DEVICE)"
   ]
  },
  {
   "cell_type": "code",
   "execution_count": null,
   "metadata": {
    "id": "PP-HHo6RB9N_"
   },
   "outputs": [],
   "source": [
    "optimizer = torch.optim.Adam(model.parameters(), lr = 1e-4)\n",
    "criterion = nn.CrossEntropyLoss()\n",
    "exp_lr_scheduler = lr_scheduler.StepLR(optimizer, step_size=5, gamma=0.1)"
   ]
  },
  {
   "cell_type": "code",
   "execution_count": null,
   "metadata": {
    "colab": {
     "base_uri": "https://localhost:8080/"
    },
    "id": "nxKxuAHL69M8",
    "outputId": "3f7fe1f5-7f28-4248-f1c5-bf2c138bcda5"
   },
   "outputs": [
    {
     "name": "stderr",
     "output_type": "stream",
     "text": [
      "\r",
      "epoch:   0%|          | 0/10 [00:00<?, ?it/s]"
     ]
    },
    {
     "name": "stdout",
     "output_type": "stream",
     "text": [
      "loss 4.596078172909704\n"
     ]
    },
    {
     "name": "stderr",
     "output_type": "stream",
     "text": [
      "epoch:  10%|█         | 1/10 [00:59<08:58, 59.89s/it]"
     ]
    },
    {
     "name": "stdout",
     "output_type": "stream",
     "text": [
      "\n",
      "Epoch 001 train_loss: 4.5961   val_loss 4.4245 train_acc 0.0341 val_acc 0.0552\n",
      "loss 4.225732124363694\n"
     ]
    },
    {
     "name": "stderr",
     "output_type": "stream",
     "text": [
      "epoch:  20%|██        | 2/10 [02:00<08:03, 60.43s/it]"
     ]
    },
    {
     "name": "stdout",
     "output_type": "stream",
     "text": [
      "\n",
      "Epoch 002 train_loss: 4.2257   val_loss 4.1768 train_acc 0.0856 val_acc 0.0998\n",
      "loss 3.950524974626923\n"
     ]
    },
    {
     "name": "stderr",
     "output_type": "stream",
     "text": [
      "epoch:  30%|███       | 3/10 [03:00<07:02, 60.36s/it]"
     ]
    },
    {
     "name": "stdout",
     "output_type": "stream",
     "text": [
      "\n",
      "Epoch 003 train_loss: 3.9505   val_loss 4.0700 train_acc 0.1271 val_acc 0.1158\n",
      "loss 3.688925037654968\n"
     ]
    },
    {
     "name": "stderr",
     "output_type": "stream",
     "text": [
      "epoch:  40%|████      | 4/10 [04:01<06:01, 60.28s/it]"
     ]
    },
    {
     "name": "stdout",
     "output_type": "stream",
     "text": [
      "\n",
      "Epoch 004 train_loss: 3.6889   val_loss 3.9696 train_acc 0.1617 val_acc 0.1357\n",
      "loss 3.566039096898991\n"
     ]
    },
    {
     "name": "stderr",
     "output_type": "stream",
     "text": [
      "epoch:  50%|█████     | 5/10 [05:00<04:59, 59.89s/it]"
     ]
    },
    {
     "name": "stdout",
     "output_type": "stream",
     "text": [
      "\n",
      "Epoch 005 train_loss: 3.5660   val_loss 3.9368 train_acc 0.1879 val_acc 0.1458\n",
      "loss 3.462257867572401\n"
     ]
    },
    {
     "name": "stderr",
     "output_type": "stream",
     "text": [
      "epoch:  60%|██████    | 6/10 [05:58<03:57, 59.34s/it]"
     ]
    },
    {
     "name": "stdout",
     "output_type": "stream",
     "text": [
      "\n",
      "Epoch 006 train_loss: 3.4623   val_loss 3.9246 train_acc 0.2089 val_acc 0.1500\n",
      "loss 3.301057895931648\n"
     ]
    },
    {
     "name": "stderr",
     "output_type": "stream",
     "text": [
      "epoch:  70%|███████   | 7/10 [06:56<02:57, 59.02s/it]"
     ]
    },
    {
     "name": "stdout",
     "output_type": "stream",
     "text": [
      "\n",
      "Epoch 007 train_loss: 3.3011   val_loss 3.9290 train_acc 0.2346 val_acc 0.1483\n",
      "loss 3.239486918522617\n"
     ]
    },
    {
     "name": "stderr",
     "output_type": "stream",
     "text": [
      "epoch:  80%|████████  | 8/10 [07:56<01:58, 59.24s/it]"
     ]
    },
    {
     "name": "stdout",
     "output_type": "stream",
     "text": [
      "\n",
      "Epoch 008 train_loss: 3.2395   val_loss 3.9336 train_acc 0.2456 val_acc 0.1567\n",
      "loss 3.1816313298663363\n"
     ]
    },
    {
     "name": "stderr",
     "output_type": "stream",
     "text": [
      "epoch:  90%|█████████ | 9/10 [08:55<00:59, 59.01s/it]"
     ]
    },
    {
     "name": "stdout",
     "output_type": "stream",
     "text": [
      "\n",
      "Epoch 009 train_loss: 3.1816   val_loss 3.9477 train_acc 0.2527 val_acc 0.1574\n",
      "loss 3.094378926051408\n"
     ]
    },
    {
     "name": "stderr",
     "output_type": "stream",
     "text": [
      "epoch: 100%|██████████| 10/10 [09:53<00:00, 59.32s/it]"
     ]
    },
    {
     "name": "stdout",
     "output_type": "stream",
     "text": [
      "\n",
      "Epoch 010 train_loss: 3.0944   val_loss 3.9690 train_acc 0.2734 val_acc 0.1608\n"
     ]
    },
    {
     "name": "stderr",
     "output_type": "stream",
     "text": [
      "\n"
     ]
    }
   ],
   "source": [
    "history = train(train_dataset, val_dataset, model=model, epochs=10, batch_size=64, scheduler=exp_lr_scheduler)"
   ]
  },
  {
   "cell_type": "code",
   "execution_count": null,
   "metadata": {
    "colab": {
     "base_uri": "https://localhost:8080/",
     "height": 551
    },
    "id": "lwwufOFo2RIh",
    "outputId": "93ca3571-ceeb-4369-b340-8426b088ee35"
   },
   "outputs": [
    {
     "data": {
      "image/png": "[encoded data removed]",
      "text/plain": [
       "<Figure size 1080x648 with 1 Axes>"
      ]
     },
     "metadata": {
      "needs_background": "light"
     },
     "output_type": "display_data"
    }
   ],
   "source": [
    "loss, acc, val_loss, val_acc = zip(*history)\n",
    "plt.figure(figsize=(15, 9))\n",
    "plt.plot(loss, label=\"train_loss\")\n",
    "plt.plot(val_loss, label=\"val_loss\")\n",
    "plt.legend(loc='best')\n",
    "plt.xlabel(\"epochs\")\n",
    "plt.ylabel(\"loss\")\n",
    "plt.show()"
   ]
  },
  {
   "cell_type": "markdown",
   "metadata": {},
   "source": [
    "Kaggle score: 0.00640"
   ]
  },
  {
   "cell_type": "code",
   "execution_count": null,
   "metadata": {
    "id": "NkTbARGf2Q5Q"
   },
   "outputs": [],
   "source": []
  },
  {
   "cell_type": "code",
   "execution_count": null,
   "metadata": {
    "id": "f75HEZrs37CD"
   },
   "outputs": [],
   "source": [
    "test_dataset = CVDataSet(test_files, mode=\"test\")\n",
    "test_loader = DataLoader(test_dataset, shuffle=False, batch_size=40)\n",
    "probs = predict(SimpleCnn(n_classes).to(DEVICE), test_loader)\n",
    "\n",
    "#preds = label_encoder.inverse_transform(np.argmax(probs, axis=1))\n",
    "test_filenames = [path.name for path in test_dataset.files]"
   ]
  },
  {
   "cell_type": "code",
   "execution_count": null,
   "metadata": {
    "id": "mMx3GqP66F1X"
   },
   "outputs": [],
   "source": [
    "from sklearn.preprocessing import LabelEncoder"
   ]
  },
  {
   "cell_type": "code",
   "execution_count": null,
   "metadata": {
    "id": "SNSPNk0q58b3"
   },
   "outputs": [],
   "source": [
    "preds = np.argmax(probs, axis=1)"
   ]
  },
  {
   "cell_type": "code",
   "execution_count": null,
   "metadata": {
    "id": "0_CWyNcF58JA"
   },
   "outputs": [],
   "source": [
    "import pandas as pd\n",
    "df = pd.DataFrame()\n",
    "df['image'] = test_filenames\n",
    "df['label'] = preds\n",
    "df.to_csv('gdrive/My Drive/cv2022spring_1.csv', index=False)"
   ]
  },
  {
   "cell_type": "code",
   "execution_count": null,
   "metadata": {
    "id": "-j7KOPzj58E-"
   },
   "outputs": [],
   "source": []
  },
  {
   "cell_type": "code",
   "execution_count": null,
   "metadata": {
    "colab": {
     "base_uri": "https://localhost:8080/"
    },
    "id": "JtTEQBMP77QC",
    "outputId": "46a4dafc-81b7-4232-a8b1-4c9b367fee55"
   },
   "outputs": [
    {
     "name": "stderr",
     "output_type": "stream",
     "text": [
      "\r",
      "epoch:   0%|          | 0/15 [00:00<?, ?it/s]"
     ]
    },
    {
     "name": "stdout",
     "output_type": "stream",
     "text": [
      "loss 3.335211655592251\n"
     ]
    },
    {
     "name": "stderr",
     "output_type": "stream",
     "text": [
      "epoch:   7%|▋         | 1/15 [00:58<13:39, 58.55s/it]"
     ]
    },
    {
     "name": "stdout",
     "output_type": "stream",
     "text": [
      "\n",
      "Epoch 001 train_loss: 3.3352   val_loss 3.9734 train_acc 0.2246 val_acc 0.1517\n",
      "loss 3.195474263511568\n"
     ]
    },
    {
     "name": "stderr",
     "output_type": "stream",
     "text": [
      "epoch:  13%|█▎        | 2/15 [01:57<12:43, 58.77s/it]"
     ]
    },
    {
     "name": "stdout",
     "output_type": "stream",
     "text": [
      "\n",
      "Epoch 002 train_loss: 3.1955   val_loss 3.9785 train_acc 0.2480 val_acc 0.1525\n",
      "loss 3.1012639010204097\n"
     ]
    },
    {
     "name": "stderr",
     "output_type": "stream",
     "text": [
      "epoch:  20%|██        | 3/15 [02:56<11:47, 58.96s/it]"
     ]
    },
    {
     "name": "stdout",
     "output_type": "stream",
     "text": [
      "\n",
      "Epoch 003 train_loss: 3.1013   val_loss 4.0785 train_acc 0.2632 val_acc 0.1451\n",
      "loss 2.883585663575513\n"
     ]
    },
    {
     "name": "stderr",
     "output_type": "stream",
     "text": [
      "epoch:  27%|██▋       | 4/15 [03:55<10:47, 58.90s/it]"
     ]
    },
    {
     "name": "stdout",
     "output_type": "stream",
     "text": [
      "\n",
      "Epoch 004 train_loss: 2.8836   val_loss 4.1505 train_acc 0.3062 val_acc 0.1564\n",
      "loss 2.8052327382328652\n"
     ]
    },
    {
     "name": "stderr",
     "output_type": "stream",
     "text": [
      "epoch:  33%|███▎      | 5/15 [04:54<09:48, 58.81s/it]"
     ]
    },
    {
     "name": "stdout",
     "output_type": "stream",
     "text": [
      "\n",
      "Epoch 005 train_loss: 2.8052   val_loss 4.0970 train_acc 0.3277 val_acc 0.1645\n",
      "loss 2.7354890303968435\n"
     ]
    },
    {
     "name": "stderr",
     "output_type": "stream",
     "text": [
      "epoch:  40%|████      | 6/15 [05:52<08:49, 58.83s/it]"
     ]
    },
    {
     "name": "stdout",
     "output_type": "stream",
     "text": [
      "\n",
      "Epoch 006 train_loss: 2.7355   val_loss 4.1756 train_acc 0.3392 val_acc 0.1648\n",
      "loss 2.583142877202559\n"
     ]
    },
    {
     "name": "stderr",
     "output_type": "stream",
     "text": [
      "epoch:  47%|████▋     | 7/15 [06:51<07:50, 58.81s/it]"
     ]
    },
    {
     "name": "stdout",
     "output_type": "stream",
     "text": [
      "\n",
      "Epoch 007 train_loss: 2.5831   val_loss 4.2811 train_acc 0.3688 val_acc 0.1621\n",
      "loss 2.553090471167783\n"
     ]
    },
    {
     "name": "stderr",
     "output_type": "stream",
     "text": [
      "epoch:  53%|█████▎    | 8/15 [07:50<06:52, 58.87s/it]"
     ]
    },
    {
     "name": "stdout",
     "output_type": "stream",
     "text": [
      "\n",
      "Epoch 008 train_loss: 2.5531   val_loss 4.2537 train_acc 0.3784 val_acc 0.1599\n",
      "loss 2.506036382011616\n"
     ]
    },
    {
     "name": "stderr",
     "output_type": "stream",
     "text": [
      "epoch:  60%|██████    | 9/15 [08:49<05:53, 58.87s/it]"
     ]
    },
    {
     "name": "stdout",
     "output_type": "stream",
     "text": [
      "\n",
      "Epoch 009 train_loss: 2.5060   val_loss 4.3069 train_acc 0.3874 val_acc 0.1579\n",
      "loss 2.4234659478957847\n"
     ]
    },
    {
     "name": "stderr",
     "output_type": "stream",
     "text": [
      "epoch:  67%|██████▋   | 10/15 [09:49<04:55, 59.06s/it]"
     ]
    },
    {
     "name": "stdout",
     "output_type": "stream",
     "text": [
      "\n",
      "Epoch 010 train_loss: 2.4235   val_loss 4.3934 train_acc 0.4059 val_acc 0.1643\n",
      "loss 2.4002219030878424\n"
     ]
    },
    {
     "name": "stderr",
     "output_type": "stream",
     "text": [
      "epoch:  73%|███████▎  | 11/15 [10:50<03:59, 59.89s/it]"
     ]
    },
    {
     "name": "stdout",
     "output_type": "stream",
     "text": [
      "\n",
      "Epoch 011 train_loss: 2.4002   val_loss 4.4193 train_acc 0.4087 val_acc 0.1628\n",
      "loss 2.3720878156224576\n"
     ]
    },
    {
     "name": "stderr",
     "output_type": "stream",
     "text": [
      "epoch:  80%|████████  | 12/15 [11:52<03:00, 60.29s/it]"
     ]
    },
    {
     "name": "stdout",
     "output_type": "stream",
     "text": [
      "\n",
      "Epoch 012 train_loss: 2.3721   val_loss 4.4772 train_acc 0.4187 val_acc 0.1606\n",
      "loss 2.3259810308819286\n"
     ]
    },
    {
     "name": "stderr",
     "output_type": "stream",
     "text": [
      "epoch:  87%|████████▋ | 13/15 [12:53<02:01, 60.58s/it]"
     ]
    },
    {
     "name": "stdout",
     "output_type": "stream",
     "text": [
      "\n",
      "Epoch 013 train_loss: 2.3260   val_loss 4.5092 train_acc 0.4248 val_acc 0.1608\n",
      "loss 2.3229324228805277\n"
     ]
    },
    {
     "name": "stderr",
     "output_type": "stream",
     "text": [
      "epoch:  93%|█████████▎| 14/15 [13:54<01:00, 60.73s/it]"
     ]
    },
    {
     "name": "stdout",
     "output_type": "stream",
     "text": [
      "\n",
      "Epoch 014 train_loss: 2.3229   val_loss 4.5184 train_acc 0.4284 val_acc 0.1623\n",
      "loss 2.3094944794763923\n"
     ]
    },
    {
     "name": "stderr",
     "output_type": "stream",
     "text": [
      "epoch: 100%|██████████| 15/15 [14:55<00:00, 59.68s/it]"
     ]
    },
    {
     "name": "stdout",
     "output_type": "stream",
     "text": [
      "\n",
      "Epoch 015 train_loss: 2.3095   val_loss 4.5295 train_acc 0.4317 val_acc 0.1635\n"
     ]
    },
    {
     "name": "stderr",
     "output_type": "stream",
     "text": [
      "\n"
     ]
    }
   ],
   "source": [
    "history = train(train_dataset, val_dataset, model=model, epochs=15, batch_size=64, scheduler=exp_lr_scheduler)"
   ]
  },
  {
   "cell_type": "code",
   "execution_count": null,
   "metadata": {
    "colab": {
     "base_uri": "https://localhost:8080/",
     "height": 551
    },
    "id": "dMuyE_Dt77MG",
    "outputId": "9841e85a-a3e6-430c-adc8-ba56862a04d4"
   },
   "outputs": [
    {
     "data": {
      "image/png": "[encoded data removed]",
      "text/plain": [
       "<Figure size 1080x648 with 1 Axes>"
      ]
     },
     "metadata": {
      "needs_background": "light"
     },
     "output_type": "display_data"
    }
   ],
   "source": [
    "loss, acc, val_loss, val_acc = zip(*history)\n",
    "plt.figure(figsize=(15, 9))\n",
    "plt.plot(loss, label=\"train_loss\")\n",
    "plt.plot(val_loss, label=\"val_loss\")\n",
    "plt.legend(loc='best')\n",
    "plt.xlabel(\"epochs\")\n",
    "plt.ylabel(\"loss\")\n",
    "plt.show()"
   ]
  },
  {
   "cell_type": "code",
   "execution_count": null,
   "metadata": {
    "id": "hR0g15MC77H6"
   },
   "outputs": [],
   "source": [
    "test_dataset = CVDataSet(test_files, mode=\"test\")\n",
    "test_loader = DataLoader(test_dataset, shuffle=False, batch_size=40)\n",
    "probs = predict(SimpleCnn(n_classes).to(DEVICE), test_loader)\n",
    "test_filenames = [path.name for path in test_dataset.files]\n",
    "preds = np.argmax(probs, axis=1)\n",
    "\n",
    "df = pd.DataFrame()\n",
    "df['image'] = test_filenames\n",
    "df['label'] = preds\n",
    "df.to_csv('gdrive/My Drive/cv2022spring_2.csv', index=False)"
   ]
  },
  {
   "cell_type": "code",
   "execution_count": null,
   "metadata": {
    "id": "Q0u8f2B627op"
   },
   "outputs": [],
   "source": [
    "def predict_one_sample(model, inputs, device=DEVICE):\n",
    "    \"\"\"Предсказание, для одной картинки\"\"\"\n",
    "    with torch.no_grad():\n",
    "        inputs = inputs.to(device)\n",
    "        model.eval()\n",
    "        logit = model(inputs).cpu()\n",
    "        probs = torch.nn.functional.softmax(logit, dim=-1).numpy()\n",
    "    return probs"
   ]
  },
  {
   "cell_type": "markdown",
   "metadata": {},
   "source": [
    "Kagle score: 0.00959"
   ]
  },
  {
   "cell_type": "code",
   "execution_count": null,
   "metadata": {
    "id": "nxpz0p3zprNy"
   },
   "outputs": [],
   "source": []
  },
  {
   "cell_type": "markdown",
   "metadata": {
    "id": "ODdz5HgltUCW"
   },
   "source": [
    "# Model 2"
   ]
  },
  {
   "cell_type": "code",
   "execution_count": null,
   "metadata": {
    "id": "O36q7ZiktY25"
   },
   "outputs": [],
   "source": [
    "class Cnn_2(nn.Module):\n",
    "  \n",
    "  def __init__(self, n_classes):\n",
    "    super(Cnn_2, self).__init__()\n",
    "    self.conv1 = nn.Sequential(\n",
    "        nn.Conv2d(in_channels=3, out_channels=8, kernel_size=3),\n",
    "        nn.ReLU(),\n",
    "        #nn.MaxPool2d(kernel_size=2)\n",
    "    )\n",
    "    self.conv2 = nn.Sequential(\n",
    "        nn.Conv2d(in_channels=8, out_channels=16, kernel_size=3),\n",
    "        nn.ReLU(),\n",
    "        #nn.MaxPool2d(kernel_size=2)\n",
    "    )\n",
    "    self.conv3 = nn.Sequential(\n",
    "        nn.Conv2d(in_channels=16, out_channels=32, kernel_size=3),\n",
    "        nn.ReLU(),\n",
    "        #nn.MaxPool2d(kernel_size=2)\n",
    "    )\n",
    "    self.conv4 = nn.Sequential(\n",
    "        nn.Conv2d(in_channels=32, out_channels=64, kernel_size=3),\n",
    "        nn.ReLU(),\n",
    "        #nn.MaxPool2d(kernel_size=2)\n",
    "    )\n",
    "    self.conv5 = nn.Sequential(\n",
    "        nn.Conv2d(in_channels=64, out_channels=96, kernel_size=3),\n",
    "        nn.ReLU(),\n",
    "        #nn.MaxPool2d(kernel_size=2)\n",
    "    )\n",
    "\n",
    "    self.out = nn.Sequential(\n",
    "        nn.Linear(96 * 22 * 22, 4000),\n",
    "        nn.ReLU(),\n",
    "        nn.Linear(4000, 1000),\n",
    "        nn.ReLU(),\n",
    "        nn.Linear(1000, n_classes)\n",
    "        )\n",
    "\n",
    "\n",
    "  def forward(self, x):\n",
    "    x = self.conv1(x)\n",
    "    x = self.conv2(x)\n",
    "    x = self.conv3(x)\n",
    "    x = self.conv4(x)\n",
    "    x = self.conv5(x)\n",
    "\n",
    "    x = x.view(x.size(0), -1)\n",
    "    logits = self.out(x)\n",
    "    return logits"
   ]
  },
  {
   "cell_type": "code",
   "execution_count": null,
   "metadata": {
    "id": "ubHWuEk8tYxh"
   },
   "outputs": [],
   "source": []
  },
  {
   "cell_type": "code",
   "execution_count": null,
   "metadata": {
    "id": "iBg34nKdvGid"
   },
   "outputs": [],
   "source": [
    "model = Cnn_2(n_classes).to(DEVICE)"
   ]
  },
  {
   "cell_type": "code",
   "execution_count": null,
   "metadata": {
    "id": "HJRkApehvGbS"
   },
   "outputs": [],
   "source": [
    "optimizer = torch.optim.Adam(model.parameters(), lr = 1e-4)\n",
    "criterion = nn.CrossEntropyLoss()\n",
    "exp_lr_scheduler = lr_scheduler.StepLR(optimizer, step_size=7, gamma=0.1)"
   ]
  },
  {
   "cell_type": "code",
   "execution_count": null,
   "metadata": {
    "colab": {
     "base_uri": "https://localhost:8080/"
    },
    "id": "SyrJuoqyvGW4",
    "outputId": "d521ab2c-4cbe-4f47-f698-60b9ca8cfc10"
   },
   "outputs": [
    {
     "name": "stderr",
     "output_type": "stream",
     "text": [
      "\r",
      "epoch:   0%|          | 0/20 [00:00<?, ?it/s]"
     ]
    },
    {
     "name": "stdout",
     "output_type": "stream",
     "text": [
      "loss 4.825138515904968\n"
     ]
    },
    {
     "name": "stderr",
     "output_type": "stream",
     "text": [
      "epoch:   5%|▌         | 1/20 [00:54<17:12, 54.36s/it]"
     ]
    },
    {
     "name": "stdout",
     "output_type": "stream",
     "text": [
      "\n",
      "Epoch 001 train_loss: 4.8251   val_loss 4.8221 train_acc 0.0101 val_acc 0.0101\n",
      "loss 4.824406832640116\n"
     ]
    },
    {
     "name": "stderr",
     "output_type": "stream",
     "text": [
      "epoch:  10%|█         | 2/20 [01:48<16:18, 54.34s/it]"
     ]
    },
    {
     "name": "stdout",
     "output_type": "stream",
     "text": [
      "\n",
      "Epoch 002 train_loss: 4.8244   val_loss 4.8219 train_acc 0.0095 val_acc 0.0101\n",
      "loss 4.824168051431426\n"
     ]
    },
    {
     "name": "stderr",
     "output_type": "stream",
     "text": [
      "epoch:  15%|█▌        | 3/20 [02:43<15:23, 54.34s/it]"
     ]
    },
    {
     "name": "stdout",
     "output_type": "stream",
     "text": [
      "\n",
      "Epoch 003 train_loss: 4.8242   val_loss 4.8224 train_acc 0.0101 val_acc 0.0101\n",
      "loss 4.823281058557261\n"
     ]
    },
    {
     "name": "stderr",
     "output_type": "stream",
     "text": [
      "epoch:  20%|██        | 4/20 [03:36<14:25, 54.07s/it]"
     ]
    },
    {
     "name": "stdout",
     "output_type": "stream",
     "text": [
      "\n",
      "Epoch 004 train_loss: 4.8233   val_loss 4.8219 train_acc 0.0101 val_acc 0.0101\n",
      "loss 4.823198456611135\n"
     ]
    },
    {
     "name": "stderr",
     "output_type": "stream",
     "text": [
      "epoch:  25%|██▌       | 5/20 [04:30<13:28, 53.91s/it]"
     ]
    },
    {
     "name": "stdout",
     "output_type": "stream",
     "text": [
      "\n",
      "Epoch 005 train_loss: 4.8232   val_loss 4.8217 train_acc 0.0101 val_acc 0.0101\n",
      "loss 4.8232665896288465\n"
     ]
    },
    {
     "name": "stderr",
     "output_type": "stream",
     "text": [
      "epoch:  30%|███       | 6/20 [05:23<12:33, 53.79s/it]"
     ]
    },
    {
     "name": "stdout",
     "output_type": "stream",
     "text": [
      "\n",
      "Epoch 006 train_loss: 4.8233   val_loss 4.8218 train_acc 0.0093 val_acc 0.0101\n",
      "loss 4.822758025239769\n"
     ]
    },
    {
     "name": "stderr",
     "output_type": "stream",
     "text": [
      "epoch:  35%|███▌      | 7/20 [06:17<11:38, 53.71s/it]"
     ]
    },
    {
     "name": "stdout",
     "output_type": "stream",
     "text": [
      "\n",
      "Epoch 007 train_loss: 4.8228   val_loss 4.8218 train_acc 0.0097 val_acc 0.0101\n",
      "loss 4.822725371584652\n"
     ]
    },
    {
     "name": "stderr",
     "output_type": "stream",
     "text": [
      "epoch:  40%|████      | 8/20 [07:11<10:44, 53.70s/it]"
     ]
    },
    {
     "name": "stdout",
     "output_type": "stream",
     "text": [
      "\n",
      "Epoch 008 train_loss: 4.8227   val_loss 4.8217 train_acc 0.0101 val_acc 0.0101\n",
      "loss 4.82272650034853\n"
     ]
    },
    {
     "name": "stderr",
     "output_type": "stream",
     "text": [
      "epoch:  45%|████▌     | 9/20 [08:04<09:50, 53.68s/it]"
     ]
    },
    {
     "name": "stdout",
     "output_type": "stream",
     "text": [
      "\n",
      "Epoch 009 train_loss: 4.8227   val_loss 4.8217 train_acc 0.0101 val_acc 0.0101\n",
      "loss 4.822493400349779\n"
     ]
    },
    {
     "name": "stderr",
     "output_type": "stream",
     "text": [
      "epoch:  50%|█████     | 10/20 [08:58<08:56, 53.64s/it]"
     ]
    },
    {
     "name": "stdout",
     "output_type": "stream",
     "text": [
      "\n",
      "Epoch 010 train_loss: 4.8225   val_loss 4.8217 train_acc 0.0101 val_acc 0.0101\n",
      "loss 4.822502807224411\n"
     ]
    },
    {
     "name": "stderr",
     "output_type": "stream",
     "text": [
      "epoch:  55%|█████▌    | 11/20 [09:52<08:02, 53.67s/it]"
     ]
    },
    {
     "name": "stdout",
     "output_type": "stream",
     "text": [
      "\n",
      "Epoch 011 train_loss: 4.8225   val_loss 4.8217 train_acc 0.0101 val_acc 0.0101\n",
      "loss 4.822492909300297\n"
     ]
    },
    {
     "name": "stderr",
     "output_type": "stream",
     "text": [
      "epoch:  60%|██████    | 12/20 [10:45<07:09, 53.66s/it]"
     ]
    },
    {
     "name": "stdout",
     "output_type": "stream",
     "text": [
      "\n",
      "Epoch 012 train_loss: 4.8225   val_loss 4.8217 train_acc 0.0101 val_acc 0.0101\n",
      "loss 4.822367502380566\n"
     ]
    },
    {
     "name": "stderr",
     "output_type": "stream",
     "text": [
      "epoch:  65%|██████▌   | 13/20 [11:39<06:16, 53.84s/it]"
     ]
    },
    {
     "name": "stdout",
     "output_type": "stream",
     "text": [
      "\n",
      "Epoch 013 train_loss: 4.8224   val_loss 4.8217 train_acc 0.0101 val_acc 0.0101\n",
      "loss 4.822355162051034\n"
     ]
    },
    {
     "name": "stderr",
     "output_type": "stream",
     "text": [
      "epoch:  70%|███████   | 14/20 [12:33<05:23, 53.87s/it]"
     ]
    },
    {
     "name": "stdout",
     "output_type": "stream",
     "text": [
      "\n",
      "Epoch 014 train_loss: 4.8224   val_loss 4.8217 train_acc 0.0101 val_acc 0.0101\n",
      "loss 4.822365994543089\n"
     ]
    },
    {
     "name": "stderr",
     "output_type": "stream",
     "text": [
      "epoch:  75%|███████▌  | 15/20 [13:31<04:35, 55.01s/it]"
     ]
    },
    {
     "name": "stdout",
     "output_type": "stream",
     "text": [
      "\n",
      "Epoch 015 train_loss: 4.8224   val_loss 4.8217 train_acc 0.0101 val_acc 0.0101\n",
      "loss 4.822304816911232\n"
     ]
    },
    {
     "name": "stderr",
     "output_type": "stream",
     "text": [
      "epoch:  80%|████████  | 16/20 [14:27<03:41, 55.33s/it]"
     ]
    },
    {
     "name": "stdout",
     "output_type": "stream",
     "text": [
      "\n",
      "Epoch 016 train_loss: 4.8223   val_loss 4.8217 train_acc 0.0101 val_acc 0.0101\n",
      "loss 4.822304192430349\n"
     ]
    },
    {
     "name": "stderr",
     "output_type": "stream",
     "text": [
      "epoch:  85%|████████▌ | 17/20 [15:23<02:46, 55.46s/it]"
     ]
    },
    {
     "name": "stdout",
     "output_type": "stream",
     "text": [
      "\n",
      "Epoch 017 train_loss: 4.8223   val_loss 4.8217 train_acc 0.0101 val_acc 0.0101\n",
      "loss 4.822300885853014\n"
     ]
    },
    {
     "name": "stderr",
     "output_type": "stream",
     "text": [
      "epoch:  90%|█████████ | 18/20 [16:19<01:51, 55.56s/it]"
     ]
    },
    {
     "name": "stdout",
     "output_type": "stream",
     "text": [
      "\n",
      "Epoch 018 train_loss: 4.8223   val_loss 4.8217 train_acc 0.0101 val_acc 0.0101\n",
      "loss 4.822269543098771\n"
     ]
    },
    {
     "name": "stderr",
     "output_type": "stream",
     "text": [
      "epoch:  95%|█████████▌| 19/20 [17:14<00:55, 55.40s/it]"
     ]
    },
    {
     "name": "stdout",
     "output_type": "stream",
     "text": [
      "\n",
      "Epoch 019 train_loss: 4.8223   val_loss 4.8217 train_acc 0.0101 val_acc 0.0101\n",
      "loss 4.822266751767105\n"
     ]
    },
    {
     "name": "stderr",
     "output_type": "stream",
     "text": [
      "epoch: 100%|██████████| 20/20 [18:08<00:00, 54.44s/it]"
     ]
    },
    {
     "name": "stdout",
     "output_type": "stream",
     "text": [
      "\n",
      "Epoch 020 train_loss: 4.8223   val_loss 4.8217 train_acc 0.0101 val_acc 0.0101\n"
     ]
    },
    {
     "name": "stderr",
     "output_type": "stream",
     "text": [
      "\n"
     ]
    }
   ],
   "source": [
    "history = train(train_dataset, val_dataset, model=model, epochs=20, batch_size=64, scheduler=exp_lr_scheduler)"
   ]
  },
  {
   "cell_type": "code",
   "execution_count": null,
   "metadata": {
    "colab": {
     "base_uri": "https://localhost:8080/",
     "height": 551
    },
    "id": "moipFGNqvVB1",
    "outputId": "53dfa418-6adc-482f-8628-3762b12894b9"
   },
   "outputs": [
    {
     "data": {
      "image/png": "[encoded data removed]",
      "text/plain": [
       "<Figure size 1080x648 with 1 Axes>"
      ]
     },
     "metadata": {
      "needs_background": "light"
     },
     "output_type": "display_data"
    }
   ],
   "source": [
    "loss, acc, val_loss, val_acc = zip(*history)\n",
    "plt.figure(figsize=(15, 9))\n",
    "plt.plot(loss, label=\"train_loss\")\n",
    "plt.plot(val_loss, label=\"val_loss\")\n",
    "plt.legend(loc='best')\n",
    "plt.xlabel(\"epochs\")\n",
    "plt.ylabel(\"loss\")\n",
    "plt.show()"
   ]
  },
  {
   "cell_type": "code",
   "execution_count": null,
   "metadata": {
    "id": "3JUTq2Rgw2ZG"
   },
   "outputs": [],
   "source": []
  },
  {
   "cell_type": "code",
   "execution_count": null,
   "metadata": {
    "id": "CCK64x9mw2S7"
   },
   "outputs": [],
   "source": []
  },
  {
   "cell_type": "markdown",
   "metadata": {
    "id": "lrux5mTNJJbq"
   },
   "source": [
    "# Model 3"
   ]
  },
  {
   "cell_type": "code",
   "execution_count": null,
   "metadata": {
    "id": "VFRO3baFprE-"
   },
   "outputs": [],
   "source": [
    "class Cnn_3(nn.Module):\n",
    "\n",
    "  def __init__(self, n_classes):\n",
    "    super(Cnn_3, self).__init__()\n",
    "    self.conv1 = nn.Sequential(\n",
    "        nn.Conv2d(in_channels=3, out_channels=8, kernel_size=5),\n",
    "        nn.ReLU(),\n",
    "        nn.MaxPool2d(kernel_size=3)\n",
    "    )\n",
    "    self.conv2 = nn.Sequential(\n",
    "        nn.Conv2d(in_channels=8, out_channels=16, kernel_size=5),\n",
    "        nn.ReLU(),\n",
    "        nn.MaxPool2d(kernel_size=3)\n",
    "    )\n",
    "    self.conv3 = nn.Sequential(\n",
    "        nn.Conv2d(in_channels=16, out_channels=32, kernel_size=3),\n",
    "        nn.ReLU(),\n",
    "        #nn.MaxPool2d(kernel_size=2)\n",
    "    )\n",
    "    self.conv4 = nn.Sequential(\n",
    "        nn.Conv2d(in_channels=32, out_channels=64, kernel_size=3, stride=2),\n",
    "        nn.ReLU(),\n",
    "        nn.MaxPool2d(kernel_size=3)\n",
    "    )\n",
    "    self.conv5 = nn.Sequential(\n",
    "        nn.Conv2d(in_channels=64, out_channels=96, kernel_size=2),\n",
    "        nn.ReLU(),\n",
    "        #nn.MaxPool2d(kernel_size=2)\n",
    "    )\n",
    "\n",
    "    self.out = nn.Sequential(\n",
    "        nn.Linear(96 * 2 * 2, 4000),\n",
    "        nn.ReLU(),\n",
    "        nn.Linear(4000, 1000),\n",
    "        nn.ReLU(),\n",
    "        nn.Linear(1000, n_classes)\n",
    "        )\n",
    "\n",
    "\n",
    "  def forward(self, x):\n",
    "    x = self.conv1(x)\n",
    "    x = self.conv2(x)\n",
    "    x = self.conv3(x)\n",
    "    x = self.conv4(x)\n",
    "    x = self.conv5(x)\n",
    "\n",
    "    x = x.view(x.size(0), -1)\n",
    "    logits = self.out(x)\n",
    "    return logits"
   ]
  },
  {
   "cell_type": "code",
   "execution_count": null,
   "metadata": {
    "id": "ZmMiioqXvU2p"
   },
   "outputs": [],
   "source": [
    "model = Cnn_3(n_classes).to(DEVICE)"
   ]
  },
  {
   "cell_type": "code",
   "execution_count": null,
   "metadata": {
    "colab": {
     "base_uri": "https://localhost:8080/"
    },
    "id": "qgRcjd9VvUyd",
    "outputId": "6861dbd5-1555-489c-c286-4e2977639490"
   },
   "outputs": [
    {
     "name": "stderr",
     "output_type": "stream",
     "text": [
      "\r",
      "epoch:   0%|          | 0/25 [00:00<?, ?it/s]"
     ]
    },
    {
     "name": "stdout",
     "output_type": "stream",
     "text": [
      "loss 4.720043170979697\n"
     ]
    },
    {
     "name": "stderr",
     "output_type": "stream",
     "text": [
      "epoch:   4%|▍         | 1/25 [02:48<1:07:11, 167.99s/it]"
     ]
    },
    {
     "name": "stdout",
     "output_type": "stream",
     "text": [
      "\n",
      "Epoch 001 train_loss: 4.7200   val_loss 4.6148 train_acc 0.0195 val_acc 0.0266\n",
      "loss 4.51568676143339\n"
     ]
    },
    {
     "name": "stderr",
     "output_type": "stream",
     "text": [
      "epoch:   8%|▊         | 2/25 [05:33<1:03:55, 166.76s/it]"
     ]
    },
    {
     "name": "stdout",
     "output_type": "stream",
     "text": [
      "\n",
      "Epoch 002 train_loss: 4.5157   val_loss 4.4781 train_acc 0.0346 val_acc 0.0384\n",
      "loss 4.429019060674408\n"
     ]
    },
    {
     "name": "stderr",
     "output_type": "stream",
     "text": [
      "epoch:  12%|█▏        | 3/25 [08:19<1:00:53, 166.08s/it]"
     ]
    },
    {
     "name": "stdout",
     "output_type": "stream",
     "text": [
      "\n",
      "Epoch 003 train_loss: 4.4290   val_loss 4.4157 train_acc 0.0425 val_acc 0.0490\n",
      "loss 4.299037013698734\n"
     ]
    },
    {
     "name": "stderr",
     "output_type": "stream",
     "text": [
      "epoch:  16%|█▌        | 4/25 [11:04<58:03, 165.89s/it]"
     ]
    },
    {
     "name": "stdout",
     "output_type": "stream",
     "text": [
      "\n",
      "Epoch 004 train_loss: 4.2990   val_loss 4.2963 train_acc 0.0643 val_acc 0.0640\n",
      "loss 4.21447292334615\n"
     ]
    },
    {
     "name": "stderr",
     "output_type": "stream",
     "text": [
      "epoch:  20%|██        | 5/25 [13:43<54:28, 163.40s/it]"
     ]
    },
    {
     "name": "stdout",
     "output_type": "stream",
     "text": [
      "\n",
      "Epoch 005 train_loss: 4.2145   val_loss 4.2095 train_acc 0.0739 val_acc 0.0820\n",
      "loss 4.144445014671403\n"
     ]
    },
    {
     "name": "stderr",
     "output_type": "stream",
     "text": [
      "epoch:  24%|██▍       | 6/25 [16:16<50:36, 159.84s/it]"
     ]
    },
    {
     "name": "stdout",
     "output_type": "stream",
     "text": [
      "\n",
      "Epoch 006 train_loss: 4.1444   val_loss 4.1910 train_acc 0.0827 val_acc 0.0830\n",
      "loss 4.030275888166577\n",
      "\n",
      "Epoch 007 train_loss: 4.0303   val_loss 4.1101 train_acc 0.0957 val_acc 0.0919\n",
      "loss 3.9730405147385546\n"
     ]
    },
    {
     "name": "stderr",
     "output_type": "stream",
     "text": [
      "epoch:  32%|███▏      | 8/25 [21:15<43:42, 154.24s/it]"
     ]
    },
    {
     "name": "stdout",
     "output_type": "stream",
     "text": [
      "\n",
      "Epoch 008 train_loss: 3.9730   val_loss 4.1079 train_acc 0.1042 val_acc 0.0953\n",
      "loss 3.927872533623598\n"
     ]
    },
    {
     "name": "stderr",
     "output_type": "stream",
     "text": [
      "epoch:  36%|███▌      | 9/25 [23:47<40:54, 153.42s/it]"
     ]
    },
    {
     "name": "stdout",
     "output_type": "stream",
     "text": [
      "\n",
      "Epoch 009 train_loss: 3.9279   val_loss 4.0571 train_acc 0.1098 val_acc 0.1064\n",
      "loss 3.8434069229078682\n"
     ]
    },
    {
     "name": "stderr",
     "output_type": "stream",
     "text": [
      "epoch:  40%|████      | 10/25 [26:15<37:54, 151.64s/it]"
     ]
    },
    {
     "name": "stdout",
     "output_type": "stream",
     "text": [
      "\n",
      "Epoch 010 train_loss: 3.8434   val_loss 4.0390 train_acc 0.1255 val_acc 0.1131\n",
      "loss 3.816788751490354\n"
     ]
    },
    {
     "name": "stderr",
     "output_type": "stream",
     "text": [
      "epoch:  44%|████▍     | 11/25 [28:46<35:19, 151.40s/it]"
     ]
    },
    {
     "name": "stdout",
     "output_type": "stream",
     "text": [
      "\n",
      "Epoch 011 train_loss: 3.8168   val_loss 4.0337 train_acc 0.1296 val_acc 0.1133\n",
      "loss 3.7813113523103183\n"
     ]
    },
    {
     "name": "stderr",
     "output_type": "stream",
     "text": [
      "epoch:  48%|████▊     | 12/25 [31:15<32:38, 150.66s/it]"
     ]
    },
    {
     "name": "stdout",
     "output_type": "stream",
     "text": [
      "\n",
      "Epoch 012 train_loss: 3.7813   val_loss 4.0216 train_acc 0.1321 val_acc 0.1121\n",
      "loss 3.7397556349761145\n"
     ]
    },
    {
     "name": "stderr",
     "output_type": "stream",
     "text": [
      "epoch:  52%|█████▏    | 13/25 [33:44<30:03, 150.30s/it]"
     ]
    },
    {
     "name": "stdout",
     "output_type": "stream",
     "text": [
      "\n",
      "Epoch 013 train_loss: 3.7398   val_loss 4.0099 train_acc 0.1419 val_acc 0.1197\n",
      "loss 3.723620436052372\n"
     ]
    },
    {
     "name": "stderr",
     "output_type": "stream",
     "text": [
      "epoch:  56%|█████▌    | 14/25 [36:15<27:36, 150.59s/it]"
     ]
    },
    {
     "name": "stdout",
     "output_type": "stream",
     "text": [
      "\n",
      "Epoch 014 train_loss: 3.7236   val_loss 3.9989 train_acc 0.1454 val_acc 0.1217\n",
      "loss 3.70574950903681\n"
     ]
    },
    {
     "name": "stderr",
     "output_type": "stream",
     "text": [
      "epoch:  60%|██████    | 15/25 [38:47<25:08, 150.85s/it]"
     ]
    },
    {
     "name": "stdout",
     "output_type": "stream",
     "text": [
      "\n",
      "Epoch 015 train_loss: 3.7057   val_loss 4.0163 train_acc 0.1466 val_acc 0.1224\n",
      "loss 3.689217376830357\n"
     ]
    },
    {
     "name": "stderr",
     "output_type": "stream",
     "text": [
      "epoch:  64%|██████▍   | 16/25 [41:15<22:29, 149.93s/it]"
     ]
    },
    {
     "name": "stdout",
     "output_type": "stream",
     "text": [
      "\n",
      "Epoch 016 train_loss: 3.6892   val_loss 4.0093 train_acc 0.1482 val_acc 0.1236\n",
      "loss 3.672909866991238\n"
     ]
    },
    {
     "name": "stderr",
     "output_type": "stream",
     "text": [
      "epoch:  68%|██████▊   | 17/25 [43:43<19:56, 149.59s/it]"
     ]
    },
    {
     "name": "stdout",
     "output_type": "stream",
     "text": [
      "\n",
      "Epoch 017 train_loss: 3.6729   val_loss 4.0014 train_acc 0.1533 val_acc 0.1239\n",
      "loss 3.664973828463496\n"
     ]
    },
    {
     "name": "stderr",
     "output_type": "stream",
     "text": [
      "epoch:  72%|███████▏  | 18/25 [46:18<17:37, 151.01s/it]"
     ]
    },
    {
     "name": "stdout",
     "output_type": "stream",
     "text": [
      "\n",
      "Epoch 018 train_loss: 3.6650   val_loss 4.0066 train_acc 0.1537 val_acc 0.1241\n",
      "loss 3.653705570828749\n"
     ]
    },
    {
     "name": "stderr",
     "output_type": "stream",
     "text": [
      "epoch:  76%|███████▌  | 19/25 [48:53<15:14, 152.36s/it]"
     ]
    },
    {
     "name": "stdout",
     "output_type": "stream",
     "text": [
      "\n",
      "Epoch 019 train_loss: 3.6537   val_loss 4.0001 train_acc 0.1541 val_acc 0.1241\n",
      "loss 3.6490789610467056\n"
     ]
    },
    {
     "name": "stderr",
     "output_type": "stream",
     "text": [
      "epoch:  80%|████████  | 20/25 [51:29<12:47, 153.44s/it]"
     ]
    },
    {
     "name": "stdout",
     "output_type": "stream",
     "text": [
      "\n",
      "Epoch 020 train_loss: 3.6491   val_loss 4.0016 train_acc 0.1557 val_acc 0.1246\n",
      "loss 3.6462712142451643\n"
     ]
    },
    {
     "name": "stderr",
     "output_type": "stream",
     "text": [
      "epoch:  84%|████████▍ | 21/25 [54:02<10:13, 153.29s/it]"
     ]
    },
    {
     "name": "stdout",
     "output_type": "stream",
     "text": [
      "\n",
      "Epoch 021 train_loss: 3.6463   val_loss 3.9973 train_acc 0.1549 val_acc 0.1227\n",
      "loss 3.6374654881873343\n"
     ]
    },
    {
     "name": "stderr",
     "output_type": "stream",
     "text": [
      "epoch:  88%|████████▊ | 22/25 [56:34<07:38, 152.96s/it]"
     ]
    },
    {
     "name": "stdout",
     "output_type": "stream",
     "text": [
      "\n",
      "Epoch 022 train_loss: 3.6375   val_loss 4.0005 train_acc 0.1572 val_acc 0.1239\n",
      "loss 3.6258781058064566\n"
     ]
    },
    {
     "name": "stderr",
     "output_type": "stream",
     "text": [
      "epoch:  92%|█████████▏| 23/25 [59:09<05:07, 153.50s/it]"
     ]
    },
    {
     "name": "stdout",
     "output_type": "stream",
     "text": [
      "\n",
      "Epoch 023 train_loss: 3.6259   val_loss 4.0010 train_acc 0.1590 val_acc 0.1251\n",
      "loss 3.6293008122717043\n"
     ]
    },
    {
     "name": "stderr",
     "output_type": "stream",
     "text": [
      "epoch:  96%|█████████▌| 24/25 [1:01:54<02:36, 156.88s/it]"
     ]
    },
    {
     "name": "stdout",
     "output_type": "stream",
     "text": [
      "\n",
      "Epoch 024 train_loss: 3.6293   val_loss 4.0011 train_acc 0.1609 val_acc 0.1244\n",
      "loss 3.6314343895189025\n"
     ]
    },
    {
     "name": "stderr",
     "output_type": "stream",
     "text": [
      "epoch: 100%|██████████| 25/25 [1:04:37<00:00, 155.09s/it]"
     ]
    },
    {
     "name": "stdout",
     "output_type": "stream",
     "text": [
      "\n",
      "Epoch 025 train_loss: 3.6314   val_loss 4.0005 train_acc 0.1549 val_acc 0.1244\n"
     ]
    },
    {
     "name": "stderr",
     "output_type": "stream",
     "text": [
      "\n"
     ]
    }
   ],
   "source": [
    "history = train(train_dataset, val_dataset, model=model, epochs=25, batch_size=64, scheduler=exp_lr_scheduler)"
   ]
  },
  {
   "cell_type": "code",
   "execution_count": null,
   "metadata": {
    "id": "RxxU-CnTI0hb"
   },
   "outputs": [],
   "source": [
    "loss, acc, val_loss, val_acc = zip(*history)\n",
    "val_acc = [val_acc[i].cpu().numpy() for i in range(len(val_acc))]"
   ]
  },
  {
   "cell_type": "code",
   "execution_count": null,
   "metadata": {
    "id": "09tERYZaI0XY"
   },
   "outputs": [],
   "source": []
  },
  {
   "cell_type": "code",
   "execution_count": null,
   "metadata": {
    "colab": {
     "base_uri": "https://localhost:8080/",
     "height": 551
    },
    "id": "8SWDAErG69Gt",
    "outputId": "1ae631f3-46b1-4de8-e655-fbceaf6db03d"
   },
   "outputs": [
    {
     "data": {
      "image/png": "[encoded data removed]",
      "text/plain": [
       "<Figure size 1080x648 with 1 Axes>"
      ]
     },
     "metadata": {
      "needs_background": "light"
     },
     "output_type": "display_data"
    }
   ],
   "source": [
    "\n",
    "plt.figure(figsize=(15, 9))\n",
    "plt.plot(loss, label=\"train_loss\")\n",
    "plt.plot(val_loss, label=\"val_loss\")\n",
    "plt.legend(loc='best')\n",
    "plt.xlabel(\"epochs\")\n",
    "plt.ylabel(\"loss\")\n",
    "plt.show()"
   ]
  },
  {
   "cell_type": "code",
   "execution_count": null,
   "metadata": {
    "colab": {
     "base_uri": "https://localhost:8080/",
     "height": 551
    },
    "id": "UXq-msku69CE",
    "outputId": "fd0b166c-18e6-48d2-f4fb-4a8e0bea30db"
   },
   "outputs": [
    {
     "data": {
      "image/png": "[encoded data removed]",
      "text/plain": [
       "<Figure size 1080x648 with 1 Axes>"
      ]
     },
     "metadata": {
      "needs_background": "light"
     },
     "output_type": "display_data"
    }
   ],
   "source": [
    "\n",
    "plt.figure(figsize=(15, 9))\n",
    "plt.plot(acc, label=\"train_acc\")\n",
    "plt.plot(val_acc, label=\"val_acc\")\n",
    "plt.legend(loc='best')\n",
    "plt.xlabel(\"epochs\")\n",
    "plt.ylabel(\"loss\")\n",
    "plt.show()"
   ]
  },
  {
   "cell_type": "code",
   "execution_count": null,
   "metadata": {
    "id": "0LWM3Yp-IqKY"
   },
   "outputs": [],
   "source": [
    "test_dataset = CVDataSet(test_files, mode=\"test\")\n",
    "test_loader = DataLoader(test_dataset, shuffle=False, batch_size=40)\n",
    "probs = predict(Cnn_3(n_classes).to(DEVICE), test_loader)\n",
    "test_filenames = [path.name for path in test_dataset.files]\n",
    "preds = np.argmax(probs, axis=1)\n",
    "\n",
    "df = pd.DataFrame()\n",
    "df['image'] = test_filenames\n",
    "df['label'] = preds\n",
    "df.to_csv('gdrive/My Drive/cv2022spring_3.csv', index=False)"
   ]
  },
  {
   "cell_type": "markdown",
   "metadata": {},
   "source": [
    "Kaggle score: 0.00720"
   ]
  },
  {
   "cell_type": "markdown",
   "metadata": {
    "id": "pNHVczXHJ2ZC"
   },
   "source": [
    "# Model 4 (transfer learning)"
   ]
  },
  {
   "cell_type": "code",
   "execution_count": null,
   "metadata": {
    "id": "pKMFawNuJ72j"
   },
   "outputs": [],
   "source": [
    "#Обучение AlexNet с уменьшенным learning rate для первых слоев сети\n",
    "from torchvision import models\n",
    "from torch.optim import lr_scheduler\n",
    "alex_dif_lr = models.alexnet(pretrained=False)\n",
    "num_features = 9216 #количество features поступающих на вход классифатору\n",
    "alex_dif_lr.classifier = nn.Linear(num_features, n_classes)\n",
    "\n",
    "optimizer = torch.optim.Adam(params=[{'params': alex_dif_lr.classifier.parameters()},\n",
    "                                     {'params': alex_dif_lr.features.parameters(), 'lr': 1e-3}],\n",
    "                             lr = 1e-3 )\n",
    "criterion = nn.CrossEntropyLoss()\n",
    "\n",
    "exp_lr_scheduler = lr_scheduler.StepLR(optimizer, step_size=7, gamma=0.1)"
   ]
  },
  {
   "cell_type": "code",
   "execution_count": null,
   "metadata": {
    "colab": {
     "base_uri": "https://localhost:8080/"
    },
    "id": "k_X7wppCKOS3",
    "outputId": "9bae45f5-bb7a-48b6-deee-10fb3c4e84eb"
   },
   "outputs": [
    {
     "data": {
      "text/plain": [
       "AlexNet(\n",
       "  (features): Sequential(\n",
       "    (0): Conv2d(3, 64, kernel_size=(11, 11), stride=(4, 4), padding=(2, 2))\n",
       "    (1): ReLU(inplace=True)\n",
       "    (2): MaxPool2d(kernel_size=3, stride=2, padding=0, dilation=1, ceil_mode=False)\n",
       "    (3): Conv2d(64, 192, kernel_size=(5, 5), stride=(1, 1), padding=(2, 2))\n",
       "    (4): ReLU(inplace=True)\n",
       "    (5): MaxPool2d(kernel_size=3, stride=2, padding=0, dilation=1, ceil_mode=False)\n",
       "    (6): Conv2d(192, 384, kernel_size=(3, 3), stride=(1, 1), padding=(1, 1))\n",
       "    (7): ReLU(inplace=True)\n",
       "    (8): Conv2d(384, 256, kernel_size=(3, 3), stride=(1, 1), padding=(1, 1))\n",
       "    (9): ReLU(inplace=True)\n",
       "    (10): Conv2d(256, 256, kernel_size=(3, 3), stride=(1, 1), padding=(1, 1))\n",
       "    (11): ReLU(inplace=True)\n",
       "    (12): MaxPool2d(kernel_size=3, stride=2, padding=0, dilation=1, ceil_mode=False)\n",
       "  )\n",
       "  (avgpool): AdaptiveAvgPool2d(output_size=(6, 6))\n",
       "  (classifier): Linear(in_features=9216, out_features=125, bias=True)\n",
       ")"
      ]
     },
     "execution_count": 130,
     "metadata": {},
     "output_type": "execute_result"
    }
   ],
   "source": [
    "alex_dif_lr.to(\"cuda\")"
   ]
  },
  {
   "cell_type": "code",
   "execution_count": null,
   "metadata": {
    "colab": {
     "base_uri": "https://localhost:8080/"
    },
    "id": "G6u4cx2dKODS",
    "outputId": "152c464a-8ae0-422d-99c9-b1a13379e80e"
   },
   "outputs": [
    {
     "name": "stderr",
     "output_type": "stream",
     "text": [
      "\r",
      "epoch:   0%|          | 0/5 [00:00<?, ?it/s]"
     ]
    },
    {
     "name": "stdout",
     "output_type": "stream",
     "text": [
      "loss 4.755761523778847\n"
     ]
    },
    {
     "name": "stderr",
     "output_type": "stream",
     "text": [
      "epoch:  20%|██        | 1/5 [02:51<11:26, 171.59s/it]"
     ]
    },
    {
     "name": "stdout",
     "output_type": "stream",
     "text": [
      "\n",
      "Epoch 001 train_loss: 4.7558   val_loss 4.6461 train_acc 0.0171 val_acc 0.0303\n",
      "loss 4.593766889408487\n"
     ]
    },
    {
     "name": "stderr",
     "output_type": "stream",
     "text": [
      "epoch:  40%|████      | 2/5 [05:41<08:30, 170.30s/it]"
     ]
    },
    {
     "name": "stdout",
     "output_type": "stream",
     "text": [
      "\n",
      "Epoch 002 train_loss: 4.5938   val_loss 4.5976 train_acc 0.0344 val_acc 0.0456\n",
      "loss 4.488250939577258\n"
     ]
    },
    {
     "name": "stderr",
     "output_type": "stream",
     "text": [
      "epoch:  60%|██████    | 3/5 [08:29<05:38, 169.32s/it]"
     ]
    },
    {
     "name": "stdout",
     "output_type": "stream",
     "text": [
      "\n",
      "Epoch 003 train_loss: 4.4883   val_loss 4.4918 train_acc 0.0475 val_acc 0.0512\n",
      "loss 4.330037797238305\n"
     ]
    },
    {
     "name": "stderr",
     "output_type": "stream",
     "text": [
      "epoch:  80%|████████  | 4/5 [11:14<02:47, 167.94s/it]"
     ]
    },
    {
     "name": "stdout",
     "output_type": "stream",
     "text": [
      "\n",
      "Epoch 004 train_loss: 4.3300   val_loss 4.3934 train_acc 0.0718 val_acc 0.0645\n",
      "loss 4.205891356110739\n"
     ]
    },
    {
     "name": "stderr",
     "output_type": "stream",
     "text": [
      "epoch: 100%|██████████| 5/5 [14:01<00:00, 168.29s/it]"
     ]
    },
    {
     "name": "stdout",
     "output_type": "stream",
     "text": [
      "\n",
      "Epoch 005 train_loss: 4.2059   val_loss 4.3058 train_acc 0.0893 val_acc 0.0783\n"
     ]
    },
    {
     "name": "stderr",
     "output_type": "stream",
     "text": [
      "\n"
     ]
    }
   ],
   "source": [
    "history = train(train_dataset, val_dataset, model=alex_dif_lr, epochs=5, batch_size=64, scheduler=exp_lr_scheduler)"
   ]
  },
  {
   "cell_type": "code",
   "execution_count": null,
   "metadata": {
    "colab": {
     "base_uri": "https://localhost:8080/",
     "height": 551
    },
    "id": "y0lETd_lKN_E",
    "outputId": "ceeda37d-6e99-45df-b5a6-3c0db07d1686"
   },
   "outputs": [
    {
     "data": {
      "image/png": "[encoded data removed]",
      "text/plain": [
       "<Figure size 1080x648 with 1 Axes>"
      ]
     },
     "metadata": {
      "needs_background": "light"
     },
     "output_type": "display_data"
    }
   ],
   "source": [
    "plt.figure(figsize=(15, 9))\n",
    "plt.plot(acc, label=\"train_acc\")\n",
    "plt.plot(val_acc, label=\"val_acc\")\n",
    "plt.legend(loc='best')\n",
    "plt.xlabel(\"epochs\")\n",
    "plt.ylabel(\"loss\")\n",
    "plt.show()"
   ]
  },
  {
   "cell_type": "code",
   "execution_count": null,
   "metadata": {
    "colab": {
     "base_uri": "https://localhost:8080/",
     "height": 551
    },
    "id": "iqDqHDbVKN7_",
    "outputId": "f62122cb-2c56-427e-8509-e288019ac707"
   },
   "outputs": [
    {
     "data": {
      "image/png": "[encoded data removed]",
      "text/plain": [
       "<Figure size 1080x648 with 1 Axes>"
      ]
     },
     "metadata": {
      "needs_background": "light"
     },
     "output_type": "display_data"
    }
   ],
   "source": [
    "plt.figure(figsize=(15, 9))\n",
    "plt.plot(loss, label=\"train_loss\")\n",
    "plt.plot(val_loss, label=\"val_loss\")\n",
    "plt.legend(loc='best')\n",
    "plt.xlabel(\"epochs\")\n",
    "plt.ylabel(\"loss\")\n",
    "plt.show()"
   ]
  },
  {
   "cell_type": "code",
   "execution_count": null,
   "metadata": {
    "id": "aTYCB_A_KN4p"
   },
   "outputs": [],
   "source": []
  },
  {
   "cell_type": "code",
   "execution_count": null,
   "metadata": {
    "id": "qE77MB-4Pp_V"
   },
   "outputs": [],
   "source": []
  },
  {
   "cell_type": "code",
   "execution_count": null,
   "metadata": {
    "id": "s2BQuITTPp3Z"
   },
   "outputs": [],
   "source": [
    "alex_dif_lr_1 = models.alexnet(pretrained=True)\n",
    "num_features = 9216 #количество features поступающих на вход классифатору\n",
    "alex_dif_lr_1.classifier = nn.Linear(num_features, n_classes)\n",
    "\n",
    "optimizer = torch.optim.Adam(params=[{'params': alex_dif_lr.classifier.parameters()},\n",
    "                                     {'params': alex_dif_lr.features.parameters(), 'lr': 1e-5}],\n",
    "                             lr = 1e-4 )\n",
    "criterion = nn.CrossEntropyLoss()\n",
    "\n",
    "exp_lr_scheduler = lr_scheduler.StepLR(optimizer, step_size=7, gamma=0.1)"
   ]
  },
  {
   "cell_type": "code",
   "execution_count": null,
   "metadata": {
    "colab": {
     "base_uri": "https://localhost:8080/"
    },
    "id": "0WSdwF4wP6Yd",
    "outputId": "0b50c93d-5d64-4ca6-953f-3f5281ef93db"
   },
   "outputs": [
    {
     "data": {
      "text/plain": [
       "AlexNet(\n",
       "  (features): Sequential(\n",
       "    (0): Conv2d(3, 64, kernel_size=(11, 11), stride=(4, 4), padding=(2, 2))\n",
       "    (1): ReLU(inplace=True)\n",
       "    (2): MaxPool2d(kernel_size=3, stride=2, padding=0, dilation=1, ceil_mode=False)\n",
       "    (3): Conv2d(64, 192, kernel_size=(5, 5), stride=(1, 1), padding=(2, 2))\n",
       "    (4): ReLU(inplace=True)\n",
       "    (5): MaxPool2d(kernel_size=3, stride=2, padding=0, dilation=1, ceil_mode=False)\n",
       "    (6): Conv2d(192, 384, kernel_size=(3, 3), stride=(1, 1), padding=(1, 1))\n",
       "    (7): ReLU(inplace=True)\n",
       "    (8): Conv2d(384, 256, kernel_size=(3, 3), stride=(1, 1), padding=(1, 1))\n",
       "    (9): ReLU(inplace=True)\n",
       "    (10): Conv2d(256, 256, kernel_size=(3, 3), stride=(1, 1), padding=(1, 1))\n",
       "    (11): ReLU(inplace=True)\n",
       "    (12): MaxPool2d(kernel_size=3, stride=2, padding=0, dilation=1, ceil_mode=False)\n",
       "  )\n",
       "  (avgpool): AdaptiveAvgPool2d(output_size=(6, 6))\n",
       "  (classifier): Linear(in_features=9216, out_features=125, bias=True)\n",
       ")"
      ]
     },
     "execution_count": 136,
     "metadata": {},
     "output_type": "execute_result"
    }
   ],
   "source": [
    "alex_dif_lr_1.to(\"cuda\")"
   ]
  },
  {
   "cell_type": "code",
   "execution_count": null,
   "metadata": {
    "colab": {
     "base_uri": "https://localhost:8080/"
    },
    "id": "N3XndQIfPpzY",
    "outputId": "66d64db7-78b0-4ed9-e6a0-d09d5c85b057"
   },
   "outputs": [
    {
     "name": "stderr",
     "output_type": "stream",
     "text": [
      "\r",
      "epoch:   0%|          | 0/3 [00:00<?, ?it/s]"
     ]
    },
    {
     "name": "stdout",
     "output_type": "stream",
     "text": [
      "loss 4.836354448893395\n"
     ]
    },
    {
     "name": "stderr",
     "output_type": "stream",
     "text": [
      "epoch:  33%|███▎      | 1/3 [02:41<05:22, 161.11s/it]"
     ]
    },
    {
     "name": "stdout",
     "output_type": "stream",
     "text": [
      "\n",
      "Epoch 001 train_loss: 4.8364   val_loss 4.8267 train_acc 0.0088 val_acc 0.0101\n",
      "loss 4.826866556774152\n"
     ]
    },
    {
     "name": "stderr",
     "output_type": "stream",
     "text": [
      "epoch:  67%|██████▋   | 2/3 [05:18<02:38, 158.83s/it]"
     ]
    },
    {
     "name": "stdout",
     "output_type": "stream",
     "text": [
      "\n",
      "Epoch 002 train_loss: 4.8269   val_loss 4.8256 train_acc 0.0101 val_acc 0.0101\n",
      "loss 4.82589943607273\n"
     ]
    },
    {
     "name": "stderr",
     "output_type": "stream",
     "text": [
      "epoch: 100%|██████████| 3/3 [07:54<00:00, 158.29s/it]"
     ]
    },
    {
     "name": "stdout",
     "output_type": "stream",
     "text": [
      "\n",
      "Epoch 003 train_loss: 4.8259   val_loss 4.8247 train_acc 0.0101 val_acc 0.0101\n"
     ]
    },
    {
     "name": "stderr",
     "output_type": "stream",
     "text": [
      "\n"
     ]
    }
   ],
   "source": [
    "history = train(train_dataset, val_dataset, model=alex_dif_lr_1, epochs=3, batch_size=64, scheduler=exp_lr_scheduler)"
   ]
  },
  {
   "cell_type": "code",
   "execution_count": null,
   "metadata": {
    "id": "8oBk6UIpSE3V"
   },
   "outputs": [],
   "source": [
    "loss, acc, val_loss, val_acc = zip(*history)\n",
    "val_acc = [val_acc[i].cpu().numpy() for i in range(len(val_acc))]"
   ]
  },
  {
   "cell_type": "code",
   "execution_count": null,
   "metadata": {
    "colab": {
     "base_uri": "https://localhost:8080/",
     "height": 551
    },
    "id": "MelimNuRP36Z",
    "outputId": "15d1d659-2591-41ab-eb34-b6c338d0f97f"
   },
   "outputs": [
    {
     "data": {
      "image/png": "[encoded data removed]",
      "text/plain": [
       "<Figure size 1080x648 with 1 Axes>"
      ]
     },
     "metadata": {
      "needs_background": "light"
     },
     "output_type": "display_data"
    }
   ],
   "source": [
    "plt.figure(figsize=(15, 9))\n",
    "plt.plot(acc, label=\"train_acc\")\n",
    "plt.plot(val_acc, label=\"val_acc\")\n",
    "plt.legend(loc='best')\n",
    "plt.xlabel(\"epochs\")\n",
    "plt.ylabel(\"loss\")\n",
    "plt.show()"
   ]
  },
  {
   "cell_type": "code",
   "execution_count": null,
   "metadata": {
    "colab": {
     "base_uri": "https://localhost:8080/",
     "height": 551
    },
    "id": "o-b65PTwSKLy",
    "outputId": "1c15401a-d605-4eb3-9edf-13563f7bfe2d"
   },
   "outputs": [
    {
     "data": {
      "image/png": "[encoded data removed]",
      "text/plain": [
       "<Figure size 1080x648 with 1 Axes>"
      ]
     },
     "metadata": {
      "needs_background": "light"
     },
     "output_type": "display_data"
    }
   ],
   "source": [
    "plt.figure(figsize=(15, 9))\n",
    "plt.plot(loss, label=\"train_loss\")\n",
    "plt.plot(val_loss, label=\"val_loss\")\n",
    "plt.legend(loc='best')\n",
    "plt.xlabel(\"epochs\")\n",
    "plt.ylabel(\"loss\")\n",
    "plt.show()"
   ]
  },
  {
   "cell_type": "code",
   "execution_count": null,
   "metadata": {
    "id": "M3hdVJvHYp6_"
   },
   "outputs": [],
   "source": []
  },
  {
   "cell_type": "markdown",
   "metadata": {
    "id": "N2UsDBczYqsl"
   },
   "source": [
    "# ResNet"
   ]
  },
  {
   "cell_type": "code",
   "execution_count": null,
   "metadata": {
    "id": "Pj-ManP6YzZ7"
   },
   "outputs": [],
   "source": [
    "from torchvision import models\n",
    "from torch.optim import lr_scheduler\n",
    "resnet18 = models.resnet18(pretrained=False)\n",
    "in_features = 512 #количество features поступающих на вход классифатору\n",
    "resnet18.fc = nn.Linear(in_features, n_classes)\n",
    "\n",
    "optimizer = torch.optim.Adam(resnet18.parameters(), lr = 1e-4)\n",
    "criterion = nn.CrossEntropyLoss()\n",
    "\n",
    "exp_lr_scheduler = lr_scheduler.StepLR(optimizer, step_size=7, gamma=0.1)"
   ]
  },
  {
   "cell_type": "code",
   "execution_count": null,
   "metadata": {
    "colab": {
     "base_uri": "https://localhost:8080/"
    },
    "id": "pyr-AojEYy-u",
    "outputId": "5ebff687-6681-4585-f4bf-1d1837c1e240"
   },
   "outputs": [
    {
     "data": {
      "text/plain": [
       "ResNet(\n",
       "  (conv1): Conv2d(3, 64, kernel_size=(7, 7), stride=(2, 2), padding=(3, 3), bias=False)\n",
       "  (bn1): BatchNorm2d(64, eps=1e-05, momentum=0.1, affine=True, track_running_stats=True)\n",
       "  (relu): ReLU(inplace=True)\n",
       "  (maxpool): MaxPool2d(kernel_size=3, stride=2, padding=1, dilation=1, ceil_mode=False)\n",
       "  (layer1): Sequential(\n",
       "    (0): BasicBlock(\n",
       "      (conv1): Conv2d(64, 64, kernel_size=(3, 3), stride=(1, 1), padding=(1, 1), bias=False)\n",
       "      (bn1): BatchNorm2d(64, eps=1e-05, momentum=0.1, affine=True, track_running_stats=True)\n",
       "      (relu): ReLU(inplace=True)\n",
       "      (conv2): Conv2d(64, 64, kernel_size=(3, 3), stride=(1, 1), padding=(1, 1), bias=False)\n",
       "      (bn2): BatchNorm2d(64, eps=1e-05, momentum=0.1, affine=True, track_running_stats=True)\n",
       "    )\n",
       "    (1): BasicBlock(\n",
       "      (conv1): Conv2d(64, 64, kernel_size=(3, 3), stride=(1, 1), padding=(1, 1), bias=False)\n",
       "      (bn1): BatchNorm2d(64, eps=1e-05, momentum=0.1, affine=True, track_running_stats=True)\n",
       "      (relu): ReLU(inplace=True)\n",
       "      (conv2): Conv2d(64, 64, kernel_size=(3, 3), stride=(1, 1), padding=(1, 1), bias=False)\n",
       "      (bn2): BatchNorm2d(64, eps=1e-05, momentum=0.1, affine=True, track_running_stats=True)\n",
       "    )\n",
       "  )\n",
       "  (layer2): Sequential(\n",
       "    (0): BasicBlock(\n",
       "      (conv1): Conv2d(64, 128, kernel_size=(3, 3), stride=(2, 2), padding=(1, 1), bias=False)\n",
       "      (bn1): BatchNorm2d(128, eps=1e-05, momentum=0.1, affine=True, track_running_stats=True)\n",
       "      (relu): ReLU(inplace=True)\n",
       "      (conv2): Conv2d(128, 128, kernel_size=(3, 3), stride=(1, 1), padding=(1, 1), bias=False)\n",
       "      (bn2): BatchNorm2d(128, eps=1e-05, momentum=0.1, affine=True, track_running_stats=True)\n",
       "      (downsample): Sequential(\n",
       "        (0): Conv2d(64, 128, kernel_size=(1, 1), stride=(2, 2), bias=False)\n",
       "        (1): BatchNorm2d(128, eps=1e-05, momentum=0.1, affine=True, track_running_stats=True)\n",
       "      )\n",
       "    )\n",
       "    (1): BasicBlock(\n",
       "      (conv1): Conv2d(128, 128, kernel_size=(3, 3), stride=(1, 1), padding=(1, 1), bias=False)\n",
       "      (bn1): BatchNorm2d(128, eps=1e-05, momentum=0.1, affine=True, track_running_stats=True)\n",
       "      (relu): ReLU(inplace=True)\n",
       "      (conv2): Conv2d(128, 128, kernel_size=(3, 3), stride=(1, 1), padding=(1, 1), bias=False)\n",
       "      (bn2): BatchNorm2d(128, eps=1e-05, momentum=0.1, affine=True, track_running_stats=True)\n",
       "    )\n",
       "  )\n",
       "  (layer3): Sequential(\n",
       "    (0): BasicBlock(\n",
       "      (conv1): Conv2d(128, 256, kernel_size=(3, 3), stride=(2, 2), padding=(1, 1), bias=False)\n",
       "      (bn1): BatchNorm2d(256, eps=1e-05, momentum=0.1, affine=True, track_running_stats=True)\n",
       "      (relu): ReLU(inplace=True)\n",
       "      (conv2): Conv2d(256, 256, kernel_size=(3, 3), stride=(1, 1), padding=(1, 1), bias=False)\n",
       "      (bn2): BatchNorm2d(256, eps=1e-05, momentum=0.1, affine=True, track_running_stats=True)\n",
       "      (downsample): Sequential(\n",
       "        (0): Conv2d(128, 256, kernel_size=(1, 1), stride=(2, 2), bias=False)\n",
       "        (1): BatchNorm2d(256, eps=1e-05, momentum=0.1, affine=True, track_running_stats=True)\n",
       "      )\n",
       "    )\n",
       "    (1): BasicBlock(\n",
       "      (conv1): Conv2d(256, 256, kernel_size=(3, 3), stride=(1, 1), padding=(1, 1), bias=False)\n",
       "      (bn1): BatchNorm2d(256, eps=1e-05, momentum=0.1, affine=True, track_running_stats=True)\n",
       "      (relu): ReLU(inplace=True)\n",
       "      (conv2): Conv2d(256, 256, kernel_size=(3, 3), stride=(1, 1), padding=(1, 1), bias=False)\n",
       "      (bn2): BatchNorm2d(256, eps=1e-05, momentum=0.1, affine=True, track_running_stats=True)\n",
       "    )\n",
       "  )\n",
       "  (layer4): Sequential(\n",
       "    (0): BasicBlock(\n",
       "      (conv1): Conv2d(256, 512, kernel_size=(3, 3), stride=(2, 2), padding=(1, 1), bias=False)\n",
       "      (bn1): BatchNorm2d(512, eps=1e-05, momentum=0.1, affine=True, track_running_stats=True)\n",
       "      (relu): ReLU(inplace=True)\n",
       "      (conv2): Conv2d(512, 512, kernel_size=(3, 3), stride=(1, 1), padding=(1, 1), bias=False)\n",
       "      (bn2): BatchNorm2d(512, eps=1e-05, momentum=0.1, affine=True, track_running_stats=True)\n",
       "      (downsample): Sequential(\n",
       "        (0): Conv2d(256, 512, kernel_size=(1, 1), stride=(2, 2), bias=False)\n",
       "        (1): BatchNorm2d(512, eps=1e-05, momentum=0.1, affine=True, track_running_stats=True)\n",
       "      )\n",
       "    )\n",
       "    (1): BasicBlock(\n",
       "      (conv1): Conv2d(512, 512, kernel_size=(3, 3), stride=(1, 1), padding=(1, 1), bias=False)\n",
       "      (bn1): BatchNorm2d(512, eps=1e-05, momentum=0.1, affine=True, track_running_stats=True)\n",
       "      (relu): ReLU(inplace=True)\n",
       "      (conv2): Conv2d(512, 512, kernel_size=(3, 3), stride=(1, 1), padding=(1, 1), bias=False)\n",
       "      (bn2): BatchNorm2d(512, eps=1e-05, momentum=0.1, affine=True, track_running_stats=True)\n",
       "    )\n",
       "  )\n",
       "  (avgpool): AdaptiveAvgPool2d(output_size=(1, 1))\n",
       "  (fc): Linear(in_features=512, out_features=125, bias=True)\n",
       ")"
      ]
     },
     "execution_count": 43,
     "metadata": {},
     "output_type": "execute_result"
    }
   ],
   "source": [
    "resnet18.to(DEVICE)"
   ]
  },
  {
   "cell_type": "code",
   "execution_count": null,
   "metadata": {
    "colab": {
     "base_uri": "https://localhost:8080/"
    },
    "id": "mL0MAEXKYytT",
    "outputId": "b85cef2a-d75b-43cf-e3f5-7f9fefb78d92"
   },
   "outputs": [
    {
     "name": "stderr",
     "output_type": "stream",
     "text": [
      "\r",
      "epoch:   0%|          | 0/15 [00:00<?, ?it/s]"
     ]
    },
    {
     "name": "stdout",
     "output_type": "stream",
     "text": [
      "loss 4.646108715333946\n"
     ]
    },
    {
     "name": "stderr",
     "output_type": "stream",
     "text": [
      "epoch:   7%|▋         | 1/15 [03:01<42:21, 181.54s/it]"
     ]
    },
    {
     "name": "stdout",
     "output_type": "stream",
     "text": [
      "\n",
      "Epoch 001 train_loss: 4.6461   val_loss 4.5288 train_acc 0.0379 val_acc 0.0485\n",
      "loss 4.521971481325434\n"
     ]
    },
    {
     "name": "stderr",
     "output_type": "stream",
     "text": [
      "epoch:  13%|█▎        | 2/15 [06:02<39:14, 181.13s/it]"
     ]
    },
    {
     "name": "stdout",
     "output_type": "stream",
     "text": [
      "\n",
      "Epoch 002 train_loss: 4.5220   val_loss 4.4195 train_acc 0.0404 val_acc 0.0478\n",
      "loss 4.334939863286549\n"
     ]
    },
    {
     "name": "stderr",
     "output_type": "stream",
     "text": [
      "epoch:  20%|██        | 3/15 [09:02<36:08, 180.68s/it]"
     ]
    },
    {
     "name": "stdout",
     "output_type": "stream",
     "text": [
      "\n",
      "Epoch 003 train_loss: 4.3349   val_loss 4.3706 train_acc 0.0608 val_acc 0.0574\n",
      "loss 4.134786475026771\n"
     ]
    },
    {
     "name": "stderr",
     "output_type": "stream",
     "text": [
      "epoch:  27%|██▋       | 4/15 [12:02<33:05, 180.49s/it]"
     ]
    },
    {
     "name": "stdout",
     "output_type": "stream",
     "text": [
      "\n",
      "Epoch 004 train_loss: 4.1348   val_loss 4.1240 train_acc 0.0829 val_acc 0.0882\n",
      "loss 4.032835215082974\n"
     ]
    },
    {
     "name": "stderr",
     "output_type": "stream",
     "text": [
      "epoch:  33%|███▎      | 5/15 [15:03<30:07, 180.76s/it]"
     ]
    },
    {
     "name": "stdout",
     "output_type": "stream",
     "text": [
      "\n",
      "Epoch 005 train_loss: 4.0328   val_loss 4.1038 train_acc 0.1013 val_acc 0.0889\n",
      "loss 3.933888821367345\n"
     ]
    },
    {
     "name": "stderr",
     "output_type": "stream",
     "text": [
      "epoch:  40%|████      | 6/15 [18:04<27:06, 180.67s/it]"
     ]
    },
    {
     "name": "stdout",
     "output_type": "stream",
     "text": [
      "\n",
      "Epoch 006 train_loss: 3.9339   val_loss 3.9980 train_acc 0.1178 val_acc 0.1091\n",
      "loss 3.765539076304982\n"
     ]
    },
    {
     "name": "stderr",
     "output_type": "stream",
     "text": [
      "epoch:  47%|████▋     | 7/15 [21:04<24:02, 180.34s/it]"
     ]
    },
    {
     "name": "stdout",
     "output_type": "stream",
     "text": [
      "\n",
      "Epoch 007 train_loss: 3.7655   val_loss 3.9145 train_acc 0.1471 val_acc 0.1217\n",
      "loss 3.6881755022435305\n"
     ]
    },
    {
     "name": "stderr",
     "output_type": "stream",
     "text": [
      "epoch:  53%|█████▎    | 8/15 [24:05<21:04, 180.65s/it]"
     ]
    },
    {
     "name": "stdout",
     "output_type": "stream",
     "text": [
      "\n",
      "Epoch 008 train_loss: 3.6882   val_loss 3.8488 train_acc 0.1512 val_acc 0.1313\n",
      "loss 3.6114893630666973\n"
     ]
    },
    {
     "name": "stderr",
     "output_type": "stream",
     "text": [
      "epoch:  60%|██████    | 9/15 [27:04<18:01, 180.20s/it]"
     ]
    },
    {
     "name": "stdout",
     "output_type": "stream",
     "text": [
      "\n",
      "Epoch 009 train_loss: 3.6115   val_loss 3.8086 train_acc 0.1659 val_acc 0.1384\n",
      "loss 3.470608288298805\n"
     ]
    },
    {
     "name": "stderr",
     "output_type": "stream",
     "text": [
      "epoch:  67%|██████▋   | 10/15 [30:05<15:01, 180.29s/it]"
     ]
    },
    {
     "name": "stdout",
     "output_type": "stream",
     "text": [
      "\n",
      "Epoch 010 train_loss: 3.4706   val_loss 3.7902 train_acc 0.1865 val_acc 0.1483\n",
      "loss 3.401814281730016\n"
     ]
    },
    {
     "name": "stderr",
     "output_type": "stream",
     "text": [
      "epoch:  73%|███████▎  | 11/15 [33:05<12:01, 180.30s/it]"
     ]
    },
    {
     "name": "stdout",
     "output_type": "stream",
     "text": [
      "\n",
      "Epoch 011 train_loss: 3.4018   val_loss 3.7726 train_acc 0.1954 val_acc 0.1505\n",
      "loss 3.342662191163907\n"
     ]
    },
    {
     "name": "stderr",
     "output_type": "stream",
     "text": [
      "epoch:  80%|████████  | 12/15 [36:05<09:00, 180.14s/it]"
     ]
    },
    {
     "name": "stdout",
     "output_type": "stream",
     "text": [
      "\n",
      "Epoch 012 train_loss: 3.3427   val_loss 3.7282 train_acc 0.2106 val_acc 0.1584\n",
      "loss 3.235935398467177\n"
     ]
    },
    {
     "name": "stderr",
     "output_type": "stream",
     "text": [
      "epoch:  87%|████████▋ | 13/15 [39:03<05:59, 179.61s/it]"
     ]
    },
    {
     "name": "stdout",
     "output_type": "stream",
     "text": [
      "\n",
      "Epoch 013 train_loss: 3.2359   val_loss 3.6908 train_acc 0.2283 val_acc 0.1687\n",
      "loss 3.1793057047603304\n"
     ]
    },
    {
     "name": "stderr",
     "output_type": "stream",
     "text": [
      "epoch:  93%|█████████▎| 14/15 [42:04<02:59, 179.94s/it]"
     ]
    },
    {
     "name": "stdout",
     "output_type": "stream",
     "text": [
      "\n",
      "Epoch 014 train_loss: 3.1793   val_loss 3.6803 train_acc 0.2406 val_acc 0.1712\n",
      "loss 3.1384174958249504\n"
     ]
    },
    {
     "name": "stderr",
     "output_type": "stream",
     "text": [
      "epoch: 100%|██████████| 15/15 [45:04<00:00, 180.29s/it]"
     ]
    },
    {
     "name": "stdout",
     "output_type": "stream",
     "text": [
      "\n",
      "Epoch 015 train_loss: 3.1384   val_loss 3.6684 train_acc 0.2463 val_acc 0.1744\n"
     ]
    },
    {
     "name": "stderr",
     "output_type": "stream",
     "text": [
      "\n"
     ]
    }
   ],
   "source": [
    "history = train(train_dataset, val_dataset, model=resnet18, epochs=15, batch_size=64, scheduler=exp_lr_scheduler)"
   ]
  },
  {
   "cell_type": "code",
   "execution_count": null,
   "metadata": {
    "id": "3F4-IF2DqE9K"
   },
   "outputs": [],
   "source": [
    "loss, acc, val_loss, val_acc = zip(*history)\n",
    "val_acc = [val_acc[i].cpu().numpy() for i in range(len(val_acc))]"
   ]
  },
  {
   "cell_type": "code",
   "execution_count": null,
   "metadata": {
    "colab": {
     "base_uri": "https://localhost:8080/",
     "height": 551
    },
    "id": "l9apSSYKqE1s",
    "outputId": "e5c40eab-bd9e-4796-b523-1821d3f495cc"
   },
   "outputs": [
    {
     "data": {
      "image/png": "[encoded data removed]",
      "text/plain": [
       "<Figure size 1080x648 with 1 Axes>"
      ]
     },
     "metadata": {
      "needs_background": "light"
     },
     "output_type": "display_data"
    }
   ],
   "source": [
    "plt.figure(figsize=(15, 9))\n",
    "plt.plot(acc, label=\"train_acc\")\n",
    "plt.plot(val_acc, label=\"val_acc\")\n",
    "plt.legend(loc='best')\n",
    "plt.xlabel(\"epochs\")\n",
    "plt.ylabel(\"loss\")\n",
    "plt.show()"
   ]
  },
  {
   "cell_type": "code",
   "execution_count": null,
   "metadata": {
    "colab": {
     "base_uri": "https://localhost:8080/",
     "height": 551
    },
    "id": "Dg3tsGjxYp2I",
    "outputId": "e4ff5053-58f5-4ca4-b41e-9dd122c37667"
   },
   "outputs": [
    {
     "data": {
      "image/png": "[encoded data removed]",
      "text/plain": [
       "<Figure size 1080x648 with 1 Axes>"
      ]
     },
     "metadata": {
      "needs_background": "light"
     },
     "output_type": "display_data"
    }
   ],
   "source": [
    "plt.figure(figsize=(15, 9))\n",
    "plt.plot(loss, label=\"train_loss\")\n",
    "plt.plot(val_loss, label=\"val_loss\")\n",
    "plt.legend(loc='best')\n",
    "plt.xlabel(\"epochs\")\n",
    "plt.ylabel(\"loss\")\n",
    "plt.show()"
   ]
  },
  {
   "cell_type": "code",
   "execution_count": null,
   "metadata": {
    "id": "tj-1eA92qXen"
   },
   "outputs": [],
   "source": []
  },
  {
   "cell_type": "markdown",
   "metadata": {
    "id": "kdIMvwOKqYZM"
   },
   "source": [
    "# ResNet(pretrained=True)"
   ]
  },
  {
   "cell_type": "code",
   "execution_count": null,
   "metadata": {
    "id": "y0gS_y8YqXTV"
   },
   "outputs": [],
   "source": [
    "resnet18_tl = models.resnet18(pretrained=True)\n",
    "in_features = 512 #количество features поступающих на вход классифатору\n",
    "resnet18_tl.fc = nn.Sequential(\n",
    "    nn.Linear(in_features, 256),\n",
    "    nn.ReLU(),\n",
    "    nn.Linear(256, n_classes)\n",
    "    )\n",
    "\n",
    "optimizer = torch.optim.Adam(resnet18_tl.parameters(), lr = 1e-4)\n",
    "criterion = nn.CrossEntropyLoss()\n",
    "\n",
    "exp_lr_scheduler = lr_scheduler.StepLR(optimizer, step_size=7, gamma=1)"
   ]
  },
  {
   "cell_type": "code",
   "execution_count": null,
   "metadata": {
    "colab": {
     "base_uri": "https://localhost:8080/"
    },
    "id": "sASzBs9crJU_",
    "outputId": "3025105e-7a3d-4610-ee49-faa6c789a6cc"
   },
   "outputs": [
    {
     "data": {
      "text/plain": [
       "ResNet(\n",
       "  (conv1): Conv2d(3, 64, kernel_size=(7, 7), stride=(2, 2), padding=(3, 3), bias=False)\n",
       "  (bn1): BatchNorm2d(64, eps=1e-05, momentum=0.1, affine=True, track_running_stats=True)\n",
       "  (relu): ReLU(inplace=True)\n",
       "  (maxpool): MaxPool2d(kernel_size=3, stride=2, padding=1, dilation=1, ceil_mode=False)\n",
       "  (layer1): Sequential(\n",
       "    (0): BasicBlock(\n",
       "      (conv1): Conv2d(64, 64, kernel_size=(3, 3), stride=(1, 1), padding=(1, 1), bias=False)\n",
       "      (bn1): BatchNorm2d(64, eps=1e-05, momentum=0.1, affine=True, track_running_stats=True)\n",
       "      (relu): ReLU(inplace=True)\n",
       "      (conv2): Conv2d(64, 64, kernel_size=(3, 3), stride=(1, 1), padding=(1, 1), bias=False)\n",
       "      (bn2): BatchNorm2d(64, eps=1e-05, momentum=0.1, affine=True, track_running_stats=True)\n",
       "    )\n",
       "    (1): BasicBlock(\n",
       "      (conv1): Conv2d(64, 64, kernel_size=(3, 3), stride=(1, 1), padding=(1, 1), bias=False)\n",
       "      (bn1): BatchNorm2d(64, eps=1e-05, momentum=0.1, affine=True, track_running_stats=True)\n",
       "      (relu): ReLU(inplace=True)\n",
       "      (conv2): Conv2d(64, 64, kernel_size=(3, 3), stride=(1, 1), padding=(1, 1), bias=False)\n",
       "      (bn2): BatchNorm2d(64, eps=1e-05, momentum=0.1, affine=True, track_running_stats=True)\n",
       "    )\n",
       "  )\n",
       "  (layer2): Sequential(\n",
       "    (0): BasicBlock(\n",
       "      (conv1): Conv2d(64, 128, kernel_size=(3, 3), stride=(2, 2), padding=(1, 1), bias=False)\n",
       "      (bn1): BatchNorm2d(128, eps=1e-05, momentum=0.1, affine=True, track_running_stats=True)\n",
       "      (relu): ReLU(inplace=True)\n",
       "      (conv2): Conv2d(128, 128, kernel_size=(3, 3), stride=(1, 1), padding=(1, 1), bias=False)\n",
       "      (bn2): BatchNorm2d(128, eps=1e-05, momentum=0.1, affine=True, track_running_stats=True)\n",
       "      (downsample): Sequential(\n",
       "        (0): Conv2d(64, 128, kernel_size=(1, 1), stride=(2, 2), bias=False)\n",
       "        (1): BatchNorm2d(128, eps=1e-05, momentum=0.1, affine=True, track_running_stats=True)\n",
       "      )\n",
       "    )\n",
       "    (1): BasicBlock(\n",
       "      (conv1): Conv2d(128, 128, kernel_size=(3, 3), stride=(1, 1), padding=(1, 1), bias=False)\n",
       "      (bn1): BatchNorm2d(128, eps=1e-05, momentum=0.1, affine=True, track_running_stats=True)\n",
       "      (relu): ReLU(inplace=True)\n",
       "      (conv2): Conv2d(128, 128, kernel_size=(3, 3), stride=(1, 1), padding=(1, 1), bias=False)\n",
       "      (bn2): BatchNorm2d(128, eps=1e-05, momentum=0.1, affine=True, track_running_stats=True)\n",
       "    )\n",
       "  )\n",
       "  (layer3): Sequential(\n",
       "    (0): BasicBlock(\n",
       "      (conv1): Conv2d(128, 256, kernel_size=(3, 3), stride=(2, 2), padding=(1, 1), bias=False)\n",
       "      (bn1): BatchNorm2d(256, eps=1e-05, momentum=0.1, affine=True, track_running_stats=True)\n",
       "      (relu): ReLU(inplace=True)\n",
       "      (conv2): Conv2d(256, 256, kernel_size=(3, 3), stride=(1, 1), padding=(1, 1), bias=False)\n",
       "      (bn2): BatchNorm2d(256, eps=1e-05, momentum=0.1, affine=True, track_running_stats=True)\n",
       "      (downsample): Sequential(\n",
       "        (0): Conv2d(128, 256, kernel_size=(1, 1), stride=(2, 2), bias=False)\n",
       "        (1): BatchNorm2d(256, eps=1e-05, momentum=0.1, affine=True, track_running_stats=True)\n",
       "      )\n",
       "    )\n",
       "    (1): BasicBlock(\n",
       "      (conv1): Conv2d(256, 256, kernel_size=(3, 3), stride=(1, 1), padding=(1, 1), bias=False)\n",
       "      (bn1): BatchNorm2d(256, eps=1e-05, momentum=0.1, affine=True, track_running_stats=True)\n",
       "      (relu): ReLU(inplace=True)\n",
       "      (conv2): Conv2d(256, 256, kernel_size=(3, 3), stride=(1, 1), padding=(1, 1), bias=False)\n",
       "      (bn2): BatchNorm2d(256, eps=1e-05, momentum=0.1, affine=True, track_running_stats=True)\n",
       "    )\n",
       "  )\n",
       "  (layer4): Sequential(\n",
       "    (0): BasicBlock(\n",
       "      (conv1): Conv2d(256, 512, kernel_size=(3, 3), stride=(2, 2), padding=(1, 1), bias=False)\n",
       "      (bn1): BatchNorm2d(512, eps=1e-05, momentum=0.1, affine=True, track_running_stats=True)\n",
       "      (relu): ReLU(inplace=True)\n",
       "      (conv2): Conv2d(512, 512, kernel_size=(3, 3), stride=(1, 1), padding=(1, 1), bias=False)\n",
       "      (bn2): BatchNorm2d(512, eps=1e-05, momentum=0.1, affine=True, track_running_stats=True)\n",
       "      (downsample): Sequential(\n",
       "        (0): Conv2d(256, 512, kernel_size=(1, 1), stride=(2, 2), bias=False)\n",
       "        (1): BatchNorm2d(512, eps=1e-05, momentum=0.1, affine=True, track_running_stats=True)\n",
       "      )\n",
       "    )\n",
       "    (1): BasicBlock(\n",
       "      (conv1): Conv2d(512, 512, kernel_size=(3, 3), stride=(1, 1), padding=(1, 1), bias=False)\n",
       "      (bn1): BatchNorm2d(512, eps=1e-05, momentum=0.1, affine=True, track_running_stats=True)\n",
       "      (relu): ReLU(inplace=True)\n",
       "      (conv2): Conv2d(512, 512, kernel_size=(3, 3), stride=(1, 1), padding=(1, 1), bias=False)\n",
       "      (bn2): BatchNorm2d(512, eps=1e-05, momentum=0.1, affine=True, track_running_stats=True)\n",
       "    )\n",
       "  )\n",
       "  (avgpool): AdaptiveAvgPool2d(output_size=(1, 1))\n",
       "  (fc): Sequential(\n",
       "    (0): Linear(in_features=512, out_features=256, bias=True)\n",
       "    (1): ReLU()\n",
       "    (2): Linear(in_features=256, out_features=125, bias=True)\n",
       "  )\n",
       ")"
      ]
     },
     "execution_count": 54,
     "metadata": {},
     "output_type": "execute_result"
    }
   ],
   "source": [
    "resnet18_tl.to(DEVICE)"
   ]
  },
  {
   "cell_type": "code",
   "execution_count": null,
   "metadata": {
    "colab": {
     "base_uri": "https://localhost:8080/"
    },
    "id": "hDQYAReDrJMV",
    "outputId": "5a558f0a-2626-493b-c413-7f28f06b6e57"
   },
   "outputs": [
    {
     "name": "stderr",
     "output_type": "stream",
     "text": [
      "\r",
      "epoch:   0%|          | 0/5 [00:00<?, ?it/s]"
     ]
    },
    {
     "name": "stdout",
     "output_type": "stream",
     "text": [
      "loss 4.057242027262042\n"
     ]
    },
    {
     "name": "stderr",
     "output_type": "stream",
     "text": [
      "epoch:  20%|██        | 1/5 [03:07<12:30, 187.53s/it]"
     ]
    },
    {
     "name": "stdout",
     "output_type": "stream",
     "text": [
      "\n",
      "Epoch 001 train_loss: 4.0572   val_loss 4.0077 train_acc 0.0903 val_acc 0.1054\n",
      "loss 4.810917595942352\n"
     ]
    },
    {
     "name": "stderr",
     "output_type": "stream",
     "text": [
      "epoch:  40%|████      | 2/5 [06:10<09:13, 184.55s/it]"
     ]
    },
    {
     "name": "stdout",
     "output_type": "stream",
     "text": [
      "\n",
      "Epoch 002 train_loss: 4.8109   val_loss 4.7091 train_acc 0.0142 val_acc 0.0214\n",
      "loss 4.651688655693843\n"
     ]
    },
    {
     "name": "stderr",
     "output_type": "stream",
     "text": [
      "epoch:  60%|██████    | 3/5 [09:14<06:08, 184.42s/it]"
     ]
    },
    {
     "name": "stdout",
     "output_type": "stream",
     "text": [
      "\n",
      "Epoch 003 train_loss: 4.6517   val_loss 4.6006 train_acc 0.0230 val_acc 0.0261\n",
      "loss 4.514870159143845\n"
     ]
    },
    {
     "name": "stderr",
     "output_type": "stream",
     "text": [
      "epoch:  80%|████████  | 4/5 [12:16<03:03, 183.74s/it]"
     ]
    },
    {
     "name": "stdout",
     "output_type": "stream",
     "text": [
      "\n",
      "Epoch 004 train_loss: 4.5149   val_loss 4.4586 train_acc 0.0379 val_acc 0.0470\n",
      "loss 4.370701396295967\n"
     ]
    },
    {
     "name": "stderr",
     "output_type": "stream",
     "text": [
      "epoch: 100%|██████████| 5/5 [15:22<00:00, 184.59s/it]"
     ]
    },
    {
     "name": "stdout",
     "output_type": "stream",
     "text": [
      "\n",
      "Epoch 005 train_loss: 4.3707   val_loss 4.3050 train_acc 0.0507 val_acc 0.0562\n"
     ]
    },
    {
     "name": "stderr",
     "output_type": "stream",
     "text": [
      "\n"
     ]
    }
   ],
   "source": [
    "history = train(train_dataset, val_dataset, model=resnet18_tl, epochs=5, batch_size=64, scheduler=exp_lr_scheduler)"
   ]
  },
  {
   "cell_type": "code",
   "execution_count": null,
   "metadata": {
    "id": "8MakuG-qrJFs"
   },
   "outputs": [],
   "source": [
    "loss, acc, val_loss, val_acc = zip(*history)\n",
    "val_acc = [val_acc[i].cpu().numpy() for i in range(len(val_acc))]"
   ]
  },
  {
   "cell_type": "code",
   "execution_count": null,
   "metadata": {
    "colab": {
     "base_uri": "https://localhost:8080/",
     "height": 551
    },
    "id": "xUdzzteYrI-q",
    "outputId": "dbfced2c-0924-44b4-ff20-7b5ace3f0f91"
   },
   "outputs": [
    {
     "data": {
      "image/png": "[encoded data removed]",
      "text/plain": [
       "<Figure size 1080x648 with 1 Axes>"
      ]
     },
     "metadata": {
      "needs_background": "light"
     },
     "output_type": "display_data"
    }
   ],
   "source": [
    "plt.figure(figsize=(15, 9))\n",
    "plt.plot(acc, label=\"train_acc\")\n",
    "plt.plot(val_acc, label=\"val_acc\")\n",
    "plt.legend(loc='best')\n",
    "plt.xlabel(\"epochs\")\n",
    "plt.ylabel(\"loss\")\n",
    "plt.show()"
   ]
  },
  {
   "cell_type": "code",
   "execution_count": null,
   "metadata": {
    "colab": {
     "base_uri": "https://localhost:8080/",
     "height": 551
    },
    "id": "U9xxNSlcqXLz",
    "outputId": "7bc26816-939e-4135-f921-9502214c6c8f"
   },
   "outputs": [
    {
     "data": {
      "image/png": "[encoded data removed]",
      "text/plain": [
       "<Figure size 1080x648 with 1 Axes>"
      ]
     },
     "metadata": {
      "needs_background": "light"
     },
     "output_type": "display_data"
    }
   ],
   "source": [
    "plt.figure(figsize=(15, 9))\n",
    "plt.plot(loss, label=\"train_loss\")\n",
    "plt.plot(val_loss, label=\"val_loss\")\n",
    "plt.legend(loc='best')\n",
    "plt.xlabel(\"epochs\")\n",
    "plt.ylabel(\"loss\")\n",
    "plt.show()"
   ]
  },
  {
   "cell_type": "code",
   "execution_count": null,
   "metadata": {
    "id": "850FXEtmzWjd"
   },
   "outputs": [],
   "source": []
  },
  {
   "cell_type": "markdown",
   "metadata": {
    "id": "_oM2GusGzXTg"
   },
   "source": [
    "# ResNet18 transfer learning"
   ]
  },
  {
   "cell_type": "code",
   "execution_count": null,
   "metadata": {
    "id": "s3CWiglQvvwp"
   },
   "outputs": [],
   "source": [
    "model_conv = models.resnet18(pretrained=True)\n",
    "for param in model_conv.parameters():\n",
    "    param.requires_grad = False\n",
    "\n",
    "num_ftrs = model_conv.fc.in_features\n",
    "model_conv.fc = nn.Linear(num_ftrs, n_classes)\n",
    "\n",
    "model_conv = model_conv.to(DEVICE)\n",
    "\n",
    "criterion = nn.CrossEntropyLoss()\n",
    "\n",
    "optimizer = torch.optim.SGD(model_conv.fc.parameters(), lr=0.001, momentum=0.9)\n",
    "\n",
    "exp_lr_scheduler = lr_scheduler.StepLR(optimizer, step_size=7, gamma=0.1)"
   ]
  },
  {
   "cell_type": "code",
   "execution_count": null,
   "metadata": {
    "colab": {
     "base_uri": "https://localhost:8080/"
    },
    "id": "abh_lRKXvvge",
    "outputId": "e3ad9dc8-56f2-49f3-85a7-45b4c6d9b161"
   },
   "outputs": [
    {
     "name": "stderr",
     "output_type": "stream",
     "text": [
      "\r",
      "epoch:   0%|          | 0/5 [00:00<?, ?it/s]"
     ]
    },
    {
     "name": "stdout",
     "output_type": "stream",
     "text": [
      "loss 3.9058601805920845\n"
     ]
    },
    {
     "name": "stderr",
     "output_type": "stream",
     "text": [
      "epoch:  20%|██        | 1/5 [02:25<09:40, 145.24s/it]"
     ]
    },
    {
     "name": "stdout",
     "output_type": "stream",
     "text": [
      "\n",
      "Epoch 001 train_loss: 3.9059   val_loss 3.0178 train_acc 0.1768 val_acc 0.3384\n",
      "loss 2.66348273239853\n"
     ]
    },
    {
     "name": "stderr",
     "output_type": "stream",
     "text": [
      "epoch:  40%|████      | 2/5 [04:40<06:58, 139.56s/it]"
     ]
    },
    {
     "name": "stdout",
     "output_type": "stream",
     "text": [
      "\n",
      "Epoch 002 train_loss: 2.6635   val_loss 2.4831 train_acc 0.4130 val_acc 0.4214\n",
      "loss 2.259453900469789\n"
     ]
    },
    {
     "name": "stderr",
     "output_type": "stream",
     "text": [
      "epoch:  60%|██████    | 3/5 [06:55<04:34, 137.35s/it]"
     ]
    },
    {
     "name": "stdout",
     "output_type": "stream",
     "text": [
      "\n",
      "Epoch 003 train_loss: 2.2595   val_loss 2.2946 train_acc 0.4752 val_acc 0.4468\n",
      "loss 2.017752988339058\n"
     ]
    },
    {
     "name": "stderr",
     "output_type": "stream",
     "text": [
      "epoch:  80%|████████  | 4/5 [09:09<02:16, 136.12s/it]"
     ]
    },
    {
     "name": "stdout",
     "output_type": "stream",
     "text": [
      "\n",
      "Epoch 004 train_loss: 2.0178   val_loss 2.1932 train_acc 0.5226 val_acc 0.4677\n",
      "loss 1.9327873542729892\n"
     ]
    },
    {
     "name": "stderr",
     "output_type": "stream",
     "text": [
      "epoch: 100%|██████████| 5/5 [11:21<00:00, 136.38s/it]"
     ]
    },
    {
     "name": "stdout",
     "output_type": "stream",
     "text": [
      "\n",
      "Epoch 005 train_loss: 1.9328   val_loss 2.1599 train_acc 0.5381 val_acc 0.4729\n"
     ]
    },
    {
     "name": "stderr",
     "output_type": "stream",
     "text": [
      "\n"
     ]
    }
   ],
   "source": [
    "history = train(train_dataset, val_dataset, model=model_conv, epochs=5, batch_size=64, scheduler=exp_lr_scheduler)"
   ]
  },
  {
   "cell_type": "code",
   "execution_count": null,
   "metadata": {
    "id": "VV_JTJorwfPZ"
   },
   "outputs": [],
   "source": []
  },
  {
   "cell_type": "code",
   "execution_count": null,
   "metadata": {
    "id": "RNEcWx9AwtKe"
   },
   "outputs": [],
   "source": [
    "loss, acc, val_loss, val_acc = zip(*history)\n",
    "val_acc = [val_acc[i].cpu().numpy() for i in range(len(val_acc))]"
   ]
  },
  {
   "cell_type": "code",
   "execution_count": null,
   "metadata": {
    "colab": {
     "base_uri": "https://localhost:8080/",
     "height": 551
    },
    "id": "BumSqsxSw1_r",
    "outputId": "54420798-1b35-4359-e17d-bc466bc98eee"
   },
   "outputs": [
    {
     "data": {
      "image/png": "[encoded data removed]",
      "text/plain": [
       "<Figure size 1080x648 with 1 Axes>"
      ]
     },
     "metadata": {
      "needs_background": "light"
     },
     "output_type": "display_data"
    }
   ],
   "source": [
    "plt.figure(figsize=(15, 9))\n",
    "plt.plot(acc, label=\"train_acc\")\n",
    "plt.plot(val_acc, label=\"val_acc\")\n",
    "plt.legend(loc='best')\n",
    "plt.xlabel(\"epochs\")\n",
    "plt.ylabel(\"loss\")\n",
    "plt.show()"
   ]
  },
  {
   "cell_type": "code",
   "execution_count": null,
   "metadata": {
    "colab": {
     "base_uri": "https://localhost:8080/",
     "height": 554
    },
    "id": "Ry0o7yf8w6lj",
    "outputId": "4d743169-02ce-420a-99a7-cfa2e78b10ca"
   },
   "outputs": [
    {
     "data": {
      "image/png": "[encoded data removed]",
      "text/plain": [
       "<Figure size 1080x648 with 1 Axes>"
      ]
     },
     "metadata": {
      "needs_background": "light"
     },
     "output_type": "display_data"
    }
   ],
   "source": [
    "plt.figure(figsize=(15, 9))\n",
    "plt.plot(loss, label=\"train_loss\")\n",
    "plt.plot(val_loss, label=\"val_loss\")\n",
    "plt.legend(loc='best')\n",
    "plt.xlabel(\"epochs\")\n",
    "plt.ylabel(\"loss\")\n",
    "plt.show()"
   ]
  },
  {
   "cell_type": "code",
   "execution_count": null,
   "metadata": {
    "id": "vljDvRRazfAn"
   },
   "outputs": [],
   "source": []
  },
  {
   "cell_type": "markdown",
   "metadata": {
    "id": "rQO4xNPWzfUC"
   },
   "source": [
    "# ResNeXT transfer learning"
   ]
  },
  {
   "cell_type": "code",
   "execution_count": null,
   "metadata": {
    "id": "GGougvi2wxnB"
   },
   "outputs": [],
   "source": [
    "resnext50 = models.resnext50_32x4d(pretrained=True)\n",
    "for param in resnext50.parameters():\n",
    "    param.requires_grad = False\n",
    "\n",
    "num_ftrs = resnext50.fc.in_features\n",
    "resnext50.fc = nn.Linear(num_ftrs, n_classes)\n",
    "\n",
    "criterion = nn.CrossEntropyLoss()\n",
    "\n",
    "optimizer = torch.optim.SGD(resnext50.fc.parameters(), lr=0.001, momentum=0.9)\n",
    "\n",
    "exp_lr_scheduler = lr_scheduler.StepLR(optimizer, step_size=7, gamma=0.1)"
   ]
  },
  {
   "cell_type": "code",
   "execution_count": null,
   "metadata": {
    "colab": {
     "base_uri": "https://localhost:8080/"
    },
    "id": "DvGoPsoKwwvf",
    "outputId": "fe518ceb-a8f4-4211-90bf-69a813f32ad2"
   },
   "outputs": [
    {
     "data": {
      "text/plain": [
       "ResNet(\n",
       "  (conv1): Conv2d(3, 64, kernel_size=(7, 7), stride=(2, 2), padding=(3, 3), bias=False)\n",
       "  (bn1): BatchNorm2d(64, eps=1e-05, momentum=0.1, affine=True, track_running_stats=True)\n",
       "  (relu): ReLU(inplace=True)\n",
       "  (maxpool): MaxPool2d(kernel_size=3, stride=2, padding=1, dilation=1, ceil_mode=False)\n",
       "  (layer1): Sequential(\n",
       "    (0): Bottleneck(\n",
       "      (conv1): Conv2d(64, 128, kernel_size=(1, 1), stride=(1, 1), bias=False)\n",
       "      (bn1): BatchNorm2d(128, eps=1e-05, momentum=0.1, affine=True, track_running_stats=True)\n",
       "      (conv2): Conv2d(128, 128, kernel_size=(3, 3), stride=(1, 1), padding=(1, 1), groups=32, bias=False)\n",
       "      (bn2): BatchNorm2d(128, eps=1e-05, momentum=0.1, affine=True, track_running_stats=True)\n",
       "      (conv3): Conv2d(128, 256, kernel_size=(1, 1), stride=(1, 1), bias=False)\n",
       "      (bn3): BatchNorm2d(256, eps=1e-05, momentum=0.1, affine=True, track_running_stats=True)\n",
       "      (relu): ReLU(inplace=True)\n",
       "      (downsample): Sequential(\n",
       "        (0): Conv2d(64, 256, kernel_size=(1, 1), stride=(1, 1), bias=False)\n",
       "        (1): BatchNorm2d(256, eps=1e-05, momentum=0.1, affine=True, track_running_stats=True)\n",
       "      )\n",
       "    )\n",
       "    (1): Bottleneck(\n",
       "      (conv1): Conv2d(256, 128, kernel_size=(1, 1), stride=(1, 1), bias=False)\n",
       "      (bn1): BatchNorm2d(128, eps=1e-05, momentum=0.1, affine=True, track_running_stats=True)\n",
       "      (conv2): Conv2d(128, 128, kernel_size=(3, 3), stride=(1, 1), padding=(1, 1), groups=32, bias=False)\n",
       "      (bn2): BatchNorm2d(128, eps=1e-05, momentum=0.1, affine=True, track_running_stats=True)\n",
       "      (conv3): Conv2d(128, 256, kernel_size=(1, 1), stride=(1, 1), bias=False)\n",
       "      (bn3): BatchNorm2d(256, eps=1e-05, momentum=0.1, affine=True, track_running_stats=True)\n",
       "      (relu): ReLU(inplace=True)\n",
       "    )\n",
       "    (2): Bottleneck(\n",
       "      (conv1): Conv2d(256, 128, kernel_size=(1, 1), stride=(1, 1), bias=False)\n",
       "      (bn1): BatchNorm2d(128, eps=1e-05, momentum=0.1, affine=True, track_running_stats=True)\n",
       "      (conv2): Conv2d(128, 128, kernel_size=(3, 3), stride=(1, 1), padding=(1, 1), groups=32, bias=False)\n",
       "      (bn2): BatchNorm2d(128, eps=1e-05, momentum=0.1, affine=True, track_running_stats=True)\n",
       "      (conv3): Conv2d(128, 256, kernel_size=(1, 1), stride=(1, 1), bias=False)\n",
       "      (bn3): BatchNorm2d(256, eps=1e-05, momentum=0.1, affine=True, track_running_stats=True)\n",
       "      (relu): ReLU(inplace=True)\n",
       "    )\n",
       "  )\n",
       "  (layer2): Sequential(\n",
       "    (0): Bottleneck(\n",
       "      (conv1): Conv2d(256, 256, kernel_size=(1, 1), stride=(1, 1), bias=False)\n",
       "      (bn1): BatchNorm2d(256, eps=1e-05, momentum=0.1, affine=True, track_running_stats=True)\n",
       "      (conv2): Conv2d(256, 256, kernel_size=(3, 3), stride=(2, 2), padding=(1, 1), groups=32, bias=False)\n",
       "      (bn2): BatchNorm2d(256, eps=1e-05, momentum=0.1, affine=True, track_running_stats=True)\n",
       "      (conv3): Conv2d(256, 512, kernel_size=(1, 1), stride=(1, 1), bias=False)\n",
       "      (bn3): BatchNorm2d(512, eps=1e-05, momentum=0.1, affine=True, track_running_stats=True)\n",
       "      (relu): ReLU(inplace=True)\n",
       "      (downsample): Sequential(\n",
       "        (0): Conv2d(256, 512, kernel_size=(1, 1), stride=(2, 2), bias=False)\n",
       "        (1): BatchNorm2d(512, eps=1e-05, momentum=0.1, affine=True, track_running_stats=True)\n",
       "      )\n",
       "    )\n",
       "    (1): Bottleneck(\n",
       "      (conv1): Conv2d(512, 256, kernel_size=(1, 1), stride=(1, 1), bias=False)\n",
       "      (bn1): BatchNorm2d(256, eps=1e-05, momentum=0.1, affine=True, track_running_stats=True)\n",
       "      (conv2): Conv2d(256, 256, kernel_size=(3, 3), stride=(1, 1), padding=(1, 1), groups=32, bias=False)\n",
       "      (bn2): BatchNorm2d(256, eps=1e-05, momentum=0.1, affine=True, track_running_stats=True)\n",
       "      (conv3): Conv2d(256, 512, kernel_size=(1, 1), stride=(1, 1), bias=False)\n",
       "      (bn3): BatchNorm2d(512, eps=1e-05, momentum=0.1, affine=True, track_running_stats=True)\n",
       "      (relu): ReLU(inplace=True)\n",
       "    )\n",
       "    (2): Bottleneck(\n",
       "      (conv1): Conv2d(512, 256, kernel_size=(1, 1), stride=(1, 1), bias=False)\n",
       "      (bn1): BatchNorm2d(256, eps=1e-05, momentum=0.1, affine=True, track_running_stats=True)\n",
       "      (conv2): Conv2d(256, 256, kernel_size=(3, 3), stride=(1, 1), padding=(1, 1), groups=32, bias=False)\n",
       "      (bn2): BatchNorm2d(256, eps=1e-05, momentum=0.1, affine=True, track_running_stats=True)\n",
       "      (conv3): Conv2d(256, 512, kernel_size=(1, 1), stride=(1, 1), bias=False)\n",
       "      (bn3): BatchNorm2d(512, eps=1e-05, momentum=0.1, affine=True, track_running_stats=True)\n",
       "      (relu): ReLU(inplace=True)\n",
       "    )\n",
       "    (3): Bottleneck(\n",
       "      (conv1): Conv2d(512, 256, kernel_size=(1, 1), stride=(1, 1), bias=False)\n",
       "      (bn1): BatchNorm2d(256, eps=1e-05, momentum=0.1, affine=True, track_running_stats=True)\n",
       "      (conv2): Conv2d(256, 256, kernel_size=(3, 3), stride=(1, 1), padding=(1, 1), groups=32, bias=False)\n",
       "      (bn2): BatchNorm2d(256, eps=1e-05, momentum=0.1, affine=True, track_running_stats=True)\n",
       "      (conv3): Conv2d(256, 512, kernel_size=(1, 1), stride=(1, 1), bias=False)\n",
       "      (bn3): BatchNorm2d(512, eps=1e-05, momentum=0.1, affine=True, track_running_stats=True)\n",
       "      (relu): ReLU(inplace=True)\n",
       "    )\n",
       "  )\n",
       "  (layer3): Sequential(\n",
       "    (0): Bottleneck(\n",
       "      (conv1): Conv2d(512, 512, kernel_size=(1, 1), stride=(1, 1), bias=False)\n",
       "      (bn1): BatchNorm2d(512, eps=1e-05, momentum=0.1, affine=True, track_running_stats=True)\n",
       "      (conv2): Conv2d(512, 512, kernel_size=(3, 3), stride=(2, 2), padding=(1, 1), groups=32, bias=False)\n",
       "      (bn2): BatchNorm2d(512, eps=1e-05, momentum=0.1, affine=True, track_running_stats=True)\n",
       "      (conv3): Conv2d(512, 1024, kernel_size=(1, 1), stride=(1, 1), bias=False)\n",
       "      (bn3): BatchNorm2d(1024, eps=1e-05, momentum=0.1, affine=True, track_running_stats=True)\n",
       "      (relu): ReLU(inplace=True)\n",
       "      (downsample): Sequential(\n",
       "        (0): Conv2d(512, 1024, kernel_size=(1, 1), stride=(2, 2), bias=False)\n",
       "        (1): BatchNorm2d(1024, eps=1e-05, momentum=0.1, affine=True, track_running_stats=True)\n",
       "      )\n",
       "    )\n",
       "    (1): Bottleneck(\n",
       "      (conv1): Conv2d(1024, 512, kernel_size=(1, 1), stride=(1, 1), bias=False)\n",
       "      (bn1): BatchNorm2d(512, eps=1e-05, momentum=0.1, affine=True, track_running_stats=True)\n",
       "      (conv2): Conv2d(512, 512, kernel_size=(3, 3), stride=(1, 1), padding=(1, 1), groups=32, bias=False)\n",
       "      (bn2): BatchNorm2d(512, eps=1e-05, momentum=0.1, affine=True, track_running_stats=True)\n",
       "      (conv3): Conv2d(512, 1024, kernel_size=(1, 1), stride=(1, 1), bias=False)\n",
       "      (bn3): BatchNorm2d(1024, eps=1e-05, momentum=0.1, affine=True, track_running_stats=True)\n",
       "      (relu): ReLU(inplace=True)\n",
       "    )\n",
       "    (2): Bottleneck(\n",
       "      (conv1): Conv2d(1024, 512, kernel_size=(1, 1), stride=(1, 1), bias=False)\n",
       "      (bn1): BatchNorm2d(512, eps=1e-05, momentum=0.1, affine=True, track_running_stats=True)\n",
       "      (conv2): Conv2d(512, 512, kernel_size=(3, 3), stride=(1, 1), padding=(1, 1), groups=32, bias=False)\n",
       "      (bn2): BatchNorm2d(512, eps=1e-05, momentum=0.1, affine=True, track_running_stats=True)\n",
       "      (conv3): Conv2d(512, 1024, kernel_size=(1, 1), stride=(1, 1), bias=False)\n",
       "      (bn3): BatchNorm2d(1024, eps=1e-05, momentum=0.1, affine=True, track_running_stats=True)\n",
       "      (relu): ReLU(inplace=True)\n",
       "    )\n",
       "    (3): Bottleneck(\n",
       "      (conv1): Conv2d(1024, 512, kernel_size=(1, 1), stride=(1, 1), bias=False)\n",
       "      (bn1): BatchNorm2d(512, eps=1e-05, momentum=0.1, affine=True, track_running_stats=True)\n",
       "      (conv2): Conv2d(512, 512, kernel_size=(3, 3), stride=(1, 1), padding=(1, 1), groups=32, bias=False)\n",
       "      (bn2): BatchNorm2d(512, eps=1e-05, momentum=0.1, affine=True, track_running_stats=True)\n",
       "      (conv3): Conv2d(512, 1024, kernel_size=(1, 1), stride=(1, 1), bias=False)\n",
       "      (bn3): BatchNorm2d(1024, eps=1e-05, momentum=0.1, affine=True, track_running_stats=True)\n",
       "      (relu): ReLU(inplace=True)\n",
       "    )\n",
       "    (4): Bottleneck(\n",
       "      (conv1): Conv2d(1024, 512, kernel_size=(1, 1), stride=(1, 1), bias=False)\n",
       "      (bn1): BatchNorm2d(512, eps=1e-05, momentum=0.1, affine=True, track_running_stats=True)\n",
       "      (conv2): Conv2d(512, 512, kernel_size=(3, 3), stride=(1, 1), padding=(1, 1), groups=32, bias=False)\n",
       "      (bn2): BatchNorm2d(512, eps=1e-05, momentum=0.1, affine=True, track_running_stats=True)\n",
       "      (conv3): Conv2d(512, 1024, kernel_size=(1, 1), stride=(1, 1), bias=False)\n",
       "      (bn3): BatchNorm2d(1024, eps=1e-05, momentum=0.1, affine=True, track_running_stats=True)\n",
       "      (relu): ReLU(inplace=True)\n",
       "    )\n",
       "    (5): Bottleneck(\n",
       "      (conv1): Conv2d(1024, 512, kernel_size=(1, 1), stride=(1, 1), bias=False)\n",
       "      (bn1): BatchNorm2d(512, eps=1e-05, momentum=0.1, affine=True, track_running_stats=True)\n",
       "      (conv2): Conv2d(512, 512, kernel_size=(3, 3), stride=(1, 1), padding=(1, 1), groups=32, bias=False)\n",
       "      (bn2): BatchNorm2d(512, eps=1e-05, momentum=0.1, affine=True, track_running_stats=True)\n",
       "      (conv3): Conv2d(512, 1024, kernel_size=(1, 1), stride=(1, 1), bias=False)\n",
       "      (bn3): BatchNorm2d(1024, eps=1e-05, momentum=0.1, affine=True, track_running_stats=True)\n",
       "      (relu): ReLU(inplace=True)\n",
       "    )\n",
       "  )\n",
       "  (layer4): Sequential(\n",
       "    (0): Bottleneck(\n",
       "      (conv1): Conv2d(1024, 1024, kernel_size=(1, 1), stride=(1, 1), bias=False)\n",
       "      (bn1): BatchNorm2d(1024, eps=1e-05, momentum=0.1, affine=True, track_running_stats=True)\n",
       "      (conv2): Conv2d(1024, 1024, kernel_size=(3, 3), stride=(2, 2), padding=(1, 1), groups=32, bias=False)\n",
       "      (bn2): BatchNorm2d(1024, eps=1e-05, momentum=0.1, affine=True, track_running_stats=True)\n",
       "      (conv3): Conv2d(1024, 2048, kernel_size=(1, 1), stride=(1, 1), bias=False)\n",
       "      (bn3): BatchNorm2d(2048, eps=1e-05, momentum=0.1, affine=True, track_running_stats=True)\n",
       "      (relu): ReLU(inplace=True)\n",
       "      (downsample): Sequential(\n",
       "        (0): Conv2d(1024, 2048, kernel_size=(1, 1), stride=(2, 2), bias=False)\n",
       "        (1): BatchNorm2d(2048, eps=1e-05, momentum=0.1, affine=True, track_running_stats=True)\n",
       "      )\n",
       "    )\n",
       "    (1): Bottleneck(\n",
       "      (conv1): Conv2d(2048, 1024, kernel_size=(1, 1), stride=(1, 1), bias=False)\n",
       "      (bn1): BatchNorm2d(1024, eps=1e-05, momentum=0.1, affine=True, track_running_stats=True)\n",
       "      (conv2): Conv2d(1024, 1024, kernel_size=(3, 3), stride=(1, 1), padding=(1, 1), groups=32, bias=False)\n",
       "      (bn2): BatchNorm2d(1024, eps=1e-05, momentum=0.1, affine=True, track_running_stats=True)\n",
       "      (conv3): Conv2d(1024, 2048, kernel_size=(1, 1), stride=(1, 1), bias=False)\n",
       "      (bn3): BatchNorm2d(2048, eps=1e-05, momentum=0.1, affine=True, track_running_stats=True)\n",
       "      (relu): ReLU(inplace=True)\n",
       "    )\n",
       "    (2): Bottleneck(\n",
       "      (conv1): Conv2d(2048, 1024, kernel_size=(1, 1), stride=(1, 1), bias=False)\n",
       "      (bn1): BatchNorm2d(1024, eps=1e-05, momentum=0.1, affine=True, track_running_stats=True)\n",
       "      (conv2): Conv2d(1024, 1024, kernel_size=(3, 3), stride=(1, 1), padding=(1, 1), groups=32, bias=False)\n",
       "      (bn2): BatchNorm2d(1024, eps=1e-05, momentum=0.1, affine=True, track_running_stats=True)\n",
       "      (conv3): Conv2d(1024, 2048, kernel_size=(1, 1), stride=(1, 1), bias=False)\n",
       "      (bn3): BatchNorm2d(2048, eps=1e-05, momentum=0.1, affine=True, track_running_stats=True)\n",
       "      (relu): ReLU(inplace=True)\n",
       "    )\n",
       "  )\n",
       "  (avgpool): AdaptiveAvgPool2d(output_size=(1, 1))\n",
       "  (fc): Linear(in_features=2048, out_features=125, bias=True)\n",
       ")"
      ]
     },
     "execution_count": 78,
     "metadata": {},
     "output_type": "execute_result"
    }
   ],
   "source": [
    "resnext50.to(DEVICE)"
   ]
  },
  {
   "cell_type": "code",
   "execution_count": null,
   "metadata": {
    "colab": {
     "base_uri": "https://localhost:8080/"
    },
    "id": "bcslDBGL0nMD",
    "outputId": "89ce4456-ceeb-4e80-bedc-45343a98b2de",
    "scrolled": false
   },
   "outputs": [
    {
     "name": "stderr",
     "output_type": "stream",
     "text": [
      "\r",
      "epoch:   0%|          | 0/20 [00:00<?, ?it/s]"
     ]
    },
    {
     "name": "stdout",
     "output_type": "stream",
     "text": [
      "loss 3.5416638849403914\n"
     ]
    },
    {
     "name": "stderr",
     "output_type": "stream",
     "text": [
      "epoch:   5%|▌         | 1/20 [04:19<1:22:03, 259.14s/it]"
     ]
    },
    {
     "name": "stdout",
     "output_type": "stream",
     "text": [
      "\n",
      "Epoch 001 train_loss: 3.5417   val_loss 2.4826 train_acc 0.2474 val_acc 0.4515\n",
      "loss 2.2139817654318152\n"
     ]
    },
    {
     "name": "stderr",
     "output_type": "stream",
     "text": [
      "epoch:  10%|█         | 2/20 [08:30<1:16:20, 254.45s/it]"
     ]
    },
    {
     "name": "stdout",
     "output_type": "stream",
     "text": [
      "\n",
      "Epoch 002 train_loss: 2.2140   val_loss 2.1028 train_acc 0.4847 val_acc 0.4909\n"
     ]
    },
    {
     "name": "stderr",
     "output_type": "stream",
     "text": [
      "epoch:  15%|█▌        | 3/20 [12:40<1:11:36, 252.72s/it]"
     ]
    },
    {
     "name": "stdout",
     "output_type": "stream",
     "text": [
      "\n",
      "Epoch 003 train_loss: 1.8998   val_loss 2.0487 train_acc 0.5348 val_acc 0.5025\n",
      "loss 1.634091840225719\n"
     ]
    },
    {
     "name": "stderr",
     "output_type": "stream",
     "text": [
      "epoch:  20%|██        | 4/20 [16:50<1:07:05, 251.58s/it]"
     ]
    },
    {
     "name": "stdout",
     "output_type": "stream",
     "text": [
      "\n",
      "Epoch 004 train_loss: 1.6341   val_loss 1.9090 train_acc 0.5986 val_acc 0.5298\n",
      "loss 1.5825645834444897\n"
     ]
    },
    {
     "name": "stderr",
     "output_type": "stream",
     "text": [
      "epoch:  25%|██▌       | 5/20 [20:58<1:02:35, 250.34s/it]"
     ]
    },
    {
     "name": "stdout",
     "output_type": "stream",
     "text": [
      "\n",
      "Epoch 005 train_loss: 1.5826   val_loss 1.8770 train_acc 0.6089 val_acc 0.5429\n"
     ]
    }
   ],
   "source": [
    "history = train(train_dataset, val_dataset, model=resnext50, epochs=20, batch_size=64, scheduler=exp_lr_scheduler)"
   ]
  },
  {
   "cell_type": "code",
   "execution_count": null,
   "metadata": {
    "id": "amGaLLBu0ter"
   },
   "outputs": [],
   "source": []
  },
  {
   "cell_type": "code",
   "execution_count": null,
   "metadata": {
    "id": "hV5PJmsB0tSB"
   },
   "outputs": [],
   "source": [
    "loss, acc, val_loss, val_acc = zip(*history)\n",
    "val_acc = [val_acc[i].cpu().numpy() for i in range(len(val_acc))]"
   ]
  },
  {
   "cell_type": "code",
   "execution_count": null,
   "metadata": {
    "id": "Gs_MLJsK0nF3"
   },
   "outputs": [],
   "source": [
    "plt.figure(figsize=(15, 9))\n",
    "plt.plot(acc, label=\"train_acc\")\n",
    "plt.plot(val_acc, label=\"val_acc\")\n",
    "plt.legend(loc='best')\n",
    "plt.xlabel(\"epochs\")\n",
    "plt.ylabel(\"loss\")\n",
    "plt.show()"
   ]
  },
  {
   "cell_type": "code",
   "execution_count": null,
   "metadata": {
    "id": "vY2gq1Gw0UzJ"
   },
   "outputs": [],
   "source": [
    "plt.figure(figsize=(15, 9))\n",
    "plt.plot(loss, label=\"train_loss\")\n",
    "plt.plot(val_loss, label=\"val_loss\")\n",
    "plt.legend(loc='best')\n",
    "plt.xlabel(\"epochs\")\n",
    "plt.ylabel(\"loss\")\n",
    "plt.show()"
   ]
  },
  {
   "cell_type": "markdown",
   "metadata": {
    "id": "9FRSTTBHadUb"
   },
   "source": [
    "# ResNeXt (pretrained=False)"
   ]
  },
  {
   "cell_type": "code",
   "execution_count": 33,
   "metadata": {
    "id": "e7sLFceaajfm"
   },
   "outputs": [],
   "source": [
    "resnext50_2 = models.resnext50_32x4d(pretrained=False)\n",
    "#for param in resnext50.parameters():\n",
    "    #param.requires_grad = False\n",
    "\n",
    "num_ftrs = resnext50_2.fc.in_features\n",
    "resnext50_2.fc = nn.Linear(num_ftrs, n_classes)\n",
    "\n",
    "criterion = nn.CrossEntropyLoss()\n",
    "\n",
    "optimizer = torch.optim.SGD(resnext50_2.fc.parameters(), lr=0.001, momentum=0.9)\n",
    "\n",
    "exp_lr_scheduler = lr_scheduler.StepLR(optimizer, step_size=7, gamma=0.1)"
   ]
  },
  {
   "cell_type": "code",
   "execution_count": 34,
   "metadata": {
    "colab": {
     "base_uri": "https://localhost:8080/"
    },
    "id": "b77X0TwNak-l",
    "outputId": "a547a40b-8578-46bd-85e4-11366f0d7bf3"
   },
   "outputs": [
    {
     "data": {
      "text/plain": [
       "ResNet(\n",
       "  (conv1): Conv2d(3, 64, kernel_size=(7, 7), stride=(2, 2), padding=(3, 3), bias=False)\n",
       "  (bn1): BatchNorm2d(64, eps=1e-05, momentum=0.1, affine=True, track_running_stats=True)\n",
       "  (relu): ReLU(inplace=True)\n",
       "  (maxpool): MaxPool2d(kernel_size=3, stride=2, padding=1, dilation=1, ceil_mode=False)\n",
       "  (layer1): Sequential(\n",
       "    (0): Bottleneck(\n",
       "      (conv1): Conv2d(64, 128, kernel_size=(1, 1), stride=(1, 1), bias=False)\n",
       "      (bn1): BatchNorm2d(128, eps=1e-05, momentum=0.1, affine=True, track_running_stats=True)\n",
       "      (conv2): Conv2d(128, 128, kernel_size=(3, 3), stride=(1, 1), padding=(1, 1), groups=32, bias=False)\n",
       "      (bn2): BatchNorm2d(128, eps=1e-05, momentum=0.1, affine=True, track_running_stats=True)\n",
       "      (conv3): Conv2d(128, 256, kernel_size=(1, 1), stride=(1, 1), bias=False)\n",
       "      (bn3): BatchNorm2d(256, eps=1e-05, momentum=0.1, affine=True, track_running_stats=True)\n",
       "      (relu): ReLU(inplace=True)\n",
       "      (downsample): Sequential(\n",
       "        (0): Conv2d(64, 256, kernel_size=(1, 1), stride=(1, 1), bias=False)\n",
       "        (1): BatchNorm2d(256, eps=1e-05, momentum=0.1, affine=True, track_running_stats=True)\n",
       "      )\n",
       "    )\n",
       "    (1): Bottleneck(\n",
       "      (conv1): Conv2d(256, 128, kernel_size=(1, 1), stride=(1, 1), bias=False)\n",
       "      (bn1): BatchNorm2d(128, eps=1e-05, momentum=0.1, affine=True, track_running_stats=True)\n",
       "      (conv2): Conv2d(128, 128, kernel_size=(3, 3), stride=(1, 1), padding=(1, 1), groups=32, bias=False)\n",
       "      (bn2): BatchNorm2d(128, eps=1e-05, momentum=0.1, affine=True, track_running_stats=True)\n",
       "      (conv3): Conv2d(128, 256, kernel_size=(1, 1), stride=(1, 1), bias=False)\n",
       "      (bn3): BatchNorm2d(256, eps=1e-05, momentum=0.1, affine=True, track_running_stats=True)\n",
       "      (relu): ReLU(inplace=True)\n",
       "    )\n",
       "    (2): Bottleneck(\n",
       "      (conv1): Conv2d(256, 128, kernel_size=(1, 1), stride=(1, 1), bias=False)\n",
       "      (bn1): BatchNorm2d(128, eps=1e-05, momentum=0.1, affine=True, track_running_stats=True)\n",
       "      (conv2): Conv2d(128, 128, kernel_size=(3, 3), stride=(1, 1), padding=(1, 1), groups=32, bias=False)\n",
       "      (bn2): BatchNorm2d(128, eps=1e-05, momentum=0.1, affine=True, track_running_stats=True)\n",
       "      (conv3): Conv2d(128, 256, kernel_size=(1, 1), stride=(1, 1), bias=False)\n",
       "      (bn3): BatchNorm2d(256, eps=1e-05, momentum=0.1, affine=True, track_running_stats=True)\n",
       "      (relu): ReLU(inplace=True)\n",
       "    )\n",
       "  )\n",
       "  (layer2): Sequential(\n",
       "    (0): Bottleneck(\n",
       "      (conv1): Conv2d(256, 256, kernel_size=(1, 1), stride=(1, 1), bias=False)\n",
       "      (bn1): BatchNorm2d(256, eps=1e-05, momentum=0.1, affine=True, track_running_stats=True)\n",
       "      (conv2): Conv2d(256, 256, kernel_size=(3, 3), stride=(2, 2), padding=(1, 1), groups=32, bias=False)\n",
       "      (bn2): BatchNorm2d(256, eps=1e-05, momentum=0.1, affine=True, track_running_stats=True)\n",
       "      (conv3): Conv2d(256, 512, kernel_size=(1, 1), stride=(1, 1), bias=False)\n",
       "      (bn3): BatchNorm2d(512, eps=1e-05, momentum=0.1, affine=True, track_running_stats=True)\n",
       "      (relu): ReLU(inplace=True)\n",
       "      (downsample): Sequential(\n",
       "        (0): Conv2d(256, 512, kernel_size=(1, 1), stride=(2, 2), bias=False)\n",
       "        (1): BatchNorm2d(512, eps=1e-05, momentum=0.1, affine=True, track_running_stats=True)\n",
       "      )\n",
       "    )\n",
       "    (1): Bottleneck(\n",
       "      (conv1): Conv2d(512, 256, kernel_size=(1, 1), stride=(1, 1), bias=False)\n",
       "      (bn1): BatchNorm2d(256, eps=1e-05, momentum=0.1, affine=True, track_running_stats=True)\n",
       "      (conv2): Conv2d(256, 256, kernel_size=(3, 3), stride=(1, 1), padding=(1, 1), groups=32, bias=False)\n",
       "      (bn2): BatchNorm2d(256, eps=1e-05, momentum=0.1, affine=True, track_running_stats=True)\n",
       "      (conv3): Conv2d(256, 512, kernel_size=(1, 1), stride=(1, 1), bias=False)\n",
       "      (bn3): BatchNorm2d(512, eps=1e-05, momentum=0.1, affine=True, track_running_stats=True)\n",
       "      (relu): ReLU(inplace=True)\n",
       "    )\n",
       "    (2): Bottleneck(\n",
       "      (conv1): Conv2d(512, 256, kernel_size=(1, 1), stride=(1, 1), bias=False)\n",
       "      (bn1): BatchNorm2d(256, eps=1e-05, momentum=0.1, affine=True, track_running_stats=True)\n",
       "      (conv2): Conv2d(256, 256, kernel_size=(3, 3), stride=(1, 1), padding=(1, 1), groups=32, bias=False)\n",
       "      (bn2): BatchNorm2d(256, eps=1e-05, momentum=0.1, affine=True, track_running_stats=True)\n",
       "      (conv3): Conv2d(256, 512, kernel_size=(1, 1), stride=(1, 1), bias=False)\n",
       "      (bn3): BatchNorm2d(512, eps=1e-05, momentum=0.1, affine=True, track_running_stats=True)\n",
       "      (relu): ReLU(inplace=True)\n",
       "    )\n",
       "    (3): Bottleneck(\n",
       "      (conv1): Conv2d(512, 256, kernel_size=(1, 1), stride=(1, 1), bias=False)\n",
       "      (bn1): BatchNorm2d(256, eps=1e-05, momentum=0.1, affine=True, track_running_stats=True)\n",
       "      (conv2): Conv2d(256, 256, kernel_size=(3, 3), stride=(1, 1), padding=(1, 1), groups=32, bias=False)\n",
       "      (bn2): BatchNorm2d(256, eps=1e-05, momentum=0.1, affine=True, track_running_stats=True)\n",
       "      (conv3): Conv2d(256, 512, kernel_size=(1, 1), stride=(1, 1), bias=False)\n",
       "      (bn3): BatchNorm2d(512, eps=1e-05, momentum=0.1, affine=True, track_running_stats=True)\n",
       "      (relu): ReLU(inplace=True)\n",
       "    )\n",
       "  )\n",
       "  (layer3): Sequential(\n",
       "    (0): Bottleneck(\n",
       "      (conv1): Conv2d(512, 512, kernel_size=(1, 1), stride=(1, 1), bias=False)\n",
       "      (bn1): BatchNorm2d(512, eps=1e-05, momentum=0.1, affine=True, track_running_stats=True)\n",
       "      (conv2): Conv2d(512, 512, kernel_size=(3, 3), stride=(2, 2), padding=(1, 1), groups=32, bias=False)\n",
       "      (bn2): BatchNorm2d(512, eps=1e-05, momentum=0.1, affine=True, track_running_stats=True)\n",
       "      (conv3): Conv2d(512, 1024, kernel_size=(1, 1), stride=(1, 1), bias=False)\n",
       "      (bn3): BatchNorm2d(1024, eps=1e-05, momentum=0.1, affine=True, track_running_stats=True)\n",
       "      (relu): ReLU(inplace=True)\n",
       "      (downsample): Sequential(\n",
       "        (0): Conv2d(512, 1024, kernel_size=(1, 1), stride=(2, 2), bias=False)\n",
       "        (1): BatchNorm2d(1024, eps=1e-05, momentum=0.1, affine=True, track_running_stats=True)\n",
       "      )\n",
       "    )\n",
       "    (1): Bottleneck(\n",
       "      (conv1): Conv2d(1024, 512, kernel_size=(1, 1), stride=(1, 1), bias=False)\n",
       "      (bn1): BatchNorm2d(512, eps=1e-05, momentum=0.1, affine=True, track_running_stats=True)\n",
       "      (conv2): Conv2d(512, 512, kernel_size=(3, 3), stride=(1, 1), padding=(1, 1), groups=32, bias=False)\n",
       "      (bn2): BatchNorm2d(512, eps=1e-05, momentum=0.1, affine=True, track_running_stats=True)\n",
       "      (conv3): Conv2d(512, 1024, kernel_size=(1, 1), stride=(1, 1), bias=False)\n",
       "      (bn3): BatchNorm2d(1024, eps=1e-05, momentum=0.1, affine=True, track_running_stats=True)\n",
       "      (relu): ReLU(inplace=True)\n",
       "    )\n",
       "    (2): Bottleneck(\n",
       "      (conv1): Conv2d(1024, 512, kernel_size=(1, 1), stride=(1, 1), bias=False)\n",
       "      (bn1): BatchNorm2d(512, eps=1e-05, momentum=0.1, affine=True, track_running_stats=True)\n",
       "      (conv2): Conv2d(512, 512, kernel_size=(3, 3), stride=(1, 1), padding=(1, 1), groups=32, bias=False)\n",
       "      (bn2): BatchNorm2d(512, eps=1e-05, momentum=0.1, affine=True, track_running_stats=True)\n",
       "      (conv3): Conv2d(512, 1024, kernel_size=(1, 1), stride=(1, 1), bias=False)\n",
       "      (bn3): BatchNorm2d(1024, eps=1e-05, momentum=0.1, affine=True, track_running_stats=True)\n",
       "      (relu): ReLU(inplace=True)\n",
       "    )\n",
       "    (3): Bottleneck(\n",
       "      (conv1): Conv2d(1024, 512, kernel_size=(1, 1), stride=(1, 1), bias=False)\n",
       "      (bn1): BatchNorm2d(512, eps=1e-05, momentum=0.1, affine=True, track_running_stats=True)\n",
       "      (conv2): Conv2d(512, 512, kernel_size=(3, 3), stride=(1, 1), padding=(1, 1), groups=32, bias=False)\n",
       "      (bn2): BatchNorm2d(512, eps=1e-05, momentum=0.1, affine=True, track_running_stats=True)\n",
       "      (conv3): Conv2d(512, 1024, kernel_size=(1, 1), stride=(1, 1), bias=False)\n",
       "      (bn3): BatchNorm2d(1024, eps=1e-05, momentum=0.1, affine=True, track_running_stats=True)\n",
       "      (relu): ReLU(inplace=True)\n",
       "    )\n",
       "    (4): Bottleneck(\n",
       "      (conv1): Conv2d(1024, 512, kernel_size=(1, 1), stride=(1, 1), bias=False)\n",
       "      (bn1): BatchNorm2d(512, eps=1e-05, momentum=0.1, affine=True, track_running_stats=True)\n",
       "      (conv2): Conv2d(512, 512, kernel_size=(3, 3), stride=(1, 1), padding=(1, 1), groups=32, bias=False)\n",
       "      (bn2): BatchNorm2d(512, eps=1e-05, momentum=0.1, affine=True, track_running_stats=True)\n",
       "      (conv3): Conv2d(512, 1024, kernel_size=(1, 1), stride=(1, 1), bias=False)\n",
       "      (bn3): BatchNorm2d(1024, eps=1e-05, momentum=0.1, affine=True, track_running_stats=True)\n",
       "      (relu): ReLU(inplace=True)\n",
       "    )\n",
       "    (5): Bottleneck(\n",
       "      (conv1): Conv2d(1024, 512, kernel_size=(1, 1), stride=(1, 1), bias=False)\n",
       "      (bn1): BatchNorm2d(512, eps=1e-05, momentum=0.1, affine=True, track_running_stats=True)\n",
       "      (conv2): Conv2d(512, 512, kernel_size=(3, 3), stride=(1, 1), padding=(1, 1), groups=32, bias=False)\n",
       "      (bn2): BatchNorm2d(512, eps=1e-05, momentum=0.1, affine=True, track_running_stats=True)\n",
       "      (conv3): Conv2d(512, 1024, kernel_size=(1, 1), stride=(1, 1), bias=False)\n",
       "      (bn3): BatchNorm2d(1024, eps=1e-05, momentum=0.1, affine=True, track_running_stats=True)\n",
       "      (relu): ReLU(inplace=True)\n",
       "    )\n",
       "  )\n",
       "  (layer4): Sequential(\n",
       "    (0): Bottleneck(\n",
       "      (conv1): Conv2d(1024, 1024, kernel_size=(1, 1), stride=(1, 1), bias=False)\n",
       "      (bn1): BatchNorm2d(1024, eps=1e-05, momentum=0.1, affine=True, track_running_stats=True)\n",
       "      (conv2): Conv2d(1024, 1024, kernel_size=(3, 3), stride=(2, 2), padding=(1, 1), groups=32, bias=False)\n",
       "      (bn2): BatchNorm2d(1024, eps=1e-05, momentum=0.1, affine=True, track_running_stats=True)\n",
       "      (conv3): Conv2d(1024, 2048, kernel_size=(1, 1), stride=(1, 1), bias=False)\n",
       "      (bn3): BatchNorm2d(2048, eps=1e-05, momentum=0.1, affine=True, track_running_stats=True)\n",
       "      (relu): ReLU(inplace=True)\n",
       "      (downsample): Sequential(\n",
       "        (0): Conv2d(1024, 2048, kernel_size=(1, 1), stride=(2, 2), bias=False)\n",
       "        (1): BatchNorm2d(2048, eps=1e-05, momentum=0.1, affine=True, track_running_stats=True)\n",
       "      )\n",
       "    )\n",
       "    (1): Bottleneck(\n",
       "      (conv1): Conv2d(2048, 1024, kernel_size=(1, 1), stride=(1, 1), bias=False)\n",
       "      (bn1): BatchNorm2d(1024, eps=1e-05, momentum=0.1, affine=True, track_running_stats=True)\n",
       "      (conv2): Conv2d(1024, 1024, kernel_size=(3, 3), stride=(1, 1), padding=(1, 1), groups=32, bias=False)\n",
       "      (bn2): BatchNorm2d(1024, eps=1e-05, momentum=0.1, affine=True, track_running_stats=True)\n",
       "      (conv3): Conv2d(1024, 2048, kernel_size=(1, 1), stride=(1, 1), bias=False)\n",
       "      (bn3): BatchNorm2d(2048, eps=1e-05, momentum=0.1, affine=True, track_running_stats=True)\n",
       "      (relu): ReLU(inplace=True)\n",
       "    )\n",
       "    (2): Bottleneck(\n",
       "      (conv1): Conv2d(2048, 1024, kernel_size=(1, 1), stride=(1, 1), bias=False)\n",
       "      (bn1): BatchNorm2d(1024, eps=1e-05, momentum=0.1, affine=True, track_running_stats=True)\n",
       "      (conv2): Conv2d(1024, 1024, kernel_size=(3, 3), stride=(1, 1), padding=(1, 1), groups=32, bias=False)\n",
       "      (bn2): BatchNorm2d(1024, eps=1e-05, momentum=0.1, affine=True, track_running_stats=True)\n",
       "      (conv3): Conv2d(1024, 2048, kernel_size=(1, 1), stride=(1, 1), bias=False)\n",
       "      (bn3): BatchNorm2d(2048, eps=1e-05, momentum=0.1, affine=True, track_running_stats=True)\n",
       "      (relu): ReLU(inplace=True)\n",
       "    )\n",
       "  )\n",
       "  (avgpool): AdaptiveAvgPool2d(output_size=(1, 1))\n",
       "  (fc): Linear(in_features=2048, out_features=125, bias=True)\n",
       ")"
      ]
     },
     "execution_count": 34,
     "metadata": {},
     "output_type": "execute_result"
    }
   ],
   "source": [
    "resnext50_2.to(DEVICE)"
   ]
  },
  {
   "cell_type": "code",
   "execution_count": 36,
   "metadata": {
    "colab": {
     "base_uri": "https://localhost:8080/"
    },
    "id": "D_b2WS_eak3t",
    "outputId": "3b79d27d-7253-4721-ab9d-51d61bb26fd3"
   },
   "outputs": [
    {
     "metadata": {
      "tags": null
     },
     "name": "stderr",
     "output_type": "stream",
     "text": [
      "\r",
      "epoch:   0%|          | 0/10 [00:00<?, ?it/s]"
     ]
    },
    {
     "metadata": {
      "tags": null
     },
     "name": "stdout",
     "output_type": "stream",
     "text": [
      "loss 4.603649364217414\n"
     ]
    },
    {
     "metadata": {
      "tags": null
     },
     "name": "stderr",
     "output_type": "stream",
     "text": [
      "epoch:  10%|█         | 1/10 [08:26<1:16:02, 506.89s/it]"
     ]
    },
    {
     "metadata": {
      "tags": null
     },
     "name": "stdout",
     "output_type": "stream",
     "text": [
      "\n",
      "Epoch 001 train_loss: 4.6036   val_loss 4.4125 train_acc 0.0360 val_acc 0.0505\n",
      "loss 4.360952851454978\n"
     ]
    },
    {
     "metadata": {
      "tags": null
     },
     "name": "stderr",
     "output_type": "stream",
     "text": [
      "epoch:  20%|██        | 2/10 [16:52<1:07:31, 506.39s/it]"
     ]
    },
    {
     "metadata": {
      "tags": null
     },
     "name": "stdout",
     "output_type": "stream",
     "text": [
      "\n",
      "Epoch 002 train_loss: 4.3610   val_loss 4.2250 train_acc 0.0587 val_acc 0.0719\n",
      "loss 4.177381643844518\n"
     ]
    },
    {
     "metadata": {
      "tags": null
     },
     "name": "stderr",
     "output_type": "stream",
     "text": [
      "epoch:  30%|███       | 3/10 [25:19<59:05, 506.44s/it]"
     ]
    },
    {
     "metadata": {
      "tags": null
     },
     "name": "stdout",
     "output_type": "stream",
     "text": [
      "\n",
      "Epoch 003 train_loss: 4.1774   val_loss 4.0993 train_acc 0.0805 val_acc 0.0938\n",
      "loss 3.906841226160081\n"
     ]
    },
    {
     "metadata": {
      "tags": null
     },
     "name": "stderr",
     "output_type": "stream",
     "text": [
      "epoch:  40%|████      | 4/10 [33:46<50:40, 506.74s/it]"
     ]
    },
    {
     "metadata": {
      "tags": null
     },
     "name": "stdout",
     "output_type": "stream",
     "text": [
      "\n",
      "Epoch 004 train_loss: 3.9068   val_loss 3.9581 train_acc 0.1224 val_acc 0.1158\n",
      "loss 3.738589526651841\n"
     ]
    },
    {
     "metadata": {
      "tags": null
     },
     "name": "stderr",
     "output_type": "stream",
     "text": [
      "epoch:  50%|█████     | 5/10 [42:12<42:11, 506.30s/it]"
     ]
    },
    {
     "name": "stdout",
     "output_type": "stream",
     "text": [
      "\n",
      "Epoch 005 train_loss: 3.7386   val_loss 3.8478 train_acc 0.1430 val_acc 0.1340\n",
      "loss 3.565766610381971\n"
     ]
    },
    {
     "name": "stderr",
     "output_type": "stream",
     "text": [
      "epoch:  60%|██████    | 6/10 [50:36<33:42, 505.60s/it]"
     ]
    },
    {
     "name": "stdout",
     "output_type": "stream",
     "text": [
      "\n",
      "Epoch 006 train_loss: 3.5658   val_loss 3.7282 train_acc 0.1722 val_acc 0.1589\n",
      "loss 3.2620534300363673\n"
     ]
    },
    {
     "name": "stderr",
     "output_type": "stream",
     "text": [
      "epoch:  70%|███████   | 7/10 [59:02<25:17, 505.71s/it]"
     ]
    },
    {
     "name": "stdout",
     "output_type": "stream",
     "text": [
      "\n",
      "Epoch 007 train_loss: 3.2621   val_loss 3.6262 train_acc 0.2274 val_acc 0.1842\n",
      "loss 3.0508948362796646\n"
     ]
    },
    {
     "name": "stderr",
     "output_type": "stream",
     "text": [
      "epoch:  80%|████████  | 8/10 [1:07:29<16:52, 506.17s/it]"
     ]
    },
    {
     "name": "stdout",
     "output_type": "stream",
     "text": [
      "\n",
      "Epoch 008 train_loss: 3.0509   val_loss 3.7024 train_acc 0.2610 val_acc 0.1805\n",
      "loss 2.8545060143876775\n"
     ]
    },
    {
     "name": "stderr",
     "output_type": "stream",
     "text": [
      "epoch:  90%|█████████ | 9/10 [1:15:56<08:26, 506.33s/it]"
     ]
    },
    {
     "name": "stdout",
     "output_type": "stream",
     "text": [
      "\n",
      "Epoch 009 train_loss: 2.8545   val_loss 3.6881 train_acc 0.2955 val_acc 0.1869\n",
      "loss 2.4664524097005684\n"
     ]
    },
    {
     "name": "stderr",
     "output_type": "stream",
     "text": [
      "epoch: 100%|██████████| 10/10 [1:24:23<00:00, 506.34s/it]"
     ]
    },
    {
     "name": "stdout",
     "output_type": "stream",
     "text": [
      "\n",
      "Epoch 010 train_loss: 2.4665   val_loss 3.8726 train_acc 0.3788 val_acc 0.1852\n"
     ]
    },
    {
     "name": "stderr",
     "output_type": "stream",
     "text": [
      "\n"
     ]
    }
   ],
   "source": [
    "history = train(train_dataset, val_dataset, model=resnext50_2, epochs=10, batch_size=64, scheduler=exp_lr_scheduler)"
   ]
  },
  {
   "cell_type": "code",
   "execution_count": 38,
   "metadata": {
    "id": "5raHyIqKakzG"
   },
   "outputs": [],
   "source": [
    "loss, acc, val_loss, val_acc = zip(*history)\n",
    "val_acc = [val_acc[i].cpu().numpy() for i in range(len(val_acc))]"
   ]
  },
  {
   "cell_type": "code",
   "execution_count": 39,
   "metadata": {
    "colab": {
     "base_uri": "https://localhost:8080/",
     "height": 551
    },
    "id": "kE2OpwFssGG-",
    "outputId": "550575fd-e600-4552-8761-6be33e3cf767"
   },
   "outputs": [
    {
     "data": {
      "image/png": "[encoded data removed]",
      "text/plain": [
       "<Figure size 1080x648 with 1 Axes>"
      ]
     },
     "metadata": {
      "needs_background": "light"
     },
     "output_type": "display_data"
    }
   ],
   "source": [
    "plt.figure(figsize=(15, 9))\n",
    "plt.plot(acc, label=\"train_acc\")\n",
    "plt.plot(val_acc, label=\"val_acc\")\n",
    "plt.legend(loc='best')\n",
    "plt.xlabel(\"epochs\")\n",
    "plt.ylabel(\"loss\")\n",
    "plt.show()"
   ]
  },
  {
   "cell_type": "code",
   "execution_count": 40,
   "metadata": {
    "colab": {
     "base_uri": "https://localhost:8080/",
     "height": 551
    },
    "id": "LsgIlUntsF7B",
    "outputId": "33b49838-8c99-467e-80df-3edda86461a2"
   },
   "outputs": [
    {
     "data": {
      "image/png": "[encoded data removed]",
      "text/plain": [
       "<Figure size 1080x648 with 1 Axes>"
      ]
     },
     "metadata": {
      "needs_background": "light"
     },
     "output_type": "display_data"
    }
   ],
   "source": [
    "plt.figure(figsize=(15, 9))\n",
    "plt.plot(loss, label=\"train_loss\")\n",
    "plt.plot(val_loss, label=\"val_loss\")\n",
    "plt.legend(loc='best')\n",
    "plt.xlabel(\"epochs\")\n",
    "plt.ylabel(\"loss\")\n",
    "plt.show()"
   ]
  },
  {
   "cell_type": "code",
   "execution_count": 37,
   "metadata": {
    "id": "HvyiSfhWsF0j"
   },
   "outputs": [],
   "source": [
    "test_dataset = CVDataSet(test_files, mode=\"test\")\n",
    "test_loader = DataLoader(test_dataset, shuffle=False, batch_size=40)\n",
    "probs = predict(resnext50_2.to(DEVICE), test_loader)\n",
    "test_filenames = [path.name for path in test_dataset.files]\n",
    "preds = np.argmax(probs, axis=1)\n",
    "\n",
    "df = pd.DataFrame()\n",
    "df['image'] = test_filenames\n",
    "df['label'] = preds\n",
    "df.to_csv('gdrive/My Drive/cv2022spring_5.csv', index=False)"
   ]
  }
 ],
 "metadata": {
  "accelerator": "GPU",
  "colab": {
   "collapsed_sections": [],
   "name": "cv2022spring.ipynb",
   "provenance": []
  },
  "kernelspec": {
   "display_name": "Python 3",
   "language": "python",
   "name": "python3"
  },
  "language_info": {
   "codemirror_mode": {
    "name": "ipython",
    "version": 3
   },
   "file_extension": ".py",
   "mimetype": "text/x-python",
   "name": "python",
   "nbconvert_exporter": "python",
   "pygments_lexer": "ipython3",
   "version": "3.8.5"
  }
 },
 "nbformat": 4,
 "nbformat_minor": 1
}
